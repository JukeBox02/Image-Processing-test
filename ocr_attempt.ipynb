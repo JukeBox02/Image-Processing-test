{
  "nbformat": 4,
  "nbformat_minor": 0,
  "metadata": {
    "colab": {
      "provenance": []
    },
    "kernelspec": {
      "name": "python3",
      "display_name": "Python 3"
    },
    "language_info": {
      "name": "python"
    }
  },
  "cells": [
    {
      "cell_type": "code",
      "source": [
        "from google.colab import drive\n",
        "drive.mount('/content/drive')"
      ],
      "metadata": {
        "colab": {
          "base_uri": "https://localhost:8080/"
        },
        "id": "5_wa7LsleSjV",
        "outputId": "a9cfdbec-58be-4fb7-f5f7-eb78b9fac60c"
      },
      "execution_count": null,
      "outputs": [
        {
          "output_type": "stream",
          "name": "stdout",
          "text": [
            "Drive already mounted at /content/drive; to attempt to forcibly remount, call drive.mount(\"/content/drive\", force_remount=True).\n"
          ]
        }
      ]
    },
    {
      "cell_type": "code",
      "source": [
        "\n",
        "\n",
        "!sudo apt-get install tesseract-ocr"
      ],
      "metadata": {
        "colab": {
          "base_uri": "https://localhost:8080/"
        },
        "id": "mBCZ2NFqfP5m",
        "outputId": "5656153e-fc86-47cf-c382-61a82d59c4f0"
      },
      "execution_count": null,
      "outputs": [
        {
          "output_type": "stream",
          "name": "stdout",
          "text": [
            "Reading package lists... Done\n",
            "Building dependency tree       \n",
            "Reading state information... Done\n",
            "The following package was automatically installed and is no longer required:\n",
            "  libnvidia-common-510\n",
            "Use 'sudo apt autoremove' to remove it.\n",
            "The following additional packages will be installed:\n",
            "  tesseract-ocr-eng tesseract-ocr-osd\n",
            "The following NEW packages will be installed:\n",
            "  tesseract-ocr tesseract-ocr-eng tesseract-ocr-osd\n",
            "0 upgraded, 3 newly installed, 0 to remove and 21 not upgraded.\n",
            "Need to get 4,850 kB of archives.\n",
            "After this operation, 16.3 MB of additional disk space will be used.\n",
            "Get:1 http://archive.ubuntu.com/ubuntu focal/universe amd64 tesseract-ocr-eng all 1:4.00~git30-7274cfa-1 [1,598 kB]\n",
            "Get:2 http://archive.ubuntu.com/ubuntu focal/universe amd64 tesseract-ocr-osd all 1:4.00~git30-7274cfa-1 [2,990 kB]\n",
            "Get:3 http://archive.ubuntu.com/ubuntu focal/universe amd64 tesseract-ocr amd64 4.1.1-2build2 [262 kB]\n",
            "Fetched 4,850 kB in 1s (5,254 kB/s)\n",
            "debconf: unable to initialize frontend: Dialog\n",
            "debconf: (No usable dialog-like program is installed, so the dialog based frontend cannot be used. at /usr/share/perl5/Debconf/FrontEnd/Dialog.pm line 76, <> line 3.)\n",
            "debconf: falling back to frontend: Readline\n",
            "debconf: unable to initialize frontend: Readline\n",
            "debconf: (This frontend requires a controlling tty.)\n",
            "debconf: falling back to frontend: Teletype\n",
            "dpkg-preconfigure: unable to re-open stdin: \n",
            "Selecting previously unselected package tesseract-ocr-eng.\n",
            "(Reading database ... 128048 files and directories currently installed.)\n",
            "Preparing to unpack .../tesseract-ocr-eng_1%3a4.00~git30-7274cfa-1_all.deb ...\n",
            "Unpacking tesseract-ocr-eng (1:4.00~git30-7274cfa-1) ...\n",
            "Selecting previously unselected package tesseract-ocr-osd.\n",
            "Preparing to unpack .../tesseract-ocr-osd_1%3a4.00~git30-7274cfa-1_all.deb ...\n",
            "Unpacking tesseract-ocr-osd (1:4.00~git30-7274cfa-1) ...\n",
            "Selecting previously unselected package tesseract-ocr.\n",
            "Preparing to unpack .../tesseract-ocr_4.1.1-2build2_amd64.deb ...\n",
            "Unpacking tesseract-ocr (4.1.1-2build2) ...\n",
            "Setting up tesseract-ocr-eng (1:4.00~git30-7274cfa-1) ...\n",
            "Setting up tesseract-ocr-osd (1:4.00~git30-7274cfa-1) ...\n",
            "Setting up tesseract-ocr (4.1.1-2build2) ...\n",
            "Processing triggers for man-db (2.9.1-1) ...\n"
          ]
        }
      ]
    },
    {
      "cell_type": "code",
      "source": [
        "!pip install pytesseract==0.3.9"
      ],
      "metadata": {
        "colab": {
          "base_uri": "https://localhost:8080/"
        },
        "id": "CeT-x1Fli6Z7",
        "outputId": "ad6d61bb-b115-4cc7-91ca-376ab2a021aa"
      },
      "execution_count": null,
      "outputs": [
        {
          "output_type": "stream",
          "name": "stdout",
          "text": [
            "Looking in indexes: https://pypi.org/simple, https://us-python.pkg.dev/colab-wheels/public/simple/\n",
            "Collecting pytesseract==0.3.9\n",
            "  Downloading pytesseract-0.3.9-py2.py3-none-any.whl (14 kB)\n",
            "Requirement already satisfied: packaging>=21.3 in /usr/local/lib/python3.8/dist-packages (from pytesseract==0.3.9) (23.0)\n",
            "Requirement already satisfied: Pillow>=8.0.0 in /usr/local/lib/python3.8/dist-packages (from pytesseract==0.3.9) (9.4.0)\n",
            "Installing collected packages: pytesseract\n",
            "  Attempting uninstall: pytesseract\n",
            "    Found existing installation: pytesseract 0.3.10\n",
            "    Uninstalling pytesseract-0.3.10:\n",
            "      Successfully uninstalled pytesseract-0.3.10\n",
            "Successfully installed pytesseract-0.3.9\n"
          ]
        }
      ]
    },
    {
      "cell_type": "code",
      "execution_count": null,
      "metadata": {
        "colab": {
          "base_uri": "https://localhost:8080/"
        },
        "id": "Zuyv9eo7d4Nb",
        "outputId": "5558c46d-ca48-42c5-972f-1349220f17a5"
      },
      "outputs": [
        {
          "output_type": "stream",
          "name": "stdout",
          "text": [
            "dict_keys(['level', 'page_num', 'block_num', 'par_num', 'line_num', 'word_num', 'left', 'top', 'width', 'height', 'conf', 'text'])\n",
            "['', '', '', '', '‘', 'Cc', 'CXMBG', 'International', 'Inc.', '', '', '', '4', 'WETCHUN', 'MACLEOD', '&', 'GROVE', 'PUGLIC', 'REL.', '', '*', 'ous', '4', 'GATEWAY', 'CENTER', '', 'PITTSBURGH,', 'Ph.', '18222', '', '', '', ' ', '', '', '', ' ', '', '', '', 'BROWN', '&', 'WILLZAMSON', 'TowaccL', 'CORP.', 'MATL', 'REMITTANCE', 'To', '', 'P.', '0.', 'Box', '35090', 'KM', 'GG', 'INTERNATIONAL', 'THE.', '', '160g', 'veST', 'HILL', 'STREET', '&', 'GATEWAY', 'CENTER', '', 'LOUZSWILLEs', 'MY', 'AUZ32', 'PITTSBURGH,', 'PA,', '15222', '', 'ATIN', 'MRe', 'BRADLEY', 'Le', 'ROCKER', 'ATIN.', 'TREASURY', 'DEPARTMENT', '', 'WANAGER', 'MARKETING', 'ACTIVITIES', 'DUNS', 'NO»', '00-791-5937', '', 'wes', 'eodsisess', 'oe', '/B2', 'vax', '10792761', '', '', '', ' ', '', '', '', ' ', '', '', '', ' ', ' ', '', '', '', 'BELAIR', '', 'Py', 'Be', 'SLeYECES', 'as', 'ar', '1672628', '1,671625', '', 'TELE-LONG', 'DISTANCE', 'a¢2181', '32:27', '2', '', 'TOTALS', 'Le7OR—S2', '2,702652', '', 'AGENCY', 'COMM', '', 'sor', 'TOTALS', '1,702.52', '4472:', '', '', '', '8TeeS0099', '', '', '', '   ', '', '', '', '']\n",
            "['‘', 'Cc', 'CXMBG', 'International', 'Inc.', '4', 'WETCHUN', 'MACLEOD', '&', 'GROVE', 'PUGLIC', 'REL.', '*', 'ous', '4', 'GATEWAY', 'CENTER', 'PITTSBURGH,', 'Ph.', '18222', 'BROWN', '&', 'WILLZAMSON', 'TowaccL', 'CORP.', 'MATL', 'REMITTANCE', 'To', 'P.', '0.', 'Box', '35090', 'KM', 'GG', 'INTERNATIONAL', 'THE.', '160g', 'veST', 'HILL', 'STREET', '&', 'GATEWAY', 'CENTER', 'LOUZSWILLEs', 'MY', 'AUZ32', 'PITTSBURGH,', 'PA,', '15222', 'ATIN', 'MRe', 'BRADLEY', 'Le', 'ROCKER', 'ATIN.', 'TREASURY', 'DEPARTMENT', 'WANAGER', 'MARKETING', 'ACTIVITIES', 'DUNS', 'NO»', '00-791-5937', 'wes', 'eodsisess', 'oe', '/B2', 'vax', '10792761', 'BELAIR', 'Py', 'Be', 'SLeYECES', 'as', 'ar', '1672628', '1,671625', 'TELE-LONG', 'DISTANCE', 'a¢2181', '32:27', '2', 'TOTALS', 'Le7OR—S2', '2,702652', 'AGENCY', 'COMM', 'sor', 'TOTALS', '1,702.52', '4472:', '8TeeS0099']\n"
          ]
        }
      ],
      "source": [
        "# import cv2\n",
        "# import pytesseract\n",
        "# from PIL import Image\n",
        "\n",
        "# # im1 = Image.open(r'path where the JPG is stored\\file name.jpg')\n",
        "\n",
        "\n",
        "# # Load the image\n",
        "# image = cv2.imread(\"/content/drive/MyDrive/images1/bi/PMI-472000-2_std.jpg\")\n",
        "\n",
        "# # Perform OCR on the image\n",
        "# # image.save(r'/content/drive/MyDrive/images1/bi/PMI-472000-2_std.png')\n",
        "# text = pytesseract.image_to_string(image)\n",
        "\n",
        "# # Print the extracted text\n",
        "# print(text)\n",
        "import pytesseract\n",
        "from pytesseract import Output\n",
        "from PIL import Image\n",
        "import cv2\n",
        "imag = cv2.imread('/content/drive/MyDrive/images1/gi/0000137486_std.jpg')\n",
        "d = pytesseract.image_to_data(imag, output_type=Output.DICT)\n",
        "print(d.keys())\n",
        "print(d['text'])\n",
        "nl = [x for x in d['text']if (x != '') and (x != ' ') and (x != '   ')]\n",
        "print(nl)"
      ]
    },
    {
      "cell_type": "code",
      "source": [
        "# import cv2\n",
        "import glob\n",
        "path = \"/content/drive/MyDrive/images1/*/*.*\"\n",
        "for file in glob.glob(path):\n",
        "   print(file)\n",
        "   imag = cv2.imread(file)\n",
        "   d = pytesseract.image_to_data(imag, output_type=Output.DICT)\n",
        "   nl = [x for x in d['text']if (x != '') and (x != ' ') and (x != '   ')]\n",
        "   print(nl)"
      ],
      "metadata": {
        "colab": {
          "base_uri": "https://localhost:8080/"
        },
        "id": "y3voPZQOplO4",
        "outputId": "55c4b580-1e09-44af-a6fb-33d75d3f5fc2"
      },
      "execution_count": null,
      "outputs": [
        {
          "output_type": "stream",
          "name": "stdout",
          "text": [
            "/content/drive/MyDrive/images1/bi/TTP-19-1012_gP2AGft_std.jpg\n",
            "['.', 'International', 'xs', 'Sold', 'BELLEVUE', 'PROPERTIES', 'PTE', 'LTD', 'To:', '9', 'RAFFLES', 'PLACE', ':', 'TTP-19-1012', '#12-01', 'REPUBLIC', 'PLAZA', '1', 'SINGAPORE', '048619', 'D', '0504/2019', 'Attn:', 'MS', 'ADELINE', 'ONG', 'BEING', 'COMMISSION', 'EARNED', 'FOR', 'THE', 'TAPESTRY', 'Please', 'remit', 'the', 'total', 'cost', 'of', 'SGD', '112,149.05', 'to', 'the', 'following:', 'NK', 'C', 'ORAI']\n",
            "/content/drive/MyDrive/images1/bi/PMI-472353-2_05Y3HcR_std.jpg\n",
            "['FOR', 'ANY', 'COMP', 'AUNT', 'RIGAROGNS', 'WORKLEOF', 'SHRWEL', 'Contact', '+', '690', 'S78', 'aa4an', '(COM)', 'Oe!', 'eked', 'CrO', 'gm', 'com', 'we', 'Oe', 'ee', 'Od', 'eT', 'Omeremtesiers', '(em', 'ee', 'oe', 'od', 'Pieeee', 'content', 'WER', 'pervene', 'at', 'Mee', 'te', 'ba)', 'D047', 'Oe', 'terete', '(ere', 'ntreS', 'mere', 'he', 'joo}', '42', '7900', 'Py\"', 'b', '&', 'plreet', '+', 'FJ', 'Jocluahwsd', '_', '19154', '4', '|—']\n",
            "/content/drive/MyDrive/images1/bi/PMI-472081-1_std.jpg\n",
            "[]\n",
            "/content/drive/MyDrive/images1/bi/PMI-472031-7_dot__std.jpg\n",
            "['paneer', 'neti', 'A', 'Aen', 'er', 'dean', 'cen', 'af', 'GLASS', 'EXPERT', '  ', '  ', 'ARANGSSUIA', 'WALCL', 'QM', 'ASSY', '&', 'G7CB7000', '«1', '«EA', 'd4BH3@', '1,484.38', 'G0', 'NBR', 'TR', 'tk', '207.8', '4', '$3115', 'ST', 'BLACK', ':', 'QANGBADITIN', 'VALVE', '-', 'TUBCLESS', 'g79g7000', '1', '«=', '€A', '32.8!', '7.81.00', 'EBL', 'gk', '889', 'TYRE', ':', 'OLORDUTOSOLSN', 'SPLASH', 'SHTECD', '7089760', '«$0', '«EA', '235.59', '235.94', '«6.00', '238.94', 'fh', 'S034', '5503', 'SHORTHER', 'FRONT', '5', '‘', '175.42', '6.00', '125.42', '§', '41,27', 'q', '4.28', '  ', 'Part', 'Total', 'Itezs:', 'Part', 'Net', 'cty.:', ':', '30.478.', '00', '  ', '  ', 'laration', '$4,', 'Worn', 'out', 'sarts', 'fexceot', 'under', 'r', 'hartank', '“ancl.', 'bi-tolléctad', '«ith', 'the', 'ceoaired', 'unit.', 'Tivrsise', 'they', 'will', 'be', 'pare', 'without', 'any', 'notice', 'and', 'rd', ',', 'sal', 'tage', 'yaloe', '(ghh', 'tee', 'aloved.', '«', 'Prices', 'and', 'taxes', 'are', 'subiect', 'ite', 'foxisicn', 've', 'anyetrage', 'intisation', 'and', 'the', 'sage', 'are', 'charged', 'at', 'the', 'ruling', 'ra', '=', 'oavable', 'on', 'deaand.', 'Ee', 'ine', '_Mansietien', 'is', 'bees', 'to', 'have,', 'Cong:', 'Masha}', '“and', 'the', 'courts.', 'Aachuding', 'consuaer', 'Foruas', 'at', '(Nashik?', '    ', '  ', 'vetronic', 'Reference', 'Number', '*', ':', 'RBR19TOO0387', 'Date', '«:', '29-JAN-19', '16:46:29', 'eee', 'eee', 'ween', 'nn', 'nn', 'en', 'ener', 'nn', 'een', 'ne', 'ene', 'none:', 'Oe', 'ee', 'eee', 'ee', 'meme', 'eae', 'ak', 'me', 'ee', 'a', 'gt', '0', 'ts', 'we', 'ee', 'aw', '6S7', 'Sussary', 'Central', 'GST', 'SZ\"', 'State', '6ST', 'LH', ',', '0.00', '7.005.70', 'e', ' 4', '|', '0.00.', '925,78', '  ', '‘hemor', 'sinfiremetmntenesgeitintenenttannenarennren', 'enone', ',', 'Scanned', 'by', 'CamScanner']\n",
            "/content/drive/MyDrive/images1/bi/PMI-472634-1_std.jpg\n",
            "['IGNMENT', 'NCING', '=4', 'WH']\n",
            "/content/drive/MyDrive/images1/bi/PMI-472353-1_std.jpg\n",
            "['STANDARD', 'AUTO', 'AGENCIES', 'MARUTI', 'AUTHORISED', 'SALES', '&', 'SERVICE', 'STATION', 'Behind', 'Pachouri', 'petrol', 'pump,', 'Near', 'Dindayal', 'chowk,', 'Damoh', 'Naka', 'road,', 'Vijay', 'Nagar', 'JABALPUR', 'Tel', ':', '(0761)', '4038001,', '4038002', '—', 'emaii:', 'st', 'andard.jab.srv2@marutidealers.com', 'GSTINNO:23ACRP', 'A3038M1ZL', 'FOR', 'ANY', 'COMPLAINT', 'REGARDING', 'WORKSHOP.', 'SERVICE', 'Contact', ':', '930', '378', '8848', '(CCM)', 'e-mail', '«', 'standard-ws@gmail.com', 'or', 'standard.', 'jab-srv2@marutidealers.com', 'If', 'you', 'are', 'not', 'satisfied', 'with', 'the', 'workshop', 'response,', 'Please', 'contact', 'MSIL', 'service', 'at', 'Mob:', '968', '542', '2447', '~', 'ee', '‘3', 'aka', 'ea', 'email:', 'service.careindore@maruti.co.in']\n",
            "/content/drive/MyDrive/images1/bi/PMI-472000-2_std.jpg\n",
            "[]\n",
            "/content/drive/MyDrive/images1/bi/PMI-472031-2_std.jpg\n",
            "['  ', '  ', '  ', 'aulke,', 'Ph.:', '(023S2)', '279085', ';', 'sh', 'tik:', 'EE', ':', ':', 'sHHL20F9978', '‘RO', 'Bill', 'No.', ':RBRI9TOOOSE7', 'EMAHTNDRA', 'TUVSOO', 'TEt', '=', 'Ro', 'Bit)', 'Date', '229-JAN-19', '162', '    ', '  ', '     ', 'Cust.', 'GSTINs', '27AAFCAQ?2SK12R', 'Reo', 'No', '%', '27.', 'Hodel', '  ', '    ', 'Cust.', 'GSTIN:', '  ', '  ', '  ', '  ', '  ', '  ', '  ', '  ', '    ', 'State', 'Cd.', 'State', 'Cd.', 'ATTE', 'Cust.', 'Code', ':', '190541955', 'Cust.', 'Code', '+', '(190145574', 'ES', '.', '2RO19T001502', 'Nese', 'D', 'AUTOMOTIVE', 'LTD', 'Cust.Mawe', ':', 'ALD', 'AUTOMOTIVE', 'PVT.', 'Chass', 'Ko', '13604548)', 'r31-DEC-18', 'Address', '.', '3/A/P-UNIT', 'NO-1802', 'LT).', 'Enaine', 'No.', 'sXXXX%', '0', 'sPAVAN', 'PAI', ':', 'UNIT', 'NO', '1892', 'TOWER', 'Sold', 'Date', ':17-JUL~18', '00:00:01', 'AZABTB.', 'TOKER', 'A', 'OF', 'PENSULA', 'Address', 'BUSSINESS', 'PARK', 'te', '-', 'A', 'OF', 'PENIRSULA', 'Pay', 'Mode', '    ', 'faharashtra', 'Pat', 'PIN:400913-—', ')', 'a', 'State', ':', 'iaoeeus.', 'F', '‘', 'wy', 'Phone', ';', '4', '.', 'ote', 'Grad', 'Part', 'Na/lat', ' ‘Part/tsb', '—-RSN/SAC', 'tr', 'i', 'Taxable', '  ', 'Sr.R', 'Part', 'Ho/Lat', 'Part/Lab', 'cade', 'Descrioticn', 'value', 'fant.', 'PARTS', ':', '  ', '1', 'OL02CUSOOOSCHACED', 'U3O1', 'BRKT', '97089900', '«1', 'FENDER', 'MTG', 'ASSY', 'RH', '2', 'OSD4CAAOI95ON', 'RHEL', 'CAP', 'DIA', '204', '87087000', '1', '445.31', 'MEINCY', 'MOBILE:', '3', 'LISTSRISTIRE', 'Local', 'Svare', 'Part', '_', '52029900', '¢', '5.265203', '5', '.782.03', '  ', 'ATE', 'KER', '_—', ':', '12', '89002611', 'Local', 'Soare', 'Part', '40111010', '1', 'PAC', '628.91', '628.91', 'Consumable-WUERTH', '4', 'e', \"'\", '  ', '*', 'WINDSHIELD', 'GLASS', ':', '-', '-', '’', 'SEALENT', '7', 'age', ':', 'ee:', 'RIBS', 'me', '4', 'otosznwoos7in', 'soeiver', 'PLASTIC-2', '87009900', '&', 'EA', '“10-16,', '60.96', '0.00%', 'IN', 'Bs', 'Me', '}', ';', '14', 'OLIVAUSODIGON', 'FRONT', 'BUMPER', 'W\\\\O', '85122010', '1', 'EA’', '2.483,05', '2,483.05', '©', '0.00', '2.483.057', '9', 'Ba', '>', '“pypay', 'PAINT', 'N', 'FOG', 'LAMP', 'FA', '3,000.85', '3,000.85', '0.00', \" 3.000,8'\", '9', '970.08', '9', '270.08', '  ', '    ', '  ', ']', '15', '|', '1701AU3CCO71N', 'HEAD', 'LAMP', 'ASSY', 'RH', '85122010', '©', '1', 'WITHOUT', 'SB,', '16', 'DOTABFO25', 'MAXIMILE', 'BRAKE', '38190010', '1', 'EA', '158.47', '158.47', '0.00', 'aie)', 'FLUID', 'DOT', '4-25¢al', 'i,', 'cLULLO', 'HALIKILE', 'ULTRACOOL', '38200000', '1', 'EA', '233.05', '233,05', ':', '-TLTR', '18.', 'unre', 'arances', 'U301', 'PANEL', '870g9900', '«6106', 'EA', '2.339.842', '.', '~', 'FENDER', 'RH', 'nnteer', 'rE', 'COPYELY', 'HINDSHTELD70071100', 'Scanned', 'with', 'CamScanner']\n",
            "/content/drive/MyDrive/images1/bi/PMI-472394-1_4N1dKuu_std.jpg\n",
            "['‘', 'STL', 'LO', '5', 'iabour', 'ripe', 'My', 'fesler', 'SOTIS', '[', 'iy:', 'pS', 'deaanded', 'Radairs-2', 'Obaa', 'aoe', '&', '=', 'x', 'z', 'S', 'bunArCROT2HE4RY', 'iu', 'Hens', '}', 'Recaaaendations', '+', 'ar', ';', '|', '}', '(aut', 'aad', '  ', 'FSSBFALZE', '(Authorised', 'Maruti', 'cao', '5th', 'K.M.', 'Stone,', 'Sirsa', 'Road,', 'Hisar-125001', 'Jestee', 'tea', 'oPh:', '  ', 'STARILE', 'REPAIR', 'i', 'htpan', 'Gist', 'ak', 'VESEHRET', 'VIGhScuTE', '860227', '%020,2%,', 'For', 'insurance', '“8687777045460', 'i', '6', '‘ier', '8', '8607777043-44,', 'Email', ':', 'Hissar.', 'sr.', 'ene', '7', 'were', 'explained', 'i', 'a:', 'de', '2', 'aht', 'SEORig', ')', '  ', '~', '£—', '&=', 'Caring', 'for', 'Customers', '}', ')', 'ii', '}', 'z', 'tea', '}', 'fy.', 'fete', 'Te', 'ae', 'ote', 'aes', 'oie', 'ie', 'Ree', 'ere', '5', ')', ':', '$4', '14048', '}', 'ws', '949.00', 'dtte', '  ', 'ag', 'receiving', 'the', '<ehacte', 'poe', '196996', '“7-16', 'iy', 'de', 'sat', 'fat', 'any', 'cnaps', \"paguh'e\", '-', 'caagletion', 'of', 'resaars:sérvice', 'ea', '1900.02)', '~', 'ThEzL4', '[Zuse)']\n",
            "/content/drive/MyDrive/images1/bi/Testoil_Invoice_P17036_dot__std_std.jpg\n",
            "['TESTOIL', 'insight', 'Services,', 'inc.', '203.', 'Progress', 'Orwe', 'Chevetand,', 'CPt', '40008', 'uba', 'Vows', '(206)', '251-2510', 'r-', 'Qe)', '51-255', 'ONater', 'Mees', 'SKY', 'Genera', 'NOS4', 'Cons', 'Ter', 'ings', 'Roms', 'Saiwihe', 'Wr)', 'SOND', 'Cure', 'towers', 'ID', 'seer', 'Sater', 'Ree', 'O', 'INVOICE', 'Wewome', 'Mumter', 'PTO', 'wewcoge', 'Cate', 'Aug', '%.', '2021', 'Page', '1', 'hep', 'abe', 'BAe', 'ONarter', 'Tieet', 'Chewetianss', 'Rode', 'a', 'VMarterarce', '£900', 'fant', 'G0', 'Dene', 'Coyatege', 'Megtts', 'Of', '46125', 'USA', 'Case', 'termes', 'PO', 'P', 'ayract', 'Term', '70237', 'fuet', '7D', 'Oays', 'Supping', 'ethos', 'Shp', 'ete', 'Dust', 'O', 'atte', 'th', 'at', 'aot', 'Ore', 'ec', 'ri', 'gtnon', 'Usa', 'Pree', 'Remon', 'Augen!', 'Lamping', 'vind', 'oP', 'ae', \"'®\", 'oo', 'Raemgher', 'Worm', 'aber', 'thers', 'ery', 'genet', 'Tanotat', 'Lom', 'Sates', 'Tae', 'Toft', 'Newco', 'Arment', 'eco', 'Paymert', 'Creat', 'Aggies', 'TOT']\n",
            "/content/drive/MyDrive/images1/gi/PMI-475376-1_std.jpg\n",
            "['Sai', 'international', 'Hotel,', 'PY', 'R', '“', 'Vehicle', 'No,', '“RAS', 'INGIY', 'KM:', 'Reading', '-', '5', '2', 'TUV-30_', 'SERVICE', 'casH', 'BILL', 'weg']\n",
            "/content/drive/MyDrive/images1/gi/2084024865_std.jpg\n",
            "['    ', '  ', '  ', '&', 'LEO', 'BURNETT', 'U.S.A.\"', '\"S', ':', 'Me', '.', 'es', 'RH', '4', 'PRINT', 'PRODUCTION', 'ESTIMATE', 'on', 'Bare', 'see', 'a', '4', '  ', 'RUFIS', 'woRnrs', '1G.', 'LENT', '“ID', '-', 'aR', 'st', '3', '    ', '  ', '  ', '  ', '  ', '  ', 'iG', '$', '(ON', 'i', '=', 'FRORRERRHNG™', 'FES.', 'TOTAL', 'VESUALS', 'Re', 'PTF', 'rorat,', 'sTupT0.', '©', 'partie', 'NaTERTAL', '©', 'ot', '_', 'OTHER', 'SEE', 'NoTESY\"']\n",
            "/content/drive/MyDrive/images1/gi/PMI-472131-1_std.jpg\n",
            "[';', 'Pmy', '|', 'r!31']\n",
            "/content/drive/MyDrive/images1/gi/0000137486_std.jpg\n",
            "['‘', 'Cc', 'CXMBG', 'International', 'Inc.', '4', 'WETCHUN', 'MACLEOD', '&', 'GROVE', 'PUGLIC', 'REL.', '*', 'ous', '4', 'GATEWAY', 'CENTER', 'PITTSBURGH,', 'Ph.', '18222', 'BROWN', '&', 'WILLZAMSON', 'TowaccL', 'CORP.', 'MATL', 'REMITTANCE', 'To', 'P.', '0.', 'Box', '35090', 'KM', 'GG', 'INTERNATIONAL', 'THE.', '160g', 'veST', 'HILL', 'STREET', '&', 'GATEWAY', 'CENTER', 'LOUZSWILLEs', 'MY', 'AUZ32', 'PITTSBURGH,', 'PA,', '15222', 'ATIN', 'MRe', 'BRADLEY', 'Le', 'ROCKER', 'ATIN.', 'TREASURY', 'DEPARTMENT', 'WANAGER', 'MARKETING', 'ACTIVITIES', 'DUNS', 'NO»', '00-791-5937', 'wes', 'eodsisess', 'oe', '/B2', 'vax', '10792761', 'BELAIR', 'Py', 'Be', 'SLeYECES', 'as', 'ar', '1672628', '1,671625', 'TELE-LONG', 'DISTANCE', 'a¢2181', '32:27', '2', 'TOTALS', 'Le7OR—S2', '2,702652', 'AGENCY', 'COMM', 'sor', 'TOTALS', '1,702.52', '4472:', '8TeeS0099']\n",
            "/content/drive/MyDrive/images1/gi/PMI-474722-1_std.jpg\n",
            "['  ', '  ', 'BULK', 'eV', 'Fede!', 'D.', 'Mahindra', 'crugram122004', '“', 'Ph:', '0124-4410000,', 'Website:', 'www.konceptmahindra.com', '*', 'Pot)', 'UF', 'FV', 'CIN', 'No.U34102DL20006PTC150636,', 'GST', 'No.', 'O6AACCK8444R1ZV', '  ', '  ', '  ', '    ', '-BILLTO', '    ', 'VEHICLE', 'INFO', 'INVOICE', 'INFO', 'Jf', ':', 'HR26CZ6673', 'RO', 'Bill', 'No.', 'RBR19B010997', '  ', '  ', 'oan', '¢', 'st.', 'gsm', '3', 'See', 'cae:', '$', 'Si', 'tat', '_', 'Model', '+', 'XUV500', 'R', '1.99', 'FWD', 'W10', 'Re', '_', 'Date', ':', 'Ene:', '322', 'Cust.Code', ':', 'C197445391', 'jenna', ':', '190609664', '|', 'AT', 'FEO', 'SE', '.', ':', ',', '|', 'Name', 'eer', 'Cust.Name', ':', 'ALD', 'AUTOMOTIVE.', 'ENT:', '|', '|', 'Soo', 'yee', '2', 'Set', 'RO', 'Date', ':', '02-MAR-19', '09:59:00', '—', 'SAName', ':', 'ARGHYA', 'Address', 'some', 'No.', '-', '1301', '&', '1302,', '.', 'Address', ':', 'OFFICE', 'NO.', '1201', 'Awe', '|', '|', 'Sold', 'Date', ':', '06-NOV-16', '00:00:00', 'Mileage', 'sre', 'i', '13th', 'Floor,', 'JMD', 'Regent', '|', ':', 'Service', 'Type', ':', 'RUNNING', 'REPAIR', 'Square,', 'MG', 'Road,', 'aa', ':', 'REGENT', 'SQUARE', 'MG', '|', 'PayMode', ':', 'ype', '_', 'Gurgaon', '-', '422008', 'ROAD', 'Haryana', 'Key', 'Account', ':', 'SaleType', '=:', 'Within', 'State', 'State', 'PIN:122008', ':', 'Leasing', 'Client', 'Phone', '|', 'WBYSfBse7', '8320795367', 'State', ':', 'Haryana', 'K', 'Parts:', '6', 'Phone', 'See', 'ee', 'eee', 'Ca', 'bas', 'RONT', 'DISC', 'BRAKE', '|', '928729', '264.00', '264.00', 'a', '023.7', 'AD', '(TWO)-', 'RNR', '»', '-)', 'a', 'cP', 'ai', 'Ree', 'ee', 'ae', 'ee', 'Wa', 'll', 'iris', 'ee', 'eee', 'eee', '“Subs', 'Total', '14,245.08', '0', '14,245.08', '1,908.31', '1,908.31', '|', 'Part', 'Total', 'tems', ':', '8', 'Total', '18,061.70', 'Part', 'Net', 'Qty', ':', '9', 'Round', 'of', 'Amount', '0.30', '18,062.00', '  ', 'Rupees', 'Eighteen', 'Thousand', 'Sixty', 'Two', 'Oniy.', 'Grand', 'Total', 'Declaration', 'Customer', 'Name', ':', 'ALD', 'AUTOMOTIVE', 'PVT.', 'LTD.', 'Customer', 'Signature', 'Electronic', 'Reference', 'Number', ':', 'RBR19B010997', 'Date:', '02-MAR-19', '47:05:22.', 'ae', '-KNo2', '|', '10', 'AU', '-', 'Cx', '“This', 'POF', 'ts', 'generated', 'using', 'Itext', 'file', 'Page', '1', 'of', '3', 'ape', 'Beg', '1.2', 'Yen”', 'Ss.', 'Ooy-', '64-95', 'y~', 'c', 'O', '-', '\\\\0\\\\', '*9¢', 'ie', '|', 'ty', '1.95', '¢', '|']\n",
            "/content/drive/MyDrive/images1/gi/PMI-473789-1_dot__std.jpg\n",
            "[]\n",
            "/content/drive/MyDrive/images1/gi/PMI-471827-1_std.jpg\n",
            "['    ', '  ', 'Tax', 'Invoice', '(ORIGINAL', 'FOR', 'RECIPIENT)', 'Somanatha', 'Enterprises-', 'Arb!', '7', '[invoice', 'No', 'Dated', 'No.18/2,', 'Byraveswara', 'Complex', '_RSI975048-19', 'Jan-2019', 'Outer', 'Ring', 'Road,', 'Mahadevapura_”', 'Gaiivery', 'Note', 'JcesTerms', 'of', 'Paymont', 'Bangalore-560048', '|', 'GSTIN/UIN:', '29ADPPL8412P1Z0', 'Giher', 'Reference(s)', '7?', 'State', 'Name', ':', 'Karnataka,', 'Code', ':', '29)', '|', 'iw', 'aoe', '—', 'Oaies', 'Sear', 'AL', 'D', 'Automotiv', 'Pvt', '.Ltd', '|', 'No.28,', '1st', 'Floor', 'Baspaich', 'Document', 'No,', '\\\\Dalivery', 'Note', 'Sate', '7', 'ios', '\\\\juman', 'Kay', 'Arr', 'Towers', 'Mission', 'Road', '|', 'Kalinga', 'Rao', 'Road', ':', 'Despatched', 'rough', '[Oestnatcn', 'Bangaiore', 'GSTIN/UIN', '29AAFCAOS24K1ZN', 'an', '———', 'i', 'a', 'State', 'Name', 'Kamataka,', 'Code', ':', '29', 'Taman', 'cea', 'aN', 'D2', 'Description', 'of', 'Goods', 'PASSAT', 'TE', '.', 'mT', 'amen', 'in', 'iia', 'asic', '+', 'mt', '———},', '4', '105031', 'AMARON', 'GO', 'BATTERY(G', 'AND', 'G-D31)', '85071000', '1NOS|', '5.228,00)NOS', '5,228.00', 'CAFaQOtT2t7¥6?', 'GST', '14%', '731.92', 'SGST', '14%', '731,92', 'Round', 'Off|', '0.16', 'Lass', 'Old', 'Battery', 'Discount]', '{-)1,000.00', '  ', 'Mec', 'ms', '[7', '€5(692.00)', '‘Amount', 'Chargeable', '(in', 'words)', 'E', 'SOE', '|', '|INR', 'Five', 'Thousand', 'Six', 'Hundred', 'Ninety', 'Two', 'Only', '~~', 'HENIBAT', 'T\"', 'Tarabie', '“T', 'Totet', '|', 'ml', '7', '|', 'aus', 'nount', '|', 'Tax', 'Amount', '85077000', '—', '731.03)', '1,463.24]', 'ab', '791.92[', '7,463.84)', 't', ';', 'Fetal!', '§,228.00', 'Tax', 'Amount', '{in', 'words)', 'INR', 'One', 'Thousand', 'Four', 'Hundred', 'Sixty', 'Three', 'and', 'Eighty', 'Four', 'paise', 'Only', '  ', '  ', 'ton', '@', 'Cecla’e', 'that', 'this', 'Invoice', 'shows', 'the', 'actual', 'price', 'of', 'the', 'goods', 'described', 'and', 'that', 'ail', 'particulars', 'are', 'true', 'ang', 'correct', 'x', '‘i', 'This', 'transaction', '&', 'HPPINEWO-3\\\\', 'N\\\\D4', '&', 'Bockivg', 'wo,', '\\\\', 'K', 'ieldeglwo-', 'KO', 'OMY', 'UIT', 'o$o0', 'l4b9', 'ae', '*']\n",
            "/content/drive/MyDrive/images1/gi/maxresdefault._std.jpg\n",
            "['Cees', 'Pa', 'tr', '1-SALES', 'TAX', 'INVOICE', 'MRP', 'JAN-20', '[Compatibility', 'Mode]', '-', 'Excel', '(Product', 'Activation', 'Failed)', 'coreg', 'Nien', 'Dees', 'Dea)', 'omens', 'Q', 'Teltn', 'hat', 'you', 'want', 'to', 'do.', 'Ec', '&\\\\7', 'A', 'B', 'a', 'D', 'E', 'F', '6', '4', '1', 'J', 'k', 'mM', '|i', 'ice', 'No', '7', 'A', 'fsvoice', 'Date', '23-Jan-2020', 'Dve', 'date', '23-Mar-2020', 'plier:', '|M/S', 'ABC', 'Ltd', '|Buyer:', 'M/S', 'ABD', 'ress:', 'Lahore', 'laddress:', 'SB', 'phonst', 'NK', 'Ltelephone#', 'DSOOTSTHTSL', 'Reg', 'No:', 'NA.', 'ue', 'STRegNo:', '“Unregistered', 'Ne', 'DMIGTS', 'INTNICNICE', '“345679', 'AT', 'TNACINE', '_', '2', 'Custom', 'Code:', '2394', 'Retail', 'Price', 'Per', 'Unit', 'Trade', 'Price', 'oe', 'sot', 'Value', 'No.', 'Description', 'RatePer', '|', 'Sales', 'Tax', 'Valuewith', '|', 'tax', '|', 'Gross', 'amount', 'without', '|', 'Discount]', 'Sale', 'Tax', 'si', 'is', '2368', 'wait', '|', '1796', '|', 'Mbout', 'sale', 'tax', 'T', 'Taptop-3822', 'T', 'Test', '|', 'sae]', '3900.', 'tna', '|', '_7ag31', '[1s', '7390', 'Total', '5,900', '11454', '72,931', '1,459', '74,390,', '=', 'ves', '|', '@', '‘Average:', '7', 'Count:', '3', 'iawiencsk', 'coupes', 'Pier', 'heer', 'sunt:']\n",
            "/content/drive/MyDrive/images1/gi/PMI-476346-1_std.jpg\n",
            "['  ', 'AKKAM', '  ', 'annie', 'macnn', ']anKeNaGAR-HA', 'D', 'Y', 'A', 'Rl', 'Lt', 'ae', 'ii', 'MTMROAD', '|', '‘GST', 'No:', '33AAAFX018801Z0', '1', '“\\\\', ':', 'GUSALD', 'AUTOMOTIVES', '(PTD.', 'ress', 'NO:320', 'DBS', 'CEH', 'TRE,', 'SIACATHEDRAL', 'GRADER', 'BG),', 'CH', '34', 'ae', 'A', 'J3AAFCAMMEIZY', '  ', '  ', '  ', '  ', '  ', 'Description', 'eae', 'S$', '-', '16', 'Goodyear', 'Azaurance', 'Triplemner', 'Tis', 'wntin', 'Words:', 'Forty', 'Thousand', 'Eight', 'Hesited', 'Ninety', 'Gy', 'ites', 'Ta', 'Faarenies', 'for', 'avy', 'products', 'acid', 'Sy', 'ue', 'Onty', 'SANK', 'Hactwers.', 'undepke', 'gpsrecias', 'for', '30', 'defect', 'in', 'Macshipormateralsesadiniheiraroducts', 'Ain', 'Ske', '>', 'HOFC', 'Bank,', 'GH', 'CHETTY', 'ROAD,', 'CHENNAI,', 'a', '«Ae', 'Oho', 'AAA', 'Te', 'XL', 'TYRE', 'POII', 'H.0:', '27,', 'Periyar', 'Road,', 'T.Nagar,', 'CHENNAI', '-', '6', 'Regn.No.', 'Vehicle', 'KhAs', 'OrderNo', ':', 'bai', '-', 'EL', '6', '9552', 'Branch', '.', 'HYUNDAI', 'CRETA', 'Tax', 'Invoice:', 'IEG', 'iA', 'losraa-y', '“2', 'pees', 'hf', 'T=', '6Ul-4y', '/', 'roe', 'eau', 'oy', 'arc', 'i', 'Rs.', 'Ps.', '7', 'a', 'a', 'if', 'em', '  ', '  ', '  ', 'Regd', 'Cit:', 'AH-29,', 'Shanthi', 'Cofony,', 'Ant', 'Charnaidl,', '~', 'Pa', '22145', 'T', 'Naeger', 'E-0319-0140', '22-02-2019', 'oo', 'Rita', 'Tolal', 'Amount', 'TYRE', 'PC', 'Td', 'IHL', 'Oth', 'stat']\n",
            "/content/drive/MyDrive/images1/gi/image._std.jpg\n",
            "['TACINVOICE', 'XYZ', 'ENTERPRISES', 'wal', 'Eocwicals', 'luwal', 'Electricals', 'A205', 'ane', 'nw,', 'Debs', '205', 'a', 'Vw', 'Obs', 'ponies', 'orca', 'Beseition', 'of', 'Gooae', 'ECO]', 'GY', '|', 'ake', '[', 'RATE', '|', 'Ament]', 'Dicom', '[AABLE', 'VAUD]', 'COST', '|', 'SGST[', 'TST', '|', 'CESS', '|', 'TOTAL', 'LeousHTs', 'sso}', 'Sfpcs', '|', '200)', 'enn]', '«', '‘', '|', 'exo', 'abe', 'so]', 'ecene', '|', 'st]', '%', 'ral', 'pe', 'rot', '22400']\n",
            "/content/drive/MyDrive/images1/gi/PMI-472031-3_std.jpg\n",
            "['ourrer', '&', 'Agpmnerrcarsint', 'OMLVHN,', 'WAT', 'tu', 'Nceny', 'nuaun', 'ouenvut', 'sNAHARASHTRA~423212', 'RO', 'BILL', '-', 'Tax', 'Invoice', '  ', '  ', 'GLASS', 'EXPORT', '3,475.42', 'AAOSSIA', 'HHEEL', 'RIM', 'ASSY', '6', '87087000', '1', 'EA', '1,484.38', '1,494.38', '0,00', '5UX15', 'ST', 'BLACK', 'Fo4oenao171n', 'VALVE', '-', 'TUBELESS', '87087000', '1', '€A', '32.81', '32.81', '0.00', 'S2.BY°', '14', '4.59', \"'\", 'TYRE', '=', ':', 'O102DU3C0010N', 'SPLASH', 'SHIELD', '87089900', '1', 'EA', '235.94', '235.94', '0.00', '235,94', '69', '14', '33.03', '14', '35.03', '+', 'SHORTRER', 'FRONT', 'A7O1EUZCOOIIN', 'SIDE', 'TURN', 'SIGNAL', '85122010', '1', 'EA', '125.42', '125,42', 'LAMF', 'RH', 'i', '207.81', 'M1,27', '    ', '  ', '  ', '    ', '  ', '      ', 'Part', 'Total', 'Iteas:', '©', '23.00', '+', 'Total', '30,476.03', 'Part', 'Wet', 'oty.:', '45.00', 'Round', 'of', 'Amount', '~0.03', 'Rupees', 'Thirty', 'Thousand', 'Four', '4', 'i', 'Grand', 'Total', 'tlaration', 'ti,', 'Worn', 'out', 'parts', 'fexcent', 'under', 'xa', ',', 'with', 'the', 'repaired', 'unit.', 'otherwise', 'they', 'will', 'be', 'destroyed', 'without', 'any', 'notice', 'and', 'ng', 'sa', 'é', 'tanta', 'allowed,', '2,', 'Prices', 'and', 'taxes', 'are', '‘subiect', 'ita', 'Pasian', ';', 'r', 'intination', 'and', 'the', 'sage', 'are', 'charged', 'at', 'the', 'ruling', 'ra', 'and', 'oayable', 'on', 'deaand,', '3.', 'The', 'transaction', 'is', 'deemed', 'to', 'havés,con¢', '(NashikT', 'and', 'the', 'courts.', 'including', 'consuaer', 'Forums', 'at', '{Nashik}', 'only', 'shall', 'have', 'exclusive', 'iurisdicti', 'it', 'of', 'any', 'disoute', 'whatsoever.', 'to', 'the', 'exclusion', 'of', 'any', 'courts.', '4,', 'Delivery', 'of', 'the', 'vehicle', '/', 'unit', 'st', 'be', 'aade', 'only', 'by', 'DD/P0', 'orev', 'in', 'favour', '  ', '     ', 'OOF', 'hit', 'lstoay', 'MD5.T0', 'comees', 'gaan', 'ere', 'manent', 'es', 'ne', 'Central', 'GST', '9%', 'State', '6ST', '14¥', '_', '0.00', '2,005.70.', '-', '.', 'ee', 'State', 'BST', '92', '0.00', '|', '8.78', '‘', 'page', 'Total', '0', '5862.96', 'Scanned', 'with', 'CamScanner']\n",
            "/content/drive/MyDrive/images1/gi/PMI-475064-1_dot__std.jpg\n",
            "['    ', '  ', ';', 'Viciamp', 'Auto,Power', '(P)', 'Ltd,', '>', '-]', 'GSTIN/UIN,', '33AAFCADQZ4K1ZY\"', 'State', 'Name', '.', 'Tamil', 'Nadu,', 'Cade', '“33', '——', 'e:', '8', 'Tot', '.', '2', '[Toms', 'oF', 'Beivery', 'yt', '2', 'spd', 'ie', '«438', '©', '\"Approval', 'Noz3t4989°', '«4', 'z', '=', 'Sg', 'he', 'Booking’No:29414\"', 'ee', '.', 'Kliometer:84833', '+', '|Vehicte', 'No:TN19A8670', 'si”', '7', 'Weasipiion', 'of', 'Goode,', 'HSNISAC', '|', 'Gueatiy', '|', '*', 'Rate', 'iCompany’s', 'VAT-TIN', '=', '33030864151', '-', '>', '|', \"Company's\", 'CST', 'No', '4052439', 'ot.', '04', '2044', '-|Compeny’s', 'BAN', '*', 'AADCVETT4C:', ',', 'Decleraién', 'oe', 'Ge', '‘|', 'goods', 'described', 'and', 'that', 'all', 'partiediars‘are', 'true', 'and', 'correct', '|', '“Taxtinvoice', '=\"Tinwoics', 'No', '|FWvae4118-19', ':', 'ppaber', 'Noe', 'No', '109', '&110,Safeon', 'Squave,*', 'Chomiers', 'Road', 'Teynampet,', 'Shennat', '-‘s00018', 'Phone', '42169038', '42179030', 'Www', 'Vicampgroup', 'in', '     ', 'ALD', 'Automotive', 'Pvt', 'Ltd', '7', 'a', '§', 'Office', 'No-320,', '1st', 'Floor,', 'OBS', 'Busindss', 'Centre,', '{Despatch', 'Document', 'No', 'OBS', 'House', '31-A,', 'Cathedral', 'Garden', 'Road,', \"'\", 'Nungambakkam,', 'Chennar‘:', '600034', '{Despatched', 'through', '|', 'ASST', 'evsre', '-', 'ee', 'ee', 'GSTINUIN', 'SRAADE', 'VST', 'T4csZE\"', 'Suppers', 'Ref', '[Other', 'Referens)', 'The', 'E-Matl', 'shenpsteavine@teumen', 'ov,', 'in', '__|Fw', '|', '‘Boyer', 'ee', 'Wa', 'Buyers', 'Order', 'NO', '“Dated', '\\\\', '{Belvary', 'Note', 'Gate', '>', 'Be', 'aay', '1', '‘{owss', 'AMARON', 'FLO', 'BATT-AMHS', '85071000', 'jAbBrsses2c2355', ':', '|', 'vm', '{', 'Sees', '|', '4NGS', '_', '5:086,0918', '+,', 'CGST.@', '14%!', '+', 'SG8T@', '14%!', 'Old', 'Battery', '‘Discount', '-', 'Customer|”', '“Round', 'Off', 'A/e|', 'less', '©', 'Ainount', 'Grape', 'aw', 'way', 'Co', '~', '[INR', 'Five.', 'Thousand', 'Seven', 'Hundred', 'sevety', 'Two', 'only', 'ig', '<HISNISACS', '  ', 'ore', '‘We', 'declare', 'declare', 'that', 'this', 'invorce', 'shows', 'the', 'actu', 'rice', 'of', 'the', 'pe', 'Dhiamercharen:', ':', '48', 'rate', 'GSAS,', '|', 'see', 'we\"', 'gin', '-', 'vt', '©', '  ', '  ', '  ', '  ', '  ', '  ', '    ', '  ', '  ', '     ', '  ', '  ', '  ']\n",
            "/content/drive/MyDrive/images1/gi/PMI-472353-2_std.jpg\n",
            "['    ', '_', 'STANDARD', 'AUTO', 'AGENCIES', '©)', '10\"', '““MARUTIFAUTHORISED', 'SALES', '&', 'SERVICE', 'STATION', 'Behind', 'Pachouri', 'petrol', 'pump,', 'Near', 'Dindayal', 'chowk,', 'Damoh', 'Naka', 'road,', 'Vijay', 'Nagar', 'JABALPUR', 'Tel', ':', '(0761)', '4038001,', '4038002', '—', 'email:', 'st', 'andard.jab.srv2@marutidealers.com', 'GSTINNO:23ACRP', 'A3038M1ZL', '  ', '  ', '  ', 'Baty', 'To', 'ee', 'FOR', 'ANY', 'COMPLAINT', 'REGARDING', 'WORKSHOP', 'SERVICE', 'Contact', ':', '930', '378', '8848', '(ccm)', 'e-mail', ':', 'standard.ws@gmail.com', 'or', 'standard.jab.stv2@marutidealers.coni', 'if', 'you', 'are', 'not', 'satisfied', 'with', 'the', 'workshop', 'response,', 'Please', 'contact', 'MSIL,', 'service.at', 'Mob:', '968', '542', '2447', 'email:', 'service.careindore@maruti.c.ih', 'Joo', ')/4e', '“7', '—', '300', '4', 'Puget', 'bk', '-', 'PL', 'Dacre', '13', '159', 'SY', 'j—', 'ia', 'pret']\n",
            "/content/drive/MyDrive/images1/vbi/PMI-478190-2_dot__std.jpg\n",
            "[]\n",
            "/content/drive/MyDrive/images1/vbi/Untitled_design_1_std.jpg\n",
            "['  ', '  ', '  ', '  ', '  ', '  ', '     ', '  ', 'X', 'Haldiram', 'Foods', 'anyone', 'F', 'javoice', 'Date:', 'a', 'sig:', '04', 'Baie', 'u1i2019', 'cpo12689', 'cao', 'orchase', 'Order', 'Name', '‘onder', 'Date:', 'onder', 'Numb', '»', '38578', '93282019', 'norT2s', '‘our', 'Reference:', 'sipment', 'Number', 'customer', 'Numer', 'Your', 'Referens', '’', '7', '\"', 'ARCA.', '‘application', 'OEE', '46585', '1147', 'THE', 'D.', 'cpatvvery', 'ASICS:', '“voice', 'Ade', '?', 'DAY', 'THE', 'supe', 'Mit', 'Imp', 'SUPPLY', '(ACTS', 'PAYABLE)', 'f', 'WAS', '2', 'QUEE)', 'A)', 'MARINE', 'DRIVE', 'Mor', 'No', '68942', 'S', 'BOR', 'aa', 'MUMBAL', 'ME', '40206', '2006.', 'RAILWAY', '‘BLVD;', 'PLOT', '70°', 'ANNOUNCEMENT', 'N', 'INDIA', 'INDIA', 'P', '‘terms', 'of', 'DEEN', '‘AGE', '14', 'ship', 'Vie', 'x', 'cust', 'Pu', 'Delivery', 'Date!', 'forward', 'Agent', '41072019', 'ma', 'Oe', 'ub', 'Total', 'Amount', 'poual', 'Exctusive', 'T#S', '“Total', 'Tas:', 'Iw', 'yunt', '10', 'PY', 'piscount', 'Due', 'DAE:', '‘Discount', 'Amount', '(2.00%)', 'yn', 'Ae', 'ce', 'one', 'ta.', '13', 'Ram', 'PO', 'REMIT', 'TO:', 'paeTeo', 'pieasero®', 'sen', '6008', 'No', '186', '‘a0', 'rawr', 'anpracint', 'Mist']\n",
            "/content/drive/MyDrive/images1/vbi/PMI-477440-2_std.jpg\n",
            "['TAX', 'INVOICE', 'Akshaya', 'Ford', 'SHOW', 'ROOM', '4', 'SERVICE', 'CENTRE', 'Wee@umage', 'Var', 'Rost', 'Priam', 'wage', 'Pot', 'Metre', '625', '00', 'Phere', '0652', '658214)', 'BSED', 'ODO', 'ha', '0882', 'ORES', 'um', '|', 'PAGE', 'Ne', 'a', 'ww', '©', 'ATT', 'RO', 'OATE', 'ORROMAL', 'FOR', 'GUYER', 'MARK', '&', 'ADVICE', 'FOR', 'CUSTOMER,', '©', 'ANY', 'oxe', 'Ggianed.', 'Weel)', 'Sagrature', 'of', 'Custorner', 'for', 'Akshaya', 'Ford', 'Prepared', 'Dy', 'Ver', 'text', 'Oy', 'fa', 'oes', 'Wepre', 'Cotas', 'inde', 'Ge', 'TONY', 'LCT', 'UMA', 'wise', 'Ge', 'te', 'tee', '@', 'nh', 'We', 'uae', 'be', '|', 'tet', '©', 'Oe', 'BF', '|', 'Com', 'cerrentee', '©', 'mete', 'by', 'ef', 'ot', 'Det', 'De', 'Pern', 'of', 'ce', 'Cored', 'by', 'Oe', 'OP', 'Com', 'ie', 'fas', 'teee', 'cece', 'by', 'oe', 'ee', '©', 'Re', 'ee', 'Cee', 'of', 'my', '|', 'ce', 'eee', 'te', 'DRAAACC', 'HBA', 'TIC', 'TARO', 'AAACCORMASTOND', '*', 'AAACC', 'ORDA', 'Aras', 'Sopataty', '——', 'Ones', 'of', 'CAP', 'oe', 'aor', 'emery', 'wane', 'ent', 'peers', 'Me', 'ree', '0)', 'tM', 'etre', 'tke,', 'Deere', 'temas', 'Sel', 'Rengere', 'fo', 'ene', 'WEE', 'Phe']\n",
            "/content/drive/MyDrive/images1/vbi/invoice1._std.jpg\n",
            "['Vijaya', 'Traders', 'Private', 'Limited', 'Si,', 'pees', '0,', 'a,', 'th', 'ome', 'gamers', 'emans', '  ', 'GGsTin:ouancroa8743125', 'eee', 'ting', 'Detats', 'shipping', 'Details', 'Ta', 'noice', 'san', 're)', 'rere', 'xa', 'oie', 'value', 'Words', 'fupees', 'sven', 'hued', 'nd', 'eg', 'oy', 'Ss', '4', 'clearTax', 'Foray', 'Waders', 'Pot', 'itd']\n",
            "/content/drive/MyDrive/images1/vbi/PMI-473520-2_std.jpg\n",
            "[]\n",
            "/content/drive/MyDrive/images1/vbi/PMI-472634-3_std.jpg\n",
            "['ALL', '-', 'ny', 'OF', 'ny', '  ', 'i', 'wustoger', 'Naee', '£', 'address', 'at', 'RBDL', 'A', 'SERV', 'peparrss', '¢', '  ', '     ', '      ', '     ', 'Hapneoyss', 'girasgaryire']\n",
            "/content/drive/MyDrive/images1/vbi/PMI-478190-2_pxsJaet_dot__std.jpg\n",
            "['cae', 'as', 'a', '—', 'eS', 'Fri', 'ae', ':', '7', 'BY', 'oA', 'ear!', '7', 'ae', '.', '_—']\n",
            "/content/drive/MyDrive/images1/vbi/PMI-473789-4_std.jpg\n",
            "[]\n",
            "/content/drive/MyDrive/images1/vbi/PMI-472634-4_dot__std.jpg\n",
            "['pe', 'OO', 'ODE', 'sorta)', 'er)', 'og', 'Po', 'entrees', '2', 'Bs', 'eee', 'eras', 'OY,', 'aera', '\"i', '‘', 'Boe', 'RY', 'i', 'PME', 'LE', 'wae', 'Pras', 'ver', 'GStin', 'semaEARAE', 'ZY', '.', 'te!', ':', '9', 'ri', 'aa', 'o', 'hae', 'et']\n",
            "/content/drive/MyDrive/images1/vbi/PMI-471989-2_std.jpg\n",
            "['Scanned', 'by', 'CamScanner']\n",
            "/content/drive/MyDrive/images1/vbi/PMI-472132-1_std.jpg\n",
            "['Pros', '|', 'UPLIFT', 'ie', ')', 'REDMI', 'NOTE', '5', 'PRO', 'MI', 'DUAL', 'CAMERA']\n",
            "/content/drive/MyDrive/images1/vbi/PMI-474454-1_dot__std.jpg\n",
            "['5', '5', '9', 'mM', '§', 'QO', '>', '2', 'co', '2', '5', '5', 'N']\n",
            "/content/drive/MyDrive/images1/vbi/PMI-472353-1_xaS7e1F_std.jpg\n",
            "['Ser', 'FOR', 'ANY', 'COMPLAINT', 'REGARDING', 'WORKSHOP', 'SERVICE', 'Contact', '-', '930', '378', 'B848', '(COM)', 'shop', 'response', 'Please', 'contact', 'MSIL', 'service', 'at', 'Mob:', '968', '$42', '2447', 'oe', 'a', 'a', 'email', 'service', 'careindore@maruti', 'co', 'in']\n",
            "/content/drive/MyDrive/images1/vbi/PMI-472000-1_std.jpg\n",
            "[]\n",
            "/content/drive/MyDrive/images1/vbi/PMI-472634-2_std.jpg\n",
            "['‘.', 'LA', 'nese', 'Cee', 'Sais', 'Sie', 'asa', 'KEN)', 'tena', 'OO', '‘>', 'es', 'x)', 'ge', 's', 'Ys', 'eS', 'KOROOOOOO', 'OS', '0', 'Mi', 'ws', 'ree', 'ds', '%', ';', 'i', '3', 'OXI', 'Oy', 'aX', 'bd', 'RD', 'és', '*', 'Ss', '0', '\\\\', ';', '0', 'eh', '00', 'xX?', 'NN', 'ee', '0', 'G']\n",
            "/content/drive/MyDrive/images1/vbi/photo24_std.jpg\n",
            "['*', 'Rewhr', 'ice']\n",
            "/content/drive/MyDrive/images1/vbi/Delhi_to_Office_DL-20-STF-30025_-_By_Road_Y8zQP4K_std_std.jpg\n",
            "['&', 'Om', 'pinat', 'ee', 'Coornennngyrent', ' Deeapetenane', 'Mee', 'Toarenggene', 'ter', ' Pemgpelan', 'anne', 'Mee', 'Cotnrennngyrete', 'ee', 'Tax', 'Invoice', '(rrtew', 'Raste', '8', 'af', 'OGRE', 'Mates,', 'BET)', 'eee', 'Mee', 'an', 'ere', 'man', 'rae', 'ethene', 'GM', 'Weegee', 're', 'eaten', '>', 'eerie', 'atten', 'PY', '58h', 'Ce', 'Prenoerre', 'Svrey', 'Per', 'Semttnrn', '§', 'owns', 'tates', 'B', 'emmiory', 'MHF', 'may:', 'esau', 'Hates', 'eee', 'Cn', 'al', 'mane', 'Cay', '©', '8b', 'CBT', 'ee', 'mec', 'amin', '>', 'CM', 'ot', 'woe', 'te', 'Ree', 'Wreten', 'Mek', 'OM', 'Beer', 'retin', 'PH', 'ee', 'aoe', 'temS', 'RMA', 'PT', 'AD', 'sep', 'RA', 'PTD', 'HD', '#5', 'CHIR', 'AD', 'AK,', 'SiG', 'CRF', 'Cretatate', 'COTW', 'CRF', 'Femme', '$98', '#5.', 'CxCH', 'AD', 'A', 'CHING', 'CRF', 'COREA', 'COTY', 'ORF', 'Pham', 'HF', 'aang', 'ESS', 'Sahennygmmins', 'FS', 'Pine', 'af', 'Saget', 'reer', 'Pine', 'af', 'Geteery', 'rene', 'Ce', 'eee', 'Seamer', '&', 'Cotette', 'renin', 'SB', 'TR', 'ee', 'ete', 'neti', 'BTW', 'Re', 'mente', 'satin', 'ue', 'AN', 'ant', 'eae', 'merrennt', 'here', 'Mee', '“awry', 'nest', 'Conte', 'GTY', 'LOT', 'me', '~~', 'eer', 'ee', '8', 'ee', 'eee?', 'Ki', 'PREC', 'TCM', 'MRD', 'eae', 'tt', '©', 'Satan', 'sataeteD', 'a', 'Or', '2a', 'eh', 'ene', 'eee', '‘', 'ow', 's', 'Tenant', '=e', 'ew', 'arene', 'sarTOta,', 'FORTY', 'OME', 'TeaQIURARED', 'MIME', 'DA', 'UINORED', 'FUPTY', 'EnGheT', 'tow', '+)', 'en', 'a', 'AND', 'PRERES', 'FORTY', 'Or', '¥', 'Racyaeanent', 'By', 'Fae', 'Ga', 'Wretin', 'Pe', 'Ae', 'Ran', 'aniecee', 'By', 'fae', 'Geer', 'retin', 'PHA', 'Aeteee', 'anand', 'Bayern', 'Raine', 'aaee', 'Deere', 'Pose', 'Neeretiy', '<aetily', 'ast', 'aaur', 'smshy', 'smeptations', 'carinsete', 'wrttier', 'GA', '*', 'aan', 'Aterae', 'a', 'chain', 'ax', 'soho', 'ae', 'seutety', 'a', 'goin', 'samt', 'Wn', 'oe', 'a', 'ine', 'ae', 'ree', '‘bey', 'use', 'anveb', 'eae', 'hee', 'eawretamitineh', 'oF', 'savy', '<otvoarran', 'Mey', 'He', 'Toe', 'Viera', 'Seem', 'Sanaa', 'then', 'oy', 'eh', '008', 'thal', 'oe', 'Aarti', 'ar', 'ah', 'oe', 'Naren', 'a', 'eunay', 'whine', 'rep', 'seater', 'seth', 'une', 'a', 'ay.', 'anne', 'rh', 'oe', 'toe', 'Mes', 'Rote', 'Gun', 'rah', 'ne', 'got', 'Caetieranenns', 'ihe', 'daenarne', 'ane', 'ne', 'wren', 'Ahern', 'ania', 'goin', 'oF', 'How', 'gpinintte', 'tenet', 'ates', 'hae', 'ah', 'gueetcnlior', 'vee', 'rs', 'arte', 'cxtrrenth', 'Tame', 'we', 'Wh', 'guia', 'eh', 'cemenertae', '(Prerge:', 'thean', 'Panrveety', 'E', 'ROE', 'Camgeiet', 'te', 'Pearparrn', 'Aveteeetiatienrny,', 'Senne', 'OTE', 'Re', 'Corgernane', 'Orie', '‘poe', 'Fenn', 'SB', 'esstettengy', 'ORF', 'Cipone', 'City', 'AF', 'geremnenD', 'vergnten', 'SE', 'ee', 'ee', 'a8', 'geenp', 'ethene', 'aot', 'Rasereerene', 'Ciheerryge', 'Hearne,']\n",
            "/content/drive/MyDrive/images1/vbi/PMI-474011-1_dot__std.jpg\n",
            "['\"ROCKCITY,', 'PORD', '“uns', '*', 'SUSEE', 'PREMIUM', 'AUTOMOBIE', 'eS', 'Ie', 'Gardin', 'ain', 'i,', 'at', 'EHNALb00034', '‘Stale:', 'TAMIL', 'NADU,', 'Staié', 'Godard', 'MF', 'ye', 'GSTINAUID:', 'SIAADCS9685F', 'ZH', 'ts', 'RBM', 'Pinca', 'of', 'Supply', ':', 'TAMIL', 'NAOU', '(Sy', 'Color', ':', 'OXFORD', 'WHITE', '+', '71908', 'Catcode', '+', 'ICHS65AC', 'Make', '+', 'Figa', 'Aspire', 'Category:', 'Periodical', 'Maintenance', 'Service', 'ins', 'Policy', 'No.', '+', 'Sales', 'Date', '©:', '31-OCT-15', 'ing.', 'Valid', 'From:', 'To:', 'in', 'penpacaioe', 'ona,', 'rewees', 'a', '_', 'fswsac|', 'Gly.', 'Roto”', 'otal;', 'Discount', 'Taxabie|', 'est.', 'Ce', '[Per', 'tomy', '‘pate', 'Valua’', 'gate', '2', 'Me', 'pt', 'Raia,', '|', '}', 'Amt,', 'Rate;', 'Ai', 'H', 'bey', 'Amt?', '.', 'te)', 'me', '|S', 'ca', 'Tew', '4', 'ise<,', 'J', '00998729', '10014700', '14100', 'ahicte', 'inspect', '00908728', '100', '00', '00', '1270000', 'Km', 'Serice', '00998729', '100', '183300', '1833', '00', '00998729', '=', '100', '00', '00', '99998729', '100', '00', 'os', 'Brake', 'system', '{includ', '00998729', '100', 'a0', 'oo', 'BPentiSeraich', 'in', 'Bump', '99998729', '100', '00', '00', 'fentScraich', 'in', 'Door', '00988728', '=', '100', '00', '00', '0908729', '«1.00', '00', 'oo', '00998729', '100', '00', '00', '00898729', '1.00', 'oa', '08', '00908729', '1.00', 'oo', '90', '00908;', '00', '00', 'oc', 'x', '20', '34038900100', '7031', '7031', '7034', 'geti2000', '1.002642', '25423', '25423', '34022000', '«1002', '10169', '101.68', '4', '101', '69', 'g4zi2300', '«1.00', '302,55', '302.55', 'J', '302.55', '7A182100', '1,00', '38,45', '36.45', '4', '3645', '4.00', '63.56', '63', '56', '9475', 'i', 'J', '34,75', '497.48', '1070,48', 'Scanned', 'by', 'CamScanne', '\\\\', '<<<']\n",
            "/content/drive/MyDrive/images1/vbi/TTP-19-1012_std_std.jpg\n",
            "['Hl', 'Pree', 'cermit', 'te', 'total', 'cont', 'of', 'SOO', '112.1468', 'OF', '©', 'tre', 'folixming,', 'For', 'Accmnant']\n",
            "/content/drive/MyDrive/images1/vbi/Untitled_design_std.jpg\n",
            "[]\n",
            "/content/drive/MyDrive/images1/vbi/images._std.jpg\n",
            "['dick', 'smith']\n",
            "/content/drive/MyDrive/images1/vbi/PMI-471989-1_std.jpg\n",
            "['{oUF', 'g-', 'Nn', 'Scanned', 'by', 'CamScanner', 'og', 'gla', '13']\n",
            "/content/drive/MyDrive/images1/vgi/55_Sogo_std.jpg\n",
            "['J', 'RENTAL', 'INVOICE', 'Bangalore', '-25', 'Phone', ':', '41430300', '-', '399', ',', 'Fax', ':', '080-22120641', 'PAN', 'No:', 'AACCS8954L.', '2', '8', 'JUL', '2018', 'Page', '22', 'of', '26', 'D-', '1/1,', 'Hayes', 'Court,', '11/9,', 'Hayes', 'Road,', '(Off.', 'Richmond', 'Road),', 'GSTIN', ':', '29AACCS8954L1ZK', '/', 'State', 'Code', ':', '29', 'Sogo', 'Computers', 'Pvt', 'Ltd', '(IT-Rental', 'Div.)', 'CIN', 'No', ':', 'U30009KA1997PTC023119', 'Customer:', 'Webenza', 'India', 'Private', 'LTD', 'Invoice', 'No:', 'RIN/1819/03617', 'Inv', 'Date:', '28/07/2018', 'Address:', '401', '&', '402,Oxford', 'House,No', 'Rustam', 'Main', '~', '\"', ':', '‘', ':', 'sRDCHTISIG', 'ais', 'ied', 'Knithallt', 'Sengaueeeenr7', 'DCNo', '—', ':RDC/1718/01073', 'DC', 'Date:', '17/02/2018', 'PO', 'No', ':', 'EMAIL.', 'PO', 'Date:', '12/02/2018', 'Phone', ':9686309966', 'GSTIN', ';', '29AABCW2442A', '1ZP', '/', 'State', 'Code', ':', '29', 'Prev', 'Inv', 'No:', 'Prep', 'by', ':', 'Lokesh', 'Man.DC', 'No:', '191', 'Sl', 'ttem', 'Code', 'Item', 'Name', 'SAC', 'Product', 'SINo,', 'Rental', 'Period', 'cesr', 'scst', 'icst', 'Rent', 'PM', 'No.', 'Code', 'From', 'To', 'Rate', 'Rate', 'Rate', '1', '020533010', 'Laptop', 'HP', 'Elite', 'Book', '840G1', '997315', 'CNU422BR8K', '(1/07/18', '31/07/18', '9', '9', '0', '1,699.00', '~', '—', '£020158000', 'Laptop', 'Ram', '8', 'GB', '997315', 'RAM8GB(SING)', '(1/07/18', '31/07/18', '9', '9', '0', '1.00', '37', 'H020533010', 'Laptop', 'HP', 'Elite', 'Book', '840G', '|', '997315', 'CNU4219FC2_', '01/07/18', '31/07/18', '9', '9', '1,699.00', '4', '£020158000', 'Laptop', 'Ram', '8', 'GB', '007315', 'RAM', '8GB(SING)', '01/07/18', '31/07/18', '9', '9', '0', '1,00', '5', '1020833010', '|', 'Laptop', 'HP', 'Elite', 'Book', '840G1', '007315', 'CNUA26BSIGOI/O7/18/31/07/18.', '99', '1,699.00', '6', '£', '020158000', 'Laptop', 'Ram', '8', 'GB', '|', '7315.', 'RAM', '8GB(SING)', '01/07/18', '31/07/18.', '9', '9', '0', '|', '1.00', '7', '1020533010', 'Laptop', 'HP', 'Elite', 'Book', '840G1', '997315', 'SCGAADZYVR', 'OWO7/18', '31/07/18', '9', '9', '0', '1,699.00', '8', '£020158000', 'Laptop', 'Ram', '8', 'GB', '997315', 'RAM', '8GB4GBX2)', '(1/07/18', '31/07/18', '9', '9', '0', '1,00', '9', '1020533010', 'Laptop', 'HP', 'Elite', 'Book', '840G1', '997315', 'SCG4SI3TC7', '1/07/18', '31/07/18', '9', '9', '0', '1,699.00', '10', '£020158000', 'Laptop', 'Ram', '8', 'GB', '997315', '|', 'RAM', '8GB(SING)', '01/07/18', '31/07/18', '9', '9', '0', '1,00', '11', '020533010', 'Laptop', 'HP', 'Elite', 'Book', '840G', '1', '997315', '5CG4403269', '1/07/18', '31/07/18', '9', '9', '0', '1,699.00', '2', '£020158000', 'Laptop', 'Ram', '8', 'GB', '997315', 'RAM', '8GB(SING)', '01/07/18', '31/07/18.', '9', '9', '0', '1.00', '13', '1020533010', 'Laptop', 'HP', 'Elite', 'Book', '840G|', '997315', 'SCG4S00X2D—', 'I/O7/18', '31/07/18', '9', '9', '0', '1,699.00', '14,', '£020158000', 'Laptop', 'Ram', '8', 'GB', '997315', 'RAM&GBUGBX2)', '01/07/18', '31/07/18', '9', '9', '0', '1.00', 'a', 'Total', ':', '11,900.00', '.', 'Bill', 'Valttesseccccond', 'At.', '0.4.9.2.', 'Donses', 'CGST', '@9%', '1,071.00', 'TDS', 'ccsnsnsnssnsereeten', 'Bre', 'De', '—', '—', 'Grand', 'Total', ':', '14,042.00', 'x', 'Balance', '/PG.0A', 'mPa', '(VY', 'CHEQUE', 'NO..essessscssssssensssssnnansanenssnne', 'DRG', 'i', 'wisnnivrecmrercvesarenns', \"'\", 'Declaration', 'Sogo', 'Compute,', 'IT-Rental', 'Div.)', '1.', 'Payment', 'should', 'be', 'made', 'as', 'per', 'agreed', 'terms', 'otherwise', 'interest', 'will', 'be', 'charged', '@', '24%', 'per', 'annum', '2.', 'Every', 'cheque', 'return', 'will', 'affect', 'a', 'penalty', 'of', 'Rs.250/-', '3.', 'We', 'declare', 'that', 'this', 'invoice', 'shows', 'the', 'actual', 'price', 'of', 'the', 'goods', 'descibed', 'and', 'that', 'all', 'particulars', 'are', 'true', 'and', 'correct', '4.', 'All', 'disputes', 'are', 'subject', 'to', 'Bangalore', 'Jurisdiction.']\n",
            "/content/drive/MyDrive/images1/vgi/letterhead_invoice_template_ddca335294._std.jpg\n",
            "['Invoice', '|', 'Biiiea', 'to', 'Studio', 'Den', '305,', '3rd', 'Floor', 'Orion', 'mall,', 'Bengaluru,', 'Karnataka,', 'India', '-', '560055', 'GST', '29VGCED1234k226', 'PAN', 'VGCED1234K', 'POE', 'Ce', 'sl', 'Basic', 'Web', 'Development', 'Logo', 'Design', 'Web', 'Design', 'Full', 'Stack', 'Web', 'development', 'Country', 'of', 'supply', 'india', 'Place', 'of', 'supply', 'Gujarat', 'Invoice', 'total', 'in', 'words', 'Forty', 'Two', 'thousand', 'Four', 'Hundred', 'and', 'Eighty', 'Payments', 'May', '06,2020', 'netsanking', 'BZ', '<s.000', 'xo', 'Total', '%3,000', '%0', 'Terms', 'and', 'Conditions', '4.', 'Please', 'pay', 'within', '15', 'days', 'from', 'the', 'date', 'of', 'invoice,', 'overdue', 'interest', '@', '14%', 'will', 'be', 'charged', 'on', 'delayed', 'payments.', '2.', 'Please', 'quote', 'invoice', 'number', 'when', 'remitting', 'funds.', 'Additional', 'Notes', 'Itis', 'a', 'long', 'established', 'fact', 'that', 'a', 'reader', 'will', 'be', 'distracted', 'by', 'the', 'readable', 'content', 'of', 'a', 'page', 'when', 'looking', 'at', 'its', 'layout.', 'The', 'point', 'of', 'using', 'Lorem', 'Ipsum', 'is', 'that', 'it', 'has', 'a', 'more-or-less', 'normal', 'distribution', 'of', 'letters,', 'as', 'opposed', 'to', 'using', '‘Content', 'here,', 'content', 'here.', 'For', 'any', 'enquiries,', 'email', 'us', 'on', 'foobarlabs@gmail.com', 'or', 'call', 'us', 'on', '+91', '98765', '43210', 'Foobar', 'Labs', '46,', 'Raghuveer', 'Dham', 'Society', 'Surat,', 'Gujarat.', 'India', '-', '394210', 'FOOBAR', 'LABS', '|', 'tavoice', 'Detais', 'Payment', 'Record', 'Invoice#', '003', 'Paid', 'Amount', '<0', 'namo', '£36,000', 'Invoice', 'Date', 'FEB', '19,', '2020', 'DueDate', '—-', 'FEB', '19,', '2020', 'Beye', 'yor', 'tari', 'PT', '%', '10,000.00', '11,800.00', '%', '10,000.00', '=', '11,800.00', '%', '10,000.00', '%', '10,000.00', '=', '11,800.00', '‘Sub', 'Total', '%40,000', 'Discount(10%)', '%40,000', 'Taxable', 'Amount', '36,000', 'SGST', '3240', 'cCGST', '36,000', '0', '=', 'Total', 'Due', '%36,000', 'Bank', '&', 'Payment', 'Details', 'Account', 'Holder', 'Name', 'Foobar', 'Labs', 'Account', 'Number', '45366287987', 'UPI', '-', 'Scan', 'to', 'Pay', 'IFSC', 'SBINOO18159', 'Account', 'Type', 'Savings', 'Bank', 'State', 'Bank', 'of', 'india', 'UPI', 'foobarlabs@oksbi']\n",
            "/content/drive/MyDrive/images1/vgi/invoice-sample-copy._std.jpg\n",
            "['oogstzen', 'Tax', 'Invoice', 'Original', 'for', 'Recipient', 'Supplier:', 'Details', 'of', 'Invoice:', 'CloudZen', 'Software', 'Labs', 'Pvt.', 'Ltd.', 'Invoice', 'Number:', '17-18/JH/97', 'State:', 'Jharkhand', 'Invoice', 'Date:', 'July', '26,', '2017', 'State', 'Code:', 'JH', '-', '20', 'Invoice', 'Amount:', 'INR', '47,925.00', 'GSTIN:', '20QXOCC9424D1Z5', 'Reverse', 'charge', 'applicable:', 'No', 'Details', 'of', 'Buyer', '(Bill', 'To):', 'Details', 'of', 'Consignee', '(Shipped', 'To):', 'Cipla', 'Ltd', 'Cipla', 'Ltd', 'State:', 'Rajasthan', '-', '757166', 'State:', 'Rajasthan', '-', '757166', 'State', 'Code:', 'RJ', '-', '08', 'State', 'Code:', 'RJ', '-', '08', 'GSTIN:', 'O8AKOCX6349P1ZL', 'GSTIN:', 'O8AKOCX6349P1ZL', '#', 'Description', 'Taxable', 'Value', 'IGST', 'Total', 'HSN/', 'SAC', 'Qty', 'Unit', 'Rate', 'Rate', 'Amount', '1', '|OTHR', 'BLCHD', 'WOVN', 'FBRCS', 'WGHNG', '>200', 'G/M2', '12,096.00}', '18.00}', '2,177.28', '14,273.28', '521222', '9.00', 'GMS', '1,344.00', '2', '|OTER', 'BEANS', 'DRIED', '&', 'SHLD', '7,742.00)', '18.00)', '1,393.56', '9,135.56', '071339', '7.00', 'UNT', '1,106.00', '3', '|GLAZIERS', '&', 'GRAFTING', 'PUTY,', 'RESIN', 'ELEMNTS', 'NON', '9,345.00}', '28.00)', '2,616.60', '11,961.60', 'RFRCTRY', 'SRFCNG', 'PRPN', 'FR', 'FLOORS,', 'WALL', 'ETC', '321490', '7.00', 'CCM', '1,335.00', '4', '|', 'OTHER,', 'FRESH', 'OR', 'CHILLED', '7,567.00)', '28.00)', '2,118.76', '9,685.76', '020735', '7.00', 'BTL', '1,081.00', '5', '|OTHER', 'COSMETIC', '&', 'TOILT', 'PRPN', 'NES', '2,241.00}', '28.00', '627.48', '2,868.48', '33079090', '3.00', 'MLT', '747.00', 'Total', 'Amounts', '(INR)', '38,991.00', '8,933.68', '47,924.68', 'Rounding', '0.32', 'Invoice', 'Total', '(in', 'figures):', 'INR', '47,925.00', 'Invoice', 'Total', 'amount', 'in', 'words:', 'Forty', 'seven', 'thousand,', 'nine', 'hundred', 'and', 'twenty', 'five', 'You', 'have', 'not', 'specified', 'any', 'notes', 'that', 'should', 'appear', 'in', 'the', 'Invoice.', 'Please', 'customize', 'this', 'information', 'in', 'the', 'following', 'page', 'https://my.gstzen.in/~demo/a/gstins/1/update/', 'www.cloudzen.in', 'CIN:', 'ABCD....', 'Authorized', 'Signatory', 'CloudZen', 'Software', 'Labs', 'Pvt.', 'Ltd.']\n",
            "/content/drive/MyDrive/images1/vgi/aishka_may_month_vendor_invoice-2_std.jpg\n",
            "['Original', 'Buyer', 'Copy', 'INRA', 'TAKINVOICE', 'IACI', '10-02', '81', 'INGRAM', 'MIC220', 'INDIA', 'PRIVATE', 'LIMITED', 'La', '8', 'Regd.', 'Office:', 'Sth', 'Floor,', 'Block', 'B,', 'Godrej', 'IT', 'Park,', '02', 'Godrej', 'Business', 'District,', 'E', 'Pirojshanagar,', 'LBS', 'Marg,', 'Vikhroli', '(W),', 'Mumbai', '—', '400', '079,', 'india', 'INGRAM', 'MICRO', 'INDIA', 'PRIVATE', 'LIMITED', 'R', 'R', 'WAREHOUSING', 'Contact#', '+91', '22', '3989', '4645,', 'Website:', 'www.ingrammicro.com', 'CIN:', 'U72900MH1996PTC136340,', 'PAN:', 'AABCT1296R', '4/177,', 'PUZHAL', '-', 'AMBATTUR', 'ROAD', 'SURAPATTU,', 'CHENNAI', '600', '066', 'GST', 'State:', '33', '/', 'TAMIL', 'NADU', 'GSTIN:', '33AABCT1296R1ZU', '  ', '\"We', 'declare', 'that', 'this', 'invoice', 'shows', 'the', 'actual', 'price', 'of', 'the', 'goods', 'described', 'and', 'that', 'all', 'particulars', 'are', 'true', 'and', 'correct”', 'SHIPPED', 'FROM', 'AISHKA', 'TECHNOLOGY', 'SOLUTIONS', 'PVT', 'LTD', 'AISHKA', 'TECHNOLOGY', 'SOLUTIONS', 'PVT.L', '$72', 'V', 'BLOCK', 'SAKTHI', 'AYYANAR', 'NAGAR', 'FLAT', '#6,A', 'BLOCK,SECOND', 'FLOOR,', 'THIRUVANCHERY', 'OLD', '#9,NEW', '#18,INDIRA', 'ARCADE,', 'KANCHIPURAM', '600126', 'ase', 'VENU', 'STREET,GUINDY,CHENNAI-600032', '-', '600126', 'GST', 'State:', '33', '/', 'TAMIL', 'NADU', 'GST', 'State:', '33', '/', 'TAMIL', 'NADU', 'GSTIN:', '33AARCA6470E1ZM', 'GSTIN:', '33AARCA6470E1ZM', 'CUSTOMER', 'PO', 'NUMBER', '|', '1920007/ATSPL/CHN', 'INVOICE', 'NUMBER', '—_|', '0811900277681', 'INVOICE', 'DATE/TIME', 'a', 'cenecscesinmpe', 'cs', 'eepeedbical', 'ai', 'neta', 'ih', 'occas', 'adnasiendinen', 'aka', 'neem', 'conan', 'atin', 'ata', 'aie', '6', 'ibteitiemadiepembingiaibedisnmemaens', 'CONSIGNMENT', 'NOTE', 'NO', '|', 'vet', '23220', 'CARRIER/MODE', ' |DOORDELIVERED', '|', 'E-WAY', 'BILL.NO', '——', '“<\\\\ES', 'ORDER', 'NUMBER', '|', '10-61734-11', 'CUSTOMER', 'NUMBER', '|/0-AITESP-000-200', '|', 'TERMS/', 'DUE', 'DATE', '|', '30DAYS', 'PDC', '7', '159,200.00', 'FR', '159.20', '159,359.20', 'CGST', '9.00%', '188,043.86', '14,342.33', '9.008', '14,342.33', '  ', 'SUB-', 'TOTAL', 'CGST', 'TOTAL', 'SGST', 'TOTAL', 'IGST', 'SUB-TOTAL', '(2)', 'OTHERS', 'GRAND', 'TOTAL', '14342.33', '14342.33', '28684.66', '188043.86', 'HTY', 'EIGHT', 'THOUSAND', 'FORTY', 'THREE', 'AND', 'EIGHTY', 'RUPEES', 'ONE', 'HUNDRED', 'Number', 'of', 'Boxes', 'Shipped', 'Number', 'of', 'Boxes', 'Received', 'Date', 'of', 'Receipt', \"Receiver's\", 'Signature', '&', 'Seal', 'For', 'Ingram', 'Micro', 'India', 'Private', 'Ltd.|', '\\\\', '\"Acceptance', 'of', 'Goods', 'and', 'Services', 'under', 'this', 'invoice', 'or', 'making', 'part', 'or', 'full', 'payment', 'or', 'only', 'acknowledgment', 'of', 'this', 'invoice', 'is', 'treated', 'as', 'acceptance', 'of', 'Terms', '&', 'Conditions', 'printed', 'overleaf', 'and', 'acceptance', 'of', 'Sales', 'Terms', '&', 'Conditions', 'of', 'Ingram', 'Micro', 'available', 'at', 'www.imonline.co.in\"', '“Ingram', 'Micro', 'India', 'Private', 'Ltd.', 'and', 'the', 'customer', 'agree,', 'in', 'case', 'of', 'any', 'dispute', 'arising', 'out', 'of', 'or', 'in', 'connection', 'with', 'this', 'transaction', 'shall', 'be', 'referred', 'to', 'a', 'sole', 'arbitrator', 'appointed', 'by', 'Ingram', 'Micro', 'India', 'Private', 'Ltd.', 'and', 'his', 'decision', 'shal!', 'be', 'final', 'and', 'binding', 'on', 'both', 'the', 'parties”', 'ue', '°', '&', 'ui', 'Authorised', 'Signatory']\n",
            "/content/drive/MyDrive/images1/vgi/FuelPump_Bill._std.jpg\n",
            "['World', 'Class', 'Automobiles', 'P', 'Ltd.', '68/3,', 'Najafagarh', 'Road', 'Near', 'Moti', 'Nagar,', 'New', 'Delhi,', '110015', 'v4', 'Phone', 'No.', '011-45340000-30', 'VATR.C', 'No.', ':', '07380354119', 'W.E-F.', 'Fax', 'No.', '011-45340030', 'C.S.T.R.C', 'No.', ':', '07380354119', 'W.EF.', 'E-Mail', 'service@ww-worldclassauto.co.in', 'Ser.', 'Tax.No', ':', 'AAACW8382JSTOO1', 'PAN', '2', 'AAACWE382J', 'Copy', '~', 'Retail', 'Invoice', 'Repair', 'Order', 'No.', 'Invoice', 'No.', 'Repair', 'Order', 'Date', '15-Sep-13', 'Invoice', 'Date', '16-Sep-13', 'Customer', 'Name', '‘VOLKSWAGEN', 'GROUP', 'SALES', 'INDIA', 'Regn.', 'No.', 'Customer', 'Add.', 'A', 'division', 'of', 'VWGSIPL', 'VIN', 'WVWA', 'Silver', 'Utopia,', '3&4th', 'Fir', 'Model', 'Polo', 'Comfortline', '1.2L', 'CR', 'MT', 'Cardinal', 'Gracious', 'Rd,Chakala', 'Kms', 'In', '39,748', 'Andheri,', '400099', 'Kms', 'Out', '39,757', 'India', 'Demanded', 'Repair', '(Customer', 'Voice)', '|', '1', '|', 'VEHICLE', 'DO', 'NOT', 'START', 'CHK', 'UP.(', 'VEHICLE', 'TOWING', 'BY', 'PRIVATE', 'CRANE', ')', 'a', '=', 'Se', 'oe', 'Labor', 'Details', 'r', 'SS', '=', '=', 'aaa', 'eae', 'Sa', 'a', 's.', 'Cate-', 'SerTax', 'WCT@', 'No,', 'Description', 'Labor', 'Code', '|', 'gory', '|', 'Rate', 'ty.', 'Amount', '_|', '(12.36%)', '(12.50%', '|', 'Amount', 'incl.', 'Tax', '1.', '[Electric', 'fuel', 'pump', 'removedsreinstalled', '20661900', '3a', '70', '217.70', '26.90', '244,60', '|', '[Electric', 'fuel', 'pump', 'replaced', '20665550', 'ant', '40', '31.10', '3.84', '34.94', '|', 'i', 'make', 'E', 'c', '™', '248.80', '3074', '279.54', '|', 'Parts', 'Details', 'r', '=', 'ee', '3', 'ak', 'Seep', 'ep', 'ee', 's.', 'Cate-', '{customer', 'VAT', 'No.', 'Description', 'Part', 'No.', 'gory', '|', 'Qty.', '|', 'Unit', 'Price', 'share(%)', 'Amount', '|', 'VAT%', '|', 'Amount', '_|', 'Amount', 'incl.', 'Tax', '11_', 'FUEL', 'DELIVERY', 'UNIT', 'AND', '|6R091905048', '+', '[5,084.44', '100.00', '5,084.44', '|', '1250', '635.56', '5,720.00', '|', '5,084.44', '635.56', '5,720.00', '7', 'Total', 'Parts', 'And', 'Labor', '6,090.00', '|', 'Rupees', ':', '‘SIX', 'THOUSAND', 'RUPEES', 'AND', 'ZERO', 'PAISA', 'ONLY', '-', '-', ':', '7', 'ye']\n",
            "/content/drive/MyDrive/images1/vgi/invis1._std.jpg\n",
            "['Original', 'for', 'Recipient', '_', 'INVOICE', 'X33', 'SS', 'S', 'LEc<', 'Bl', 'LL', 'Date', 'February', '21,', '2018', 'Due', 'Date', 'March', '03,', '2018', 'P.O.', 'Number', '02', 'P.O.', 'Date', 'January', '24,', '2018', 'Sorina', 'TEST', '123', 'Bill', 'to:', '2}', 'Long', 'Baharam,', '34-38,', 'B', 'Building', 'Ab', 'Company', 'Waybill', 'No:', '234', 'Madurai,', 'Tamil', 'Nadu', '(TN', '-', '33),', 'India', '<<}', 'Hope', 'Street', 'no.', '26,', 'Building', 'B', 'LR', 'No:', 'B256', '®', '998756334', 'Mumbai,', 'Maharashtra', '(MH', '-', '27),', 'Delivery', 'Note:', '05', ';', 'ayes', 'India', 'Vehicle', 'No:', 'B', '230', 'BLR', '@', 'sorina@sleekbill.in', 'ndi', 'Shioping', 'method:', 'truck', '®', 'sleekbill.in', '@®', '9873421098', 'pping', ':', 'i', 'GSTIN:', '123456711111111', '&', 'Maron', 'Smith', '|', 'Place', 'of', 'Supply:', 'MH', '(27)', 'GSTIN:', 'O9AAMFCO376K1Z4', 'PREPARA', 'NO', 'PRODUCT', '/', 'SERVICE', 'NAME', 'HSN/SAC', 'TION', 'UNIT', 'PRICE', 'IGST', 'CESS', 'AMOUNT', '1', 'solvent', '345', '23.00', '200.00', '524.40', '218.50', '4,894.40', 'white', 'cleaner', 'industrial', 'subsctance', 'ISD', 'BOS', 'cOUnLS', '12:00%', 'be', '00456', '2', 'detergent', '1296', '3.00', '2,000.00', '1,080.00', '0.00', '7,080.00', 'only', 'carpets', '100%', 'KER23', 'JEO0e', 'ee', '3', 'poly', 'cloth', '3455', '100.00', '150.00', '1,620.00', '0.00', '15,120.00', '2', 'layer,', 'dust,', 'anti', 'static,', 'blue', '“Discount', '10%', '12.00%', 'Os', 'Shipping', '&', 'Packaging', '100.00', '12.00', '112.00', '@12.00%', '@12%', '17870.00', '2144.40', '20014.40', '@18%', '6000.00', '1080.00', '7080.00', 'TOTAL', '23970.00', '3224.40', '218.50', '27094.40', 'Total:', '*', 'Twenty', 'Seven', 'Thousand', 'Four', 'Hundred', 'Twenty', 'Five', 'Only', 'TOTAL', 'BEFORE', 'TAX', '25,700.00', 'Pay', 'Now', 'with', 'PayPal', 'DISCOUNT', '(-)', '1,730.00', 'TOTAL', 'TAX', 'AMOUNT', '3,454.90', 'AUTHORIZED', 'SIGNATORY', 'ROUNDED', 'OFF', 'a6', 'TOTAL', 'AMOUNT', '€', '27,425', 'AMOUNT', 'DUE', '€', '27,425', 'NOTE:', 'Please', 'note', 'that', 'all', 'products', 'are', 'fragile', 'and', 'need', 'to', 'be', 'transported', 'with', 'caution.', 'If', 'invoice', 'has', 'not', 'been', 'paid', 'in', '5', 'days', 'after', 'due', 'date,', 'a', 'tax', 'of', '10%', 'of', 'total', 'value', 'is', 'applied', 'to', 'each', 'day', 'of', 'delay.']\n",
            "/content/drive/MyDrive/images1/vgi/Awesome-Template-of-GST-Invoice-Format-in-Excel-Download-xlsx-file_std.jpg\n",
            "['INVOICE', 'SK', 'DIGITAL', 'Invoice', 'No.', '6464615', 'lOrderid', '—DiGi464614', 'Invoice', 'Date', '09-03-2021', '|DueDate', '16-03-2021', '[SHIP', 'TO', 'Boones', 'Beenetitar', 'ee', 'A', 'a', 'elo', 'eM', 'eae', 'coy', 'Daa', 'Don', 'scene)', 'Os', 'scesescid', 'SUA', 'eee', 'GSTIN', ':', '6969696969696969', 'Pa', 'ITEM', 'NAME', '1.', 'Rs.', '125.00', 'ITEM', 'NAME', '2', 'Rs.', '235.52', '(TEM', 'NAME', '3', 'Rs.', '658.00', 'ITEM', 'NAME', '4', 'Rs.', '485.00', 'ITEM', 'NAME', '5.', 'Rs.', '215.00', 'TOTAL', 'DISCOUNT', '@', '1.7%', '5', '.', 'SGST@', '9%', 'CGST', '@', '9%', 'Raed', 'Stee', 'eeeaets', 'Lee', 'Le', 'REE', 'eA', 'T.&C', '1', 'Total', 'payment', 'due', 'in', '7', 'days.', '2', 'Please', 'inclue', 'Include', 'the', 'Invoice', 'number', 'in', 'your', 'payment', 'notes.', '3', 'To', 'must', 'be', 'paid', 'full', 'amount', 'on', 'due', 'date', 'Authorized', 'Sign.', 'If', 'you', 'have', 'any', 'queries', 'for', 'this', 'Invoice', 'please', 'contact', '[+91XXXXXXXXXX],', 'example@m:', '=', 'SATE']\n",
            "/content/drive/MyDrive/images1/vgi/Book3._std.jpg\n",
            "['Duplicate', 'Shop', 'No-10', 'Kochar', 'Market', 'Ludhiana', 'Punjab', '-', '141001', 'O3ABRPK6485FGN1Z', 'TAX', 'INVOICE', '|__DocumentNo', '|', '2', 'StateCode', '|', '03,', '|Date=]', '24-12-2020', 'M/S', 'FOOJI', 'INDUSTRIES', '|', '‘C', 'Tech', 'Computer', 'Education', 'Shop', 'No-10,', 'Kochar', 'Market', 'Ludhiana', 'Punjab-140001', 'Contect', 'Number-', '0161', '00000000', 'Email', 'Id-', 'Customercare.ctech@gmail.com', 'Sele', 'Type', 'Interstate', 'fa]', '|', 'hax|', 'co', '|', '|!', 'ano', '21,000', 'cesT', 'Rupees', 'TwentyFour', 'Thousand', 'Seven', 'Hundred', 'Eighty', 'Only', 'Bank', 'Name', ':-', 'a', ' __', 'saaceaaaee', 'KUMAR', 'Bank', 'A/C:', '12345678911', 'SBiN00001234', 'Terms', '&', 'Conditions:-']\n",
            "/content/drive/MyDrive/images1/vgi/GST-Invoice-1._std.jpg\n",
            "['GST', 'Invoice', 'Template', 'Street', 'Address,', 'Phone', '1234567800,', 'Fax', '1234567800,', 'Email', 'abc@abe.com', 'Raj', 'Enterprise', 'es', 'ABC,', 'DEF', 'building,', 'HU', 'Street', 'Chennai', '2017/GST/01', 'ABC,', 'DEF', 'building,', 'HU', 'Street', '22-ANAAAOOOOA-V-6', '6/21/2017', '&', 'Es', 'a', 'BERS', 'ies', 'See', 'se', 'Se', 'Creede', 'at', 'ions', 'HE.', 'cotton', 'Dress', 'Material', '62114210', '60', 'Pcs.', '250', 'MNBUNN)', '1500', 'MIBETT)', '6.00%', 'NET)', '6.00%', '[NEST', '0.00%', 'I)', 'WE', 'Georgette', 'Kurtis', '621050', '40', 'Pcs', '550', 'MNEINT)', '2200', 'METI', '10.00%', 'MEET)', '8.00%', 'METZ)', '0.00%', 'IIT)', 'z=', 'qn', 'za', 'x', 'GCE)', 'MED)', 'ETD', 'EE)', 'A', 'A)', 'ER)', '[Amount]', 'Total', 'ivore', 'Value]', '37000', '|', 'ones', 'Ea', 'Total', 'Taxable', 'Value|', 'Total', 'cast]', '2790', '|', 'ST', 'Totalsesr]', '2394', '|', 'DC', 'Ce', 'Le', 'eS', 'a', 'Thank', 'you', 'for', 'your', 'Business', 'Grand', 'Total]', '3eaaa', '|']\n",
            "/content/drive/MyDrive/images1/vgi/service_tax_invoice_format._std.jpg\n",
            "['amazonin', 'Tax', 'Invoice', '—', 'Format', 'SELES', 'vim', '‘Amazon', 'Seller', 'Services', 'Private', 'Limited', 'Invoice', 'Date:', '30/06/2016', '#', '26/1,', 'Brigade', 'Gateway,', '8th', 'Floor.,', 'Dr', 'Invoice', 'Number:', 'VIA-IN-451009', 'Rajkumar', 'Road,', 'Malleshwaram', 'West,', 'Banglore,', 'Kamataka,', '560055,', 'IN', 'Website:', 'www.amazon.in', 'PAN', 'No:', 'AAICA3918J', '‘Service', 'Tax', 'Registration', 'No:', 'AAICA3918JSD001', 'CIN', 'No:', 'U51900KA2010PTC053234', 'Bill', 'to', '‘Name:', 'Vinod', 'Kumar', 'Address:', 'H.No.', '1324,', 'Near', 'N.T.C.', 'School,', 'Rajpura', 'Town,', 'Punjab,', '140401,', 'IN', '|SLNo|Category', 'of', 'Service', '_', '|Description', 'of', 'Service|', 'Tax', 'Rate|Amount', '[t.', '[Business', 'Support', 'Services|Fixed', 'Closing', 'Fee', 'INR', '10.00]', '‘Service', 'Tax', '74.00%)', '_', 'INR', '1.40]', '[Swachh', 'Bharat', 'Cess_|', '0.50%)', 'INR', '0.05]', 'ee', '_[krishi', 'Kalyan', 'Cess', '10.50%]', '_', 'INR', '0.05)', 'Business', 'Support', 'Services|Listing', 'Fee', 'INR', '156.00', '‘Service', 'Tax', '44.00%)', 'INR', '21.84]', '[Swachh', 'Bharat', 'Cess', '|', '0.50%)', '_', 'INR', '0.78]', '0.50%]', 'INR', 'O78)', 'Total:', 'INR', '190.90', 'Please', 'note', 'that', 'this', 'invoice', 'is', 'not', 'a', 'demand', 'for', 'payment', 'To', 'view', 'your', 'account', 'at', 'any', 'time,', 'access', 'Account', 'Summary', 'Regd', 'Office:', 'Amazon', 'Seller', 'Services', 'Private', 'Limited', '8th', 'Floor,', 'Brigade', 'World', 'Trade', 'Center', 'Dr', 'Raj', 'Kumar', 'Road,', 'Malleshwaram', '(West)', 'Bangalore', '560', '055,', 'India', 'Service', 'Tax', 'Registration', 'No:', 'AAICA3918JSD001', 'Pan', 'No:', 'AAICA3918J', 'CIN', 'No:', 'U51900KA2010PTC053234', 'Telephone:', '+91', '89', '33420300', 'Fax:', '+91', '80', '30625685', 'Email:', 'customer-service@amazon', 'in', 'Accounting', 'Education', '(www.svtuition.org)']\n",
            "/content/drive/MyDrive/images1/vgi/gst-tax-invoice._std.jpg\n",
            "['‘Ambbetaae', 'Road,', 'Worl,', 'Murichar', 'Chambers,', 'Mumbai', '-', '400028', 'G', 'Gl', 'Industries', 'TAX', 'INVOICE']\n",
            "/content/drive/MyDrive/images1/vgi/GST-invoice-sample._std.jpg\n",
            "['Tax', 'Invoice', 'ABC', 'LTD', 'No', '34,', 'GS', 'Building', 'Calicut', 'GSTINIUIN:', '32AAEFO1405F1ZY', 'E-Mail', ':', 'acc@abe.com', 'Buyer', 'NATIONAL', 'ELECTRONICS', 'MOUNT', 'ROAD,', 'CALICUT,', 'RABY', 'TOWER,', 'FLOOR', 'Tnvoice', 'No.', 'Dated', 'fi', '41-Feb-2018', 'Delivery', 'Note', 'Mode/Terms', 'of', 'Payment', 'Suppliers', 'Ret', '04565', 'Other', 'Reference(s)', 'Buyers', 'Order', 'No.', 'Dated', 'Despatch', 'DocumentNo|', 'Delivery', 'Note', 'Date', 'NO', '3,', '690001', '4855,', 'Sanne', 'Kesar', 'eoas', '32', 'Despatched', 'through', 'Destination', 'GSTINIUIN', '32AAAGMO289C1ZS', 'GAT', '{CALICUT', 'Place', 'of', 'Supply', '-', 'Kerala', 'Bill', 'ofLadingLR-RRNo.', '[Motor', 'Vehicle', 'No.', '[87545', 'dt.', '1-Feb-2018', '_|KL60.D-4587', 'Terms', 'of', 'Delivery', 'Sj', 'Description', 'of', 'Goods', 'HSNISAC]', 'GST]', 'Quantity', '|', 'Rate', 'per]', 'Amount', 'Na', 'Rate', '1|pvo', '2521', '18%]', '10PCs|', '3.500.00]Pcs|', '35,000.00]', 'cesT]', '3,150.00]', 'SGsT|', '3,150.00]', 'Total]', '10', 'PCS', '=', '41,300.01', '/Amount', 'Chargeabe', '(in', 'words)', 'E', '&0E|', 'INR', 'Forty', 'One', 'Thousand', 'Three', 'Hundred', 'Only', 'HSNISAG', 'Taxable', 'Central', 'Tax', 'State', 'Tax', 'Total', 'value__|', '\"Rate', '|', 'Amount_[', 'Rate', '[', 'Amount', '_|', 'Tax', 'Amount', 'B52', '35,00000[', '9%]', '3,150.00]', '9%]', '3,150.00]', '__', '6,300.00', 'Total', '35,000.00', '3,150.00]', '3,150.00]', '6,300.00', 'Tax', 'Amount', '(in', 'words)', ':', 'INR', 'Six', 'Thousand', 'Three', 'Hundred', 'Only', 'Declaration', '{We', 'dectare', 'that', 'this', 'invoice', 'shows', 'the', 'actual', 'price', 'of', 'the', 'goods', 'described', 'and', 'that', 'all', 'particulars', 'are', 'true', 'and', 'correct.', 'Tor', 'ABC', 'TD', 'Authorised', 'Signatory|', 'SUBJECT', 'TO', 'KANNUR', 'JURISDICTION', 'This', 'is', 'a', 'Computer', 'Generated', 'Invoice']\n",
            "/content/drive/MyDrive/images1/vgi/tax-invoice-formatjpeg._std.jpg\n",
            "['Your', 'Business', 'Name', '[insert', 'logo', 'here]', 'Suet', 'Asdress', 'Cy.', 'State', 'Postoove,', 'Country', 'Tel.', '(455)', '3156-1254,', 'Fax.', '(256)', '3156-1295,', 'Emad', 'youname@youtste', 'com', '‘Website', 'www', 'yoursite', 'com,', 'Tax', 'Regisiraton', 'Number', 'your', 'lax', 'feg', 'no', '  ', '  ', '  ', '  ', 'Sold', 'To', '‘Ship', 'To', 'TAX', 'INVOICE', '‘Customer', 'Name', 'Ship', 'To', 'Name', 'Invoice', 'Not', '10001', 'Street', 'Address', 'Ship', 'To', 'Street', 'Address', 'Date', '10/08/2013', 'City.', 'State/Province,', 'Zip/Post', 'code', 'City.', 'StateiProvince,', 'Zip/Post', 'code', 'Your', 'Rettt', 'Country', 'Country', 'Our', 'Ret!', 'Attention', 'To', ':', 'Contact', 'Person', 'Attention', 'To', ':', 'Contact', 'Person', 'Creda', 'Terms.', 'Cash', 'ProductiD', '[Description', '‘Quanttyfum,', 'Unit', 'Price]', '2314254', '[Product', 'A', '2]sets', '$1,200.00}', '$2,400.00]', 'sfpcs', '$400.00}', '$1,200.00]', '153,600.00}', 'Comments', 'Terms', '&', 'Conditions', '+=', 'All', 'goods', 'remain', 'the', 'property', 'of', '\"Your', 'Business', 'Namo”', 'until', 'full', 'payment', 'has', 'been', 'recewved', '=', 'Please', 'make', 'check!', 'choque', 'payments', 'payable', 'to', '\"YOUR', 'BUSINESS', 'NAME', '=', 'Payments', 'may', 'aso', 'be', 'made', 'by', 'wire', 'transter', '1o', 'the', 'folowing', 'account', '‘Account', 'Name', '‘Account', 'No', '#']\n",
            "/content/drive/MyDrive/images1/vgi/1cf8f4113cd67d2f7e75b9985c1970d5._std.jpg\n",
            "['INVOICE', 'Seayam', 'Education', 'PML', 'Lid', 'rice', 'Daed', 'Balasore', '756001', 'se00nt7-18', 'layueoor7,', 'losehe', 'Bsiery', 'Ne', '[este', 'AST', 'PSEA', 'COE', 'ISRETERE', 'CRS', 'SRE', 'ae', 'Rajib', 'Roy', '&', 'Sons', '[SeinunanstrsoTeanz', '|', 'Daa', 'Dear', '[Danae', 'SE', 'TTR', 'Dea', 'lCompanysPaN', 'ASTPSOTE2A', 'a', 'ie', 'dasare', 'nat', 'his', 'nwice', 'stows', 'the', 'actual', 'pce', 'ofte', '|', 'SaneName', 'pods', 'deserted', 'a', 'sy', 'Description', 'of', 'Goad', 'TENSES', '[EST', 'RSE]', 'Giantly', '|', 'RSE', '[pe]', '—_Anoant', '+', '[antivirus', 'Software', 'CD', '18%', '|', 'epes|', '120000/P=|', '7.50000]', 'utput', 'casr|', 'sr5.0]', 'Output', 'SeS7|', '75.00', 'Te', 'BPE', '8.85000', 'cant', 'Cra', 'Pe', 'EEO', 'BUR', 'Eight', 'Thousand', 'Eight', 'Hundred', 'Fifty', 'Only', 'FENSAC', 'Tate', 'Tae', 'SETH', 'see', 'Tamer', 'Re', 'Tare', 'feooma|', 'S|]', 'eve', 'mo', 'eel', 'erea0|', 'Tatal|', '75001', '375.0', '275.0', '[recAmaur(nvers)', 'INR', 'One', 'Thousand', 'Three', 'Hundred', 'Fifty', 'Oniy', 'Bone.', 'iparcubrs', 'ate', '‘Ganpan/s', 'Bank', 'Desi', 'Srench', '&', 'FS', 'Code', '|', 'UTBAAARAAY', '‘hx', 'Bank', 'Zao', 'eosorers', 'ST', 'ra', 'Sate', 'Tor', 'SeajarnECucaton', 'PL', 'Lid', 'arsed', 'Sand', 'SUBIECT', 'TOBALASORE', 'WREDICTION', 'Thi', 'omputr', 'Ger']\n",
            "/content/drive/MyDrive/images1/vgi/003-Sales-Order-2-Deposit-SST_1._std.jpg\n",
            "['Testing', 'Gym', 'Manufacturer', 'Sdn', 'Bhd', 'asic', 'No.', '57,', 'Jalan', 'S$', '17/1C,', '47500,', 'Petaling', 'Jaya,', 'Selangor,', 'Malaysia,', 'Phone:', '03-5637', '0217', 'Fax:', '03-5637', '0117', '(SST', 'No:', '000612345678)', 'Sales', 'Order', 'Bing', 'Adress', 'HERO', 'FITNESS', 'CLUB', '2368,', 'Jalan', 'Hala', 'Timah', '2,', 'Taman', 'Kole]', 'Perdana,', '31900', 'Kampar,', 'Perak', 'atin', 'Mr,', 'Jonathan', 'Liew', 'Delivery', 'Adress', '2368,', 'Jalan', 'Hala', 'Timah', '2,', 'Taman', 'Kole]', 'Perdana,', '31900', 'Kampar,', 'Perak', 'At', 'Mr,', 'Jonathan', 'Liew', 'Tel', '05-466', '0578', 'Tel', '05-466', '0578', 'te', 'tem', 'Cos', 'Decion', 'ww', 'esc', 'eons,', 'Teta', 'Dice', '1', 'RACK-419', 'Barbell', 'Rack', 'DM-419', '10.00', 'SET', '638.00', '7,018.00', '2', 'STACK-O75', 'Junge', 'Stack', 'DM-075', '20.00', 'UNIT', '2,150.00', '47,300.00', '3', 'TREADMILL-424', 'Treadmill', 'DM-424', '5.00', 'UNIT', '3,279.00', '18,034.50', '4', 'BENCH-020', 'Set', 'Up', 'Bench', 'DM-020', '10.00', 'UNIT', '1,349.00', '14,839.00', 'RINGGIT', 'MALAYSIA', ':', 'EIGHTY', 'SEVEN', 'THOLISAND', 'ONE', 'HUNDRED', 'NINETY', 'ONE', 'AND', 'CENTS', 'FIFTY', 'ONLY', 'Total', 'Excl.', 'Tax', '79,265.00', 'Tax', 'Amt,', '7,926.50', 'Total', 'Ind.', 'Tax', '87,191.50', 'Less', 'Deposit', '(50,000.00)', '60', 'Days', '37,191.50', '“Teng', 'Gym', 'Mende', 'Sn', 'Bd', 'SEH)']\n",
            "/content/drive/MyDrive/images1/vgi/fomat-of-gst-tax-invoice._std.jpg\n",
            "['Revised', 'Invoice', 'JYOTI', 'GST', 'TALLY', 'PRACTICE', 'PRIVATE', 'LIMITED', '|', 'Credit', 'Note', 'No.', 'Dated', 'B-240', '1', '1-Jul-2017', 'RAMESH', 'NAGAR', 'Mode/Terms', 'of', 'Payment', 'GSTIN/UIN:', 'O7APACG8976H1Z8', 'E-Mail', ':', 'accounts@gstp.com', \"Buyer's\", 'Ref.', 'Other', 'Reference(s)', 'GTI-01', 'dt.', '1-Jul-2017', 'Party', ':', \"Buyer's\", 'Order', 'No.', 'Dated', 'Ghai', 'Store', 'R-786', 'New', 'Rajinder', 'Nagar,', 'New', 'Delhi-110060', 'Despatch', 'Document', 'No.', 'State', 'Name', ':', 'Delhi,', 'Code', ':', '07', 'GSTIN/UIN', ':', 'O7BBUPK8789J1Z8', 'Despatched', 'through', 'Destination', 'Terms', 'of', 'Delivery', 'Sl', 'Description', 'of', 'Goods', 'HSN/SAC)', 'Quantity', 'Rate', 'per', 'Amount', 'No', '1', '|', 'Spices', '09042211', '2', 'Kg}', '1,200.00}', 'Kg', '2,400.00', 'Output', 'CGST@9%', '91%', '216.00', 'Output', 'SGST@9%', '91%', '216.00', 'Total', '2Kg', '=', '2,832.00', 'Amount', 'Chargeable', '(in', 'words)', '£606', 'INR', 'Two', 'Thousand', 'Eight', 'Hundred', 'Thirty', 'Two', 'Only', 'HSN/SAC', 'Taxable', 'Central', 'Tax', 'State', 'Tax', 'Total', 'Value', 'Rate', 'Amount', 'Rate', 'Amount', '|', 'Tax', 'Amount', '09042211', '2,400.00', '9%', '216.00', '9%', '216.00', '432.00', 'Total', '2,400.00', '216.00', '216.00', '432.00', 'Tax', 'Amount', '(in', 'words)', ':', 'INR', 'Four', 'Hundred', 'Thirty', 'Two', 'Only', 'for', 'JYOTI', 'GST', 'TALLY', 'PRACTICE', 'PRIVATE', 'LIMITED', 'Authorised', 'Signatory', 'This', 'is', 'a', 'Computer', 'Generated', 'Document']\n",
            "/content/drive/MyDrive/images1/vgi/tax-invoice-format-2-tallyprime._std.jpg\n",
            "['Tax', 'Invoice', 'Ali', '&', 'Co', 'West', 'Gate,High', 'Street,', 'Muscat', 'VATIN', ':', 'AA1234567890', 'Buyer', 'Max', 'Enterpieses', 'Centre', 'Point', 'Mall,', 'New', 'Street,', 'Muscat', \"Supplier's\", 'Ref.', \"Buyer's\", 'Order', 'No.', 'Despatch', 'Document', 'No.', 'Invoice', 'No.', 'Dated', '1', '11-Nov-21', 'Delivery', 'Note', 'Mode/Terms', 'of', 'Payment', 'Other', 'Reference(s)', 'Dated', 'Delivery', 'Note', 'Date', 'Country', ':', 'Sultanate', 'of', 'Oman', \"'Despetehedimeugh/Toeetaatl\", 'VATIN', ':', 'AS0987654321', 'lespatched', 'Inroug)', 'estnavon:', 'Place', 'of', 'supply', ':', 'Sultanate', 'of', 'Oman', 'poo', 'Terms', 'of', 'Delivery', 'Sl', 'Description', 'of', 'Goods', 'Quantity', 'Rate', '|', 'per', '|', 'VAT', 'Amount', 'No.', '%', '1', '|Product', '10', 'Nos}', '350.000/Nos|', '5', '%', '3,500.000', 'Amount', 'Chargeable', '(in', 'words)', 'Taxable', 'Value', '3,500.000', 'Omani', 'Rial', 'Three', 'Thousand', 'Six', 'Hundred', 'Seventy', '|ValueAddedTax5%', '175.000', 'Five', 'Only', '(OMR', '3,675.000)', 'Invoice', 'Total', '3,675.000', 'VAT', 'Amount', '(in', 'words)', 'E.&0O£E|', 'Omani', 'Rial', 'One', 'Hundred', 'Seventy', 'Five', 'Only', '(OMR', '175.000)', 'Declaration', 'for', 'Ali', '&', 'Co', 'We', 'declare', 'that', 'this', 'invoice', 'shows', 'the', 'actual', 'price', 'of', 'the', 'goods', 'described', 'and', 'that', 'all', 'particulars', 'are', 'true', 'and', 'correct.', 'Authorised', 'Signatory', 'This', 'is', 'a', 'Computer', 'Generated', 'Invoice']\n",
            "/content/drive/MyDrive/images1/vgi/simplified-tax-invoice-2._std.jpg\n",
            "['Invoice', 'No.', '1', 'Dated', '11-Nov-21', 'Ref.', 'No.', 'Ali&', 'Co', 'West', 'Gate,High', 'Street,', 'Muscat', 'VATIN', ':', 'AA1234567890', 'Simplified', 'Tax', 'Invoice', 'Party', ':', 'Max', 'Enterpieses', 'Centre', 'Point', 'Mall,', 'New', 'Street', 'Muscat', 'Country', ':', 'Sultanate', 'of', 'Oman', 'VATIN', ':', 'AS0987654321', 'Place', 'ofsupply', ':', 'Sultanate', 'of', 'Oman', 'SINo', 'Description', 'of', 'Goods', 'Quantity', 'Rate', 'per', 'Amount', 'VAT', '%', '1', '|', 'Product', '10', 'Nos|', '350.000!', 'Nos', '3,500.000|', '5%', 'VAT)', '175.000', 'Total]', '10Nos', 'OMR', '3,675.000', 'Amount', 'Chargeable', '(in', 'words)', 'E&OE', 'Omani', 'Rial', 'Three', 'Thousand', 'Six', 'Hundred', 'Seventy', 'Five', 'Only', '(OMR', '3,675.000)', 'VAT', 'Amount', '(in', 'words)', 'Omani', 'Rial', 'One', 'Hundred', 'Seventy', 'Five', 'Only', '(OMR', '175.000)', 'VAT', '%', '_Assesable', 'Value', 'Tax', 'Amount', '5%', '3', '000', '175.000', 'Total', '3', '000', '175.000', 'Declaration', 'for', 'Ali', '&', 'Co', 'We', 'declare', 'that', 'this', 'invoice', 'shows', 'the', 'actual', 'price', 'of', 'the', 'goods', 'described', 'and', 'that', 'all', 'particulars', 'are', 'true', 'and', 'correct.', 'Authorised', 'Signatory', 'This', 'is', 'a', 'Computer', 'Generated', 'Invoice']\n",
            "/content/drive/MyDrive/images1/vgi/4921_001-6_std.jpg\n",
            "['G', 'MOULDING', 'SOLUTIONS', 'Tax', 'Invoice', 'D.P:23B/1,', 'SIDCO', 'INDUSTRIAL', 'ESTATE,', 'THIRUMAZHISAI,', 'ORIGINAL', '    ', '     ', '     ', '     ', '  ', '  ', '  ', '    ', '  ', '  ', '      ', '      ', '  ', 'CHENNAI-600124', 'GSTIN:', '33BNWPG8190D1ZP', 'Invoice', 'No:', 'GMS/20-21/02818', '~', 'Transport', 'Mode', ':', 'BY', 'ROAD', 'Invoice', 'Date', ':', '20-10-2020', 'Vehicle', 'Number:', 'C.HV', 'Reverse', 'Charge', '(Y/N):', 'NO', '.', 'Po', 'Number', ':', '5500018190', 'Po', 'Date', ':', '18-06-2020', 'Bill', 'To', 'Ship', 'To', 'Name', ':', 'MINDARIKA', 'PVT.', 'LTD', 'Name', ':', 'MINDARIKA', 'PVT.', 'LTD', '  ', 'Address:', 'PLOT', 'NO.', 'RNS-22,', 'SIPCOT', 'INDL', 'GROWTH', 'CENTRE,', 'Address:', 'PLOT', 'NO.', 'RNS-22,', 'SIPCOT', 'INDL', 'GROWTH', 'CENTRE,', 'ORAGADAM', 'EXPANSION', 'SCHEME,', 'VADAKKUPATTU,', 'ORAGADAM', 'EXPANSION', 'SCHEME,', 'VADAKKUPATTU,', 'SRIPERUMBUDURKANCHIPURAM-603204', 'SRIPERUMBUDUR,', 'KANCHIPURAM-603204', 'GSTIN', ':', '33AAACM8583F1ZF', 'GSTIN', ':', 'AAACM8583F1ZF', 'STATE', ':', 'TAMIL', 'NADU', 'Code', 'TN', 'STATE:', 'TAMIL', 'NADU', 'Code', 'TN', '-', 'i', 'CGST', 'Ss', 'St', 'Productcode', 'Product', 'Description', 'HSN/SAC', 'UOM', 'Qty', 'Rate', 'Basic', 'Value!', 'Rete', 'Amit', 'ee', 'ae', 't', 'Total', 'Tax', 'No', 'code', 'ae', '7', 'ae', 'im', 'value', '1', '$11414-', 'NISSON', 'HOUSING', '87089900', 'NOS', '7142', '19.81', '.', '14,144.34', '/14.00', '1,980.21', '14,0(', '1,980.21', '3,960.42', 'Oo1Aoy', ',', '|', '  ', '  ', '     ', '    ', 'Date:20.10.2020', 'GRN', 'No.', '5006526770', 'G', 'MOULDING', 'SOLUTION', '     ', '  ', '    ', '    ', '  ', ':', '205966', 'vendor', 'GMS/20-21/02818', '4', '351', 'Invoice', 'No.', 'Bin', 'Details:', '—', '17bin', 'i', 'TOTAL', '714,00', '14,144.34.', '1,980.21', '1,980.21', '3,960.42', 'i', 'Total', 'Invoice', 'amount', 'in', 'words', 'Total', 'Amount', 'before', 'Tax', '14,144.34', 'INR', 'Eighteen', 'Thousand', 'One', 'Hundred', 'Four', 'And', 'Seventy-Five', 'Add:', 'CGST', '    ', 'Add:', 'SGST', 'Total', 'Amount', 'after', 'Tax:', '1,980.21', '18,104.75', 'Bank', 'Details', 'Bank', 'A/C:', '204700150950026,', 'C/A.', 'Bank', 'IFSC:', 'TMBLO000204', 'POONAMALLEE', 'BRANCH,', 'Chennai', '600056.', 'NOTES', 'Make', 'all', 'cheques', 'payable', 'to', '\"M/s.', 'G', 'Moulding', 'Solutions”,', 'If', 'you', 'have', 'any', 'questions', 'concerning', 'this', 'Invoice,', 'contact,', 'Mr.Gopinathan,', '+91-9840442344/', 'Mail', 'ID:', 'v.gopinathan@gmoulding.com', 'Printed', 'on', '20/10/20', '1:07', 'am', 'Report', 'Generated', 'by', 'TARA', 'ERP', 'Page', '4', 'of', '5']\n",
            "/content/drive/MyDrive/images1/vgi/Tax-Invoice-GST._std.jpg\n",
            "['Original', '(Buyer}/', 'Duplicate{Transporter)/Triplicate(Supplier):', 'Goods', '[Rule', '3(1)]', 'Original', '(Receipent|/Duplicate(Supplir):', 'Services', '[ule', '3(2)]', 'ST', 'ear', 'ee', 'ee', 'eee', 'ee', 'eee)', 'howz', 'PRIVATE', 'UMMITED', 'orice', 'No,', 'Road', 'no._,', 'Area___', 'District__Cty,', 'State_Pincode', 'seria!', 'No.', 'of', 'invoice', '5', 'comets', 'rer', 'ane', '6', 'MOREE', 'OMS', '[iehoter', 'or', 'numerator', 'specie', 'chr', 'hyphen', 'or', 'dah', 'ond', 'symbotzed', 'and', 'respect', 'and', 'any', 'combination', '[GSTIN:_AAAATITIAGSTINGOOO.', '[Bate', 'of', 'invoice', 'Details', 'of', 'Receiver', '(Billed', 'to}', 'Name', '[aaarese', 'sate', 'state', 'Code', '[GSTiIN/Unique', 'Details', 'of', 'Consignee', '(Shipped', 'to)', 'ress', 'sad', 'x', '“aera', 'of', 'caine', 'orper', 'scion', '22)', 'fate', 'rach', 'recpet', 'is', 'urregiared', 'ond', 'where', 'the', 'value', 'ole', 'rate', 'Code', 'ri', 'fiythovzand', 'pes', 'or', 'more', '[esTin7Unigue', 'TD', 'Freighal', 'Trsurance|', 'Packing', 'and', 'Forwarding', 'Charge]', 'Tora', '“Tota', 'i', 'Value', 'Gn', 'Fi', 'Total', 'Bil', 'Value', '(in', 'Words]', 'Til', 'Amount', 'subject', 'to', 'Reverse', 'Cha', 'ForXv2', 'Private', 'imited', 'aiikedh', 'aides']\n",
            "/content/drive/MyDrive/images1/vgi/Sales_Invoice__19-20-001_std.jpg\n",
            "['    ', '  ', '  ', 'an', 'I', 'te', 'A', 'ORLA', 'NITOEN', 'Tax', 'I', 'n', 'voice', 'a', 'sensi', 'Original', 'for', 'Keelplent', 'Qualisure', 'Scientific', 'LLP', '.', ':', '134', 'Kasturba', 'Mahila', 'Society,', 'B/L', 'Vckrawala', 'School,', 'Palanpur', 'Patia,', 'Rander,', 'Surat-395009,', 'Gujarat,', 'INDIA', '7', 'Tel:', '+', '91', '261', '2769212', 'Mail', 'ID;', 'qualisurescientificpmail,com', 'GST;', 'ZAAAAVQTIS6MIZS,', 'PAN', ':', 'AAAFQ7186M', '  ', 'Invoice', 'No', 'Invoice', 'date', 'Reverse', 'Charge', '(Y/N)', 'Site', 'Laat', '[ote', 'Athenese-Dx', 'Private', 'Limited', 'Vehicle', 'nuinber', 'Date', 'of', 'Supply', '  ', '  ', '  ', '  ', '     ', '  ', '    ', '  ', '.', 'Module', 'No.', '407', '&', '408,', '4th', 'Floor,', 'Ticel', 'Bio', 'Park', 'II,', 'No.', '5,', 'CSIR.', '[Address', '|Module', 'No.', '407', '&', '408,', '4th', 'Floor,', 'Ticel', 'Bio', 'Park', 'IJ,', 'No.', '5,', 'CSIR', 'Road,', 'Taramani,', 'Road,', 'Taramani,', 'Chennai-600113,', 'Chennai-600113,', '[State', '[Chennai', 'Fe', 'ode', '53', 'tate', '[Chea', 'Purchase', 'Order', 'No.', 'pier', '[PoDaelammmmm|', '|', 'SL', '|', 'O8AADCA0II7GIZ9', 'GSTIN', '|33AAKCA4573B1ZZ', 'Product', 'Description', 'HSN/SAC', 'Unit', 'Code', ';', 'on', '|', '(%)', 'value', 'PVC', 'Backing', 'Laminate', '300', '|', '39204900', ';', '9750', 'Micron', 'Card', '-', '64', 'mm', 'x', '306', 'mm', '(Dividing', 'Line:', '23-20-21)', 'Mat.', 'Code', ':', 'QPVCBL-300-C-', '    ', '  ', '  ', '    ', '  ', '    ', '    ', '  ', '  ', '  ', '  ', 'Ausstostem', '|', '18', '|', '19314', 'GST', 'on', 'Reverse', 'Charge', 'Nine‘Hundred', 'Seventy', 'Nine', 'and', 'Fouty', 'Paisa', 'only', 'Bank', 'Details', 'Bank', 'A/C', 'No.', 'Bank', 'IFSC', '    ', '  ', '  ', '  ', '  ', 'HDFG', 'Bank', '50200031506397', 'HDFC0000388', '*', 'Payment', 'Terms', ':', 'PAYMENT', 'DUE', 'ON:', '30', 'days', 'from', 'tke', 'Invoice', 'Date', '*', 'Terms', '&', 'conditions', '5', '1.', 'Goods', 'once', 'sold', 'cannot', 'be', 'returned.', '2.', 'Subject', 'to', 'Surat', 'jurisdiction.', '3.', 'No', 'claims', 'are', 'entertained', 'unless', 'brought', 'to', 'our', 'notice', 'in', 'writing', 'within', '7', 'days', 'of', 'receipts', 'of', 'goods.', '4.', 'Interest', '(24%', 'will', 'be', 'charged', 'if', 'the', 'invoice', 'is', 'not', 'paid', 'on', 'due', 'date', 'Declaration', ':', 'For', 'Qualisure', 'Scientific', 'LLP', 'Certified', 'that', 'the', 'particulars', 'given', 'above', 'are', 'true', 'and', 'correct', 'and', 'the', 'amount', 'indicated', 'represent', 'the', 'price', 'actually', 'charge', 'and', 'that', 'there', 'is', 'no', 'flow', 'of', 'additional', 'consideration', 'directly', 'or', 'indirectly', 'from', 'buyer', '/', 'recipient.', 'Authorised', 'signatory', 'Scanned', 'by', 'CamScanner']\n",
            "/content/drive/MyDrive/images1/vgi/New_Bill._std.jpg\n",
            "['Tax', 'Invoice', 'ORIGINAL', 'FOR', 'RECIPIENT', 'AKG', 'Enterprises', 'Deails:', 'Type', 'of', 'Your', 'Business', 'here', '#S-23,', '3rd', 'Cross', 'MTC', 'Building,', 'I.T.', 'Estate,', 'New', 'Delhi-145897', 'Ph:', '+91', '9035045XXX,', 'Email:', 'yourmail@gmail.com', 'GSTIN:', 'O7BGUPD3647XXXX', 'STATE', ':', 'Delhi', 'CODE', ':', '07', 'Buyer', ':', 'Ankita', 'Gupta', 'Invoice', 'No.', 'Date', '#', '103,', 'Nr', 'MT', 'Complex', 'New', 'Delhi', 'SL/112', '2-Aug-20', \"Buyer's\", 'Order', 'No.', ':', \"Supplier's\", 'Ref.', ':', 'Ph', ':', '65278553XX', 'BO/12589', 'SR/14589', 'State', 'New', 'Delhi', 'Code', '07', 'Payment', 'Mode', ':', 'Credit', 'GSTIN', ':', 'O7ASDO25SDF', 'Delivery', 'Date', ':', '2-Aug-20', 'Ship', 'To:', 'Transport', 'Details', ':', 'Terms', 'Of', 'Delivery:', 'a', 'Description', 'HSN', 'Qty.', '|', 'Unit', 'Rate', 'Dis%', '|', 'Taxable', 'GST%', 'Net', 'Amount', '1', 'Product-1', '12584', '2', 'Nos', '|', '200.00', '|', '2%', '|', '392.00', '5%', '411.60', '2', 'Product-2', '45789', 'a', 'Nos', '99.00', '1%', '98.01', '12%', '109.77', '3', 'Product-3', '45712', '2', 'Nos', '55.00', '1%', '108.90', '18%', '128.50', 'Total', '5', '598.91', '649.87', 'Our', 'Bank', 'Details', 'SUMMERY', 'AMOUNT', 'Bank', ':', 'STATE', 'BANK', 'OF', 'INDIA', 'Shipping', '&', 'Packaging', 'Barnch', ':', 'Delhi', 'A/cNo.', ':', '20412XXXX03', 'CGST', '25.48', 'IFSC', 'No.', ':', 'SBINOO3XXXX', 'SGST', '25.48', 'Round', 'off', 'Amount', '0.13', 'Total', 'Amount', '650.00', 'Amount', 'in', 'Words', ':', 'Rupees', 'Six', 'Hundred', 'Fifty', 'Only', 'Special', 'Instructions', 'For', 'AKG', 'Enterprises', '1.', 'Goods', 'once', 'sold', 'will', 'not', 'be', 'accepted', 'back.', '2.', 'Described', 'And', 'That', 'Alll', 'Particulars', 'AreTrue', 'And', 'Correct', '3.', 'Our', 'responsibility', 'ceases', 'as', 'the', 'goods', 'leave', 'our', 'premises', 'E.&O.E', 'Authorised', 'Signatory', 'This', 'ls', 'A', 'Computer', 'Generated', 'Invoice']\n",
            "/content/drive/MyDrive/images1/vgi/Perfect-Design-of-GST-Invoice-Format-in-Excel-Download-xlsx-file_std.jpg\n",
            "['INVOICE', 'Ref', 'IDELEELLY)', 'Invoice', 'No.', 'Pat)', 'Order', '1D', 'EE27ET', 'Invoice', 'Date', '13-03-2021', 'Order', 'Date', 'FERUEBAIaS', 'Due', 'Date', 'ER', 'Emyes', 'BILLTO', 'Saale)', '‘TechGuruPlus', 'TechGuruPlus', 'Sector-200,', 'Noida,', 'U.P.', '‘Sector-200,', 'Noida,', 'U.P.', 'Uttar', 'Pradesh', 'Uttar', 'Pradesh,', 'Phone', ':', '8888888888', 'Phone', ';', '8888888888', '|GSTIN', ':', '6969696969696969', 'GSTIN', ':', '6969696969696969', 'SLNO.', 'DESCRIPTION', 'HSNNO.', 'QTY.', 'RATE', 'TOTAL', 'Pa', 'emnawen', '|', 'asus', '|', '15', '|', 'hs.225.00)', 'Rs.', '3,875.00', '[2', 'rena', 'asa', '[2s', '[23550]', 'fs', '6123.5]', '[a', '[rem', 'naea', '[206', '[58', '[_', '485.00]', 'Re', '28,130.00', 'sre', 'nares', 'as', '[2s', '[20]', 'fs', '375.0)', 'a', 'rh', 'rr', 'SS', '$=', 'PS', '——————————', 'os', 'CoE', 'DISCOUNT', '1.4%', 'Rs.', '1,078.50)', 'TAXABLE', 'AMOUNT', 'SERVICE', 'CHARGE', '2.0%', 'GST', 'TAX', '18.0%', 'ROUND', 'NZEe', 'es', 'CoeFerERey', '1.', 'Please', 'send', 'payment', 'within', '7', 'days', 'of', 'receiving', 'this', 'invoice.', 'There', 'will', 'be', 'a', '2.5%', 'interest', 'charge', 'per', 'month', 'on', 'late', 'invoices.', '2.', 'Please', 'inclue', 'Include', 'the', 'Invoice', 'number', 'in', 'your', 'payment', 'notes.', 'Authorized', 'Sign.', 'If', 'you', 'have', 'any', 'queries', 'for', 'this', 'Invoice', 'please', 'contact', '[+91XXXXXXXXXX],', 'example@mail.com', 'CUM', 'aa', 'eee']\n",
            "/content/drive/MyDrive/images1/vgi/tax-invoice._std.jpg\n",
            "['Tax', 'Invoice', 'Praveen', 'Home', 'Appliances', \"R'233\", '“Anna', 'Nagar,', 'Chenner', 'esti,', '-', 'Sanxoeiveaater', 'Piace', 'of', 'Supply', '©', 'Tami', 'Nadu', '[Rohan', 'Electronics', 'TRIES', 'Ne', 'Daiee', 'ac', 'Sines', 'ings', '1', '21-Sep-2017', 'Daseipten', 'oT', 'Sooas', 'TENSAC]', 'Gat]', 'Guana', '|', 'Rate', '[par]', 'Amount', 'lesx8', '|', '28%|', '|', '\"Snos|', 's0,c00.00{nes]', '300,000.09', '|', '—5.00,000-09|', 'Transportation', 'Charges|', '40,000.00]', 'ac', '5', 'n8|', \"'6,22,200.00|\", '[hi', 'Six', 'Lakh', 'Twenty', 'Two', 'Thousand', 'Two', 'Hundred', 'Only', '[Tax', 'Amount', '(n', 'words)', '|', 'INR', 'One', 'Lakh', 'Twelve', 'Thow', 'ind', 'Two', 'Hundred', 'Only']\n",
            "/content/drive/MyDrive/images1/vgi/specimen-of-a-B2B-invoice-with-QR-code-908x1024._std.jpg\n",
            "['  ', '_diris', 'YY', '|Ack.', 'No:', '112010004620119', '|Ack.', 'Date:', '17-08-2020', '1', 'IIRN:', '13a72d01b569e43cbdd73226', '1', '1ff2af99S2006c0807', '113', '15e08d', '10deBae32134', '|GSTIN:', '29AAACIS260R000', '[Test', 'Supplier', '|LS', 'Building,', 'Ground', 'Floor,', 'MLCP,', 'OTA', 'Uni-,', 'Wing', 'B,,', 'Manyata', 'Embassy)', 'Purchaser', '|GSTIN:', 'S3AAACIS260R002', 'Test', 'Recipient', 'INXT', 'CHENNAI,', '4,', 'CRR', 'BUILDING,,', 'MOUNT', 'POONAMALLE', 'HIGH', 'RD,', '[Business', 'Park,', 'Outer', 'Ring', 'Road,', 'Nagawara', 'Hobll', '|Manapakkam,', '[Bangalore', 'Bangalore', 'india,', 'Chennai', '[560045', 'KARNATAKA', '[600089', 'TAMIL', 'NADU', '4.', 'Goods/Services', 'Details', '-', 'Item', 'Details', 'Taxable', '|', 'TaxRate', '|', 'Total', 'item', 'Sr.No', '|Product|', 'Description', 'HSN', 'Quantity', '|', 'Unit', 'Unit', 'Price', 'Value', '(Rs)}', '(GST)%', '|', 'Value', '(Rs)', '|Operations', 'and', '1', 'ISuprt', 'fs', '1.000', '|OTH', '404000', '000}', '404000.', '18.00]', '476720.00', 'DaM-Juty', '2020', 'ec-', 'Total', 'of', 'all', 'tems', '-', 'Total', 'Value', 'Details', '(Rs)', 'Total', 'State', 'Ces', 'Total', 'Taxable', 'Total', 'Total', 'Total', 'Total', 'CESS', '(Advol', '‘Non', '|', 'Final', 'invoice', 'Value', 'cost', 'scsT', 'icst', '+Non', 'advon', '|', '“', 'value', 'Avo)', '404000.00}', '0.09]', '0.', '72720.00|', '0.09]', '0.09}', '476720.00}', '5.', 'E-WayBill', 'Details']\n"
          ]
        }
      ]
    },
    {
      "cell_type": "code",
      "source": [
        "# import cv2\n",
        "import glob\n",
        "\n",
        "path = \"/content/drive/MyDrive/images1/bi/*.*\"\n",
        "for file in glob.glob(path):\n",
        "   print(file)\n",
        "   imag = cv2.imread(file)\n",
        "   d = pytesseract.image_to_data(imag, output_type=Output.DICT)\n",
        "   nl = [x for x in d['text']if (x != '') and (x != ' ') and (x != '   ')]\n",
        "   print(len(nl))\n",
        "  #  print(nl)\n",
        "\n",
        "path = \"/content/drive/MyDrive/images1/vgi/*.*\"\n",
        "for file in glob.glob(path):\n",
        "   print(file)\n",
        "   imag = cv2.imread(file)\n",
        "   d = pytesseract.image_to_data(imag, output_type=Output.DICT)\n",
        "   nl = [x for x in d['text']if (x != '') and (x != ' ') and (x != '   ')]\n",
        "   print(len(nl))"
      ],
      "metadata": {
        "colab": {
          "base_uri": "https://localhost:8080/"
        },
        "id": "6MSnwDr1uX_E",
        "outputId": "b7917d0a-a456-40c3-c86d-58647c847bae"
      },
      "execution_count": null,
      "outputs": [
        {
          "output_type": "stream",
          "name": "stdout",
          "text": [
            "/content/drive/MyDrive/images1/bi/TTP-19-1012_gP2AGft_std.jpg\n",
            "46\n",
            "/content/drive/MyDrive/images1/bi/PMI-472353-2_05Y3HcR_std.jpg\n",
            "57\n",
            "/content/drive/MyDrive/images1/bi/PMI-472081-1_std.jpg\n",
            "0\n",
            "/content/drive/MyDrive/images1/bi/PMI-472031-7_dot__std.jpg\n",
            "220\n",
            "/content/drive/MyDrive/images1/bi/PMI-472634-1_std.jpg\n",
            "4\n",
            "/content/drive/MyDrive/images1/bi/PMI-472353-1_std.jpg\n",
            "76\n",
            "/content/drive/MyDrive/images1/bi/PMI-472000-2_std.jpg\n",
            "0\n",
            "/content/drive/MyDrive/images1/bi/PMI-472031-2_std.jpg\n",
            "324\n",
            "/content/drive/MyDrive/images1/bi/PMI-472394-1_4N1dKuu_std.jpg\n",
            "138\n",
            "/content/drive/MyDrive/images1/bi/Testoil_Invoice_P17036_dot__std_std.jpg\n",
            "117\n",
            "/content/drive/MyDrive/images1/vgi/55_Sogo_std.jpg\n",
            "445\n",
            "/content/drive/MyDrive/images1/vgi/letterhead_invoice_template_ddca335294._std.jpg\n",
            "256\n",
            "/content/drive/MyDrive/images1/vgi/invoice-sample-copy._std.jpg\n",
            "229\n",
            "/content/drive/MyDrive/images1/vgi/aishka_may_month_vendor_invoice-2_std.jpg\n",
            "359\n",
            "/content/drive/MyDrive/images1/vgi/FuelPump_Bill._std.jpg\n",
            "253\n",
            "/content/drive/MyDrive/images1/vgi/invis1._std.jpg\n",
            "268\n",
            "/content/drive/MyDrive/images1/vgi/Awesome-Template-of-GST-Invoice-Format-in-Excel-Download-xlsx-file_std.jpg\n",
            "123\n",
            "/content/drive/MyDrive/images1/vgi/Book3._std.jpg\n",
            "74\n",
            "/content/drive/MyDrive/images1/vgi/GST-Invoice-1._std.jpg\n",
            "116\n",
            "/content/drive/MyDrive/images1/vgi/service_tax_invoice_format._std.jpg\n",
            "193\n",
            "/content/drive/MyDrive/images1/vgi/gst-tax-invoice._std.jpg\n",
            "13\n",
            "/content/drive/MyDrive/images1/vgi/GST-invoice-sample._std.jpg\n",
            "198\n",
            "/content/drive/MyDrive/images1/vgi/tax-invoice-formatjpeg._std.jpg\n",
            "149\n",
            "/content/drive/MyDrive/images1/vgi/1cf8f4113cd67d2f7e75b9985c1970d5._std.jpg\n",
            "150\n",
            "/content/drive/MyDrive/images1/vgi/003-Sales-Order-2-Deposit-SST_1._std.jpg\n",
            "152\n",
            "/content/drive/MyDrive/images1/vgi/fomat-of-gst-tax-invoice._std.jpg\n",
            "163\n",
            "/content/drive/MyDrive/images1/vgi/tax-invoice-format-2-tallyprime._std.jpg\n",
            "160\n",
            "/content/drive/MyDrive/images1/vgi/simplified-tax-invoice-2._std.jpg\n",
            "145\n",
            "/content/drive/MyDrive/images1/vgi/4921_001-6_std.jpg\n",
            "277\n",
            "/content/drive/MyDrive/images1/vgi/Tax-Invoice-GST._std.jpg\n",
            "130\n",
            "/content/drive/MyDrive/images1/vgi/Sales_Invoice__19-20-001_std.jpg\n",
            "317\n",
            "/content/drive/MyDrive/images1/vgi/New_Bill._std.jpg\n",
            "223\n",
            "/content/drive/MyDrive/images1/vgi/Perfect-Design-of-GST-Invoice-Format-in-Excel-Download-xlsx-file_std.jpg\n",
            "160\n",
            "/content/drive/MyDrive/images1/vgi/tax-invoice._std.jpg\n",
            "77\n",
            "/content/drive/MyDrive/images1/vgi/specimen-of-a-B2B-invoice-with-QR-code-908x1024._std.jpg\n",
            "149\n"
          ]
        }
      ]
    },
    {
      "cell_type": "code",
      "source": [
        "!pip install pyspellchecker"
      ],
      "metadata": {
        "colab": {
          "base_uri": "https://localhost:8080/"
        },
        "id": "WX4utgblwIAv",
        "outputId": "330b70e2-c673-43bf-b87c-a051d2d40956"
      },
      "execution_count": null,
      "outputs": [
        {
          "output_type": "stream",
          "name": "stdout",
          "text": [
            "Looking in indexes: https://pypi.org/simple, https://us-python.pkg.dev/colab-wheels/public/simple/\n",
            "Collecting pyspellchecker\n",
            "  Downloading pyspellchecker-0.7.1-py3-none-any.whl (2.5 MB)\n",
            "\u001b[2K     \u001b[90m━━━━━━━━━━━━━━━━━━━━━━━━━━━━━━━━━━━━━━━━\u001b[0m \u001b[32m2.5/2.5 MB\u001b[0m \u001b[31m61.8 MB/s\u001b[0m eta \u001b[36m0:00:00\u001b[0m\n",
            "\u001b[?25hInstalling collected packages: pyspellchecker\n",
            "Successfully installed pyspellchecker-0.7.1\n"
          ]
        }
      ]
    },
    {
      "cell_type": "code",
      "source": [
        "# Code Example\n",
        "from spellchecker import SpellChecker\n",
        "\n",
        "spell = SpellChecker()\n",
        "\n",
        "def check(word):\n",
        "\n",
        "    if word == spell.correction(word):\n",
        "        return True\n",
        "    else:\n",
        "        return False\n",
        "\n",
        "check('1D2H')"
      ],
      "metadata": {
        "colab": {
          "base_uri": "https://localhost:8080/"
        },
        "id": "GVyecqX-v8-8",
        "outputId": "d21352f8-5868-4296-f7d3-11bb69affcdf"
      },
      "execution_count": null,
      "outputs": [
        {
          "output_type": "execute_result",
          "data": {
            "text/plain": [
              "False"
            ]
          },
          "metadata": {},
          "execution_count": 34
        }
      ]
    },
    {
      "cell_type": "code",
      "source": [
        "import glob\n",
        "\n",
        "# path = \"/content/drive/MyDrive/images1/bi/*.*\"\n",
        "# for file in glob.glob(path):\n",
        "#    print(file)\n",
        "#    imag = cv2.imread(file)\n",
        "#    d = pytesseract.image_to_data(imag, output_type=Output.DICT)\n",
        "#    nl = [x for x in d['text']if (x != '') and (x != ' ') and (x != '   ')]\n",
        "#    n2 = [y for y in nl if y == spell.correction(y)]\n",
        "#    print(len(n2))\n",
        "#    print(len(nl))\n",
        "#    print(n2)\n",
        "#    print(nl)\n",
        "# print(\"\\n-----------------------------------------------------------------------------------\\n\")\n",
        "path = \"/content/drive/MyDrive/images1/vgi/*.*\"\n",
        "for file in glob.glob(path):\n",
        "   print(file)\n",
        "   imag = cv2.imread(file)\n",
        "   d = pytesseract.image_to_data(imag, output_type=Output.DICT)\n",
        "   nl = [x for x in d['text']if (x != '') and (x != ' ') and (x != '   ')]\n",
        "   n2 = [y for y in nl if y == spell.correction(y)]\n",
        "   print(len(n2))\n",
        "   print(len(nl))\n",
        "   print(n2)\n",
        "   print(nl)"
      ],
      "metadata": {
        "colab": {
          "base_uri": "https://localhost:8080/"
        },
        "id": "rimRGwxb1VgS",
        "outputId": "238c84cc-9cfc-4759-f67e-28d9924f69c8"
      },
      "execution_count": null,
      "outputs": [
        {
          "output_type": "stream",
          "name": "stdout",
          "text": [
            "/content/drive/MyDrive/images1/vgi/55_Sogo_std.jpg\n",
            "274\n",
            "445\n",
            "['RENTAL', 'INVOICE', 'Bangalore', '-25', 'Phone', ':', '41430300', '-', '399', ',', 'Fax', ':', 'PAN', '2', '8', '2018', 'Page', '22', 'of', '26', 'Hayes', 'Hayes', 'Richmond', ':', '/', 'State', 'Code', ':', '29', 'Computers', 'No', ':', 'India', 'Private', 'Invoice', 'Inv', '401', '&', 'Main', '~', '\"', ':', ':', 'ied', 'PO', 'No', ':', 'PO', 'Phone', ';', '/', 'State', 'Code', ':', '29', 'Inv', 'Prep', 'by', ':', '191', 'Code', 'Item', 'Name', 'SAC', 'Product', 'Rental', 'Period', 'Rent', 'Code', 'From', 'To', 'Rate', 'Rate', 'Rate', '1', '020533010', 'Laptop', 'Elite', 'Book', '997315', '9', '9', '0', '~', 'Laptop', 'Ram', '8', '997315', '9', '9', '0', '1.00', '37', 'Laptop', 'Elite', 'Book', '|', '997315', '9', '9', '4', 'Laptop', 'Ram', '8', '007315', 'RAM', '9', '9', '0', '5', '1020833010', '|', 'Laptop', 'Elite', 'Book', '007315', '99', '6', '020158000', 'Laptop', 'Ram', '8', '|', '7315.', 'RAM', '9', '9', '0', '|', '1.00', '7', '1020533010', 'Laptop', 'Elite', 'Book', '997315', '9', '9', '0', '8', 'Laptop', 'Ram', '8', '997315', 'RAM', '9', '9', '0', '9', '1020533010', 'Laptop', 'Elite', 'Book', '997315', '9', '9', '0', '10', 'Laptop', 'Ram', '8', '997315', '|', 'RAM', '9', '9', '0', '11', '020533010', 'Laptop', 'Elite', 'Book', '1', '997315', '9', '9', '0', '2', 'Laptop', 'Ram', '8', '997315', 'RAM', '9', '9', '0', '1.00', '13', '1020533010', 'Laptop', 'Elite', 'Book', '997315', '9', '9', '0', 'Laptop', 'Ram', '8', '997315', '9', '9', '0', '1.00', 'a', 'Total', ':', '.', 'Bill', 'Bre', 'De', 'Grand', 'Total', ':', 'Balance', 'CHEQUE', 'NO..essessscssssssensssssnnansanenssnne', 'i', \"'\", 'Declaration', '1.', 'Payment', 'should', 'be', 'made', 'as', 'per', 'agreed', 'terms', 'otherwise', 'interest', 'will', 'be', 'charged', '@', 'per', 'annum', '2.', 'Every', 'cheque', 'return', 'will', 'affect', 'a', 'penalty', 'of', '3.', 'We', 'declare', 'that', 'this', 'invoice', 'shows', 'the', 'actual', 'price', 'of', 'the', 'goods', 'and', 'that', 'all', 'particulars', 'are', 'true', 'and', 'correct', '4.', 'All', 'disputes', 'are', 'subject', 'to', 'Bangalore']\n",
            "['J', 'RENTAL', 'INVOICE', 'Bangalore', '-25', 'Phone', ':', '41430300', '-', '399', ',', 'Fax', ':', '080-22120641', 'PAN', 'No:', 'AACCS8954L.', '2', '8', 'JUL', '2018', 'Page', '22', 'of', '26', 'D-', '1/1,', 'Hayes', 'Court,', '11/9,', 'Hayes', 'Road,', '(Off.', 'Richmond', 'Road),', 'GSTIN', ':', '29AACCS8954L1ZK', '/', 'State', 'Code', ':', '29', 'Sogo', 'Computers', 'Pvt', 'Ltd', '(IT-Rental', 'Div.)', 'CIN', 'No', ':', 'U30009KA1997PTC023119', 'Customer:', 'Webenza', 'India', 'Private', 'LTD', 'Invoice', 'No:', 'RIN/1819/03617', 'Inv', 'Date:', '28/07/2018', 'Address:', '401', '&', '402,Oxford', 'House,No', 'Rustam', 'Main', '~', '\"', ':', '‘', ':', 'sRDCHTISIG', 'ais', 'ied', 'Knithallt', 'Sengaueeeenr7', 'DCNo', '—', ':RDC/1718/01073', 'DC', 'Date:', '17/02/2018', 'PO', 'No', ':', 'EMAIL.', 'PO', 'Date:', '12/02/2018', 'Phone', ':9686309966', 'GSTIN', ';', '29AABCW2442A', '1ZP', '/', 'State', 'Code', ':', '29', 'Prev', 'Inv', 'No:', 'Prep', 'by', ':', 'Lokesh', 'Man.DC', 'No:', '191', 'Sl', 'ttem', 'Code', 'Item', 'Name', 'SAC', 'Product', 'SINo,', 'Rental', 'Period', 'cesr', 'scst', 'icst', 'Rent', 'PM', 'No.', 'Code', 'From', 'To', 'Rate', 'Rate', 'Rate', '1', '020533010', 'Laptop', 'HP', 'Elite', 'Book', '840G1', '997315', 'CNU422BR8K', '(1/07/18', '31/07/18', '9', '9', '0', '1,699.00', '~', '—', '£020158000', 'Laptop', 'Ram', '8', 'GB', '997315', 'RAM8GB(SING)', '(1/07/18', '31/07/18', '9', '9', '0', '1.00', '37', 'H020533010', 'Laptop', 'HP', 'Elite', 'Book', '840G', '|', '997315', 'CNU4219FC2_', '01/07/18', '31/07/18', '9', '9', '1,699.00', '4', '£020158000', 'Laptop', 'Ram', '8', 'GB', '007315', 'RAM', '8GB(SING)', '01/07/18', '31/07/18', '9', '9', '0', '1,00', '5', '1020833010', '|', 'Laptop', 'HP', 'Elite', 'Book', '840G1', '007315', 'CNUA26BSIGOI/O7/18/31/07/18.', '99', '1,699.00', '6', '£', '020158000', 'Laptop', 'Ram', '8', 'GB', '|', '7315.', 'RAM', '8GB(SING)', '01/07/18', '31/07/18.', '9', '9', '0', '|', '1.00', '7', '1020533010', 'Laptop', 'HP', 'Elite', 'Book', '840G1', '997315', 'SCGAADZYVR', 'OWO7/18', '31/07/18', '9', '9', '0', '1,699.00', '8', '£020158000', 'Laptop', 'Ram', '8', 'GB', '997315', 'RAM', '8GB4GBX2)', '(1/07/18', '31/07/18', '9', '9', '0', '1,00', '9', '1020533010', 'Laptop', 'HP', 'Elite', 'Book', '840G1', '997315', 'SCG4SI3TC7', '1/07/18', '31/07/18', '9', '9', '0', '1,699.00', '10', '£020158000', 'Laptop', 'Ram', '8', 'GB', '997315', '|', 'RAM', '8GB(SING)', '01/07/18', '31/07/18', '9', '9', '0', '1,00', '11', '020533010', 'Laptop', 'HP', 'Elite', 'Book', '840G', '1', '997315', '5CG4403269', '1/07/18', '31/07/18', '9', '9', '0', '1,699.00', '2', '£020158000', 'Laptop', 'Ram', '8', 'GB', '997315', 'RAM', '8GB(SING)', '01/07/18', '31/07/18.', '9', '9', '0', '1.00', '13', '1020533010', 'Laptop', 'HP', 'Elite', 'Book', '840G|', '997315', 'SCG4S00X2D—', 'I/O7/18', '31/07/18', '9', '9', '0', '1,699.00', '14,', '£020158000', 'Laptop', 'Ram', '8', 'GB', '997315', 'RAM&GBUGBX2)', '01/07/18', '31/07/18', '9', '9', '0', '1.00', 'a', 'Total', ':', '11,900.00', '.', 'Bill', 'Valttesseccccond', 'At.', '0.4.9.2.', 'Donses', 'CGST', '@9%', '1,071.00', 'TDS', 'ccsnsnsnssnsereeten', 'Bre', 'De', '—', '—', 'Grand', 'Total', ':', '14,042.00', 'x', 'Balance', '/PG.0A', 'mPa', '(VY', 'CHEQUE', 'NO..essessscssssssensssssnnansanenssnne', 'DRG', 'i', 'wisnnivrecmrercvesarenns', \"'\", 'Declaration', 'Sogo', 'Compute,', 'IT-Rental', 'Div.)', '1.', 'Payment', 'should', 'be', 'made', 'as', 'per', 'agreed', 'terms', 'otherwise', 'interest', 'will', 'be', 'charged', '@', '24%', 'per', 'annum', '2.', 'Every', 'cheque', 'return', 'will', 'affect', 'a', 'penalty', 'of', 'Rs.250/-', '3.', 'We', 'declare', 'that', 'this', 'invoice', 'shows', 'the', 'actual', 'price', 'of', 'the', 'goods', 'descibed', 'and', 'that', 'all', 'particulars', 'are', 'true', 'and', 'correct', '4.', 'All', 'disputes', 'are', 'subject', 'to', 'Bangalore', 'Jurisdiction.']\n",
            "/content/drive/MyDrive/images1/vgi/letterhead_invoice_template_ddca335294._std.jpg\n",
            "183\n",
            "256\n",
            "['Invoice', '|', 'to', 'Studio', 'Den', 'Floor', 'Orion', 'India', '-', '560055', 'PAN', 'POE', 'Ce', 'Basic', 'Web', 'Development', 'Logo', 'Design', 'Web', 'Design', 'Full', 'Stack', 'Web', 'development', 'Country', 'of', 'supply', 'india', 'Place', 'of', 'supply', 'Invoice', 'total', 'in', 'words', 'Forty', 'Two', 'thousand', 'Four', 'Hundred', 'and', 'Eighty', 'Payments', 'May', 'xo', 'Total', 'Terms', 'and', 'Conditions', '4.', 'Please', 'pay', 'within', '15', 'days', 'from', 'the', 'date', 'of', 'overdue', 'interest', '@', 'will', 'be', 'charged', 'on', 'delayed', '2.', 'Please', 'quote', 'invoice', 'number', 'when', 'remitting', 'Additional', 'Notes', 'Itis', 'a', 'long', 'established', 'fact', 'that', 'a', 'reader', 'will', 'be', 'distracted', 'by', 'the', 'readable', 'content', 'of', 'a', 'page', 'when', 'looking', 'at', 'its', 'The', 'point', 'of', 'using', 'is', 'that', 'it', 'has', 'a', 'normal', 'distribution', 'of', 'as', 'opposed', 'to', 'using', 'content', 'For', 'any', 'email', 'us', 'on', 'or', 'call', 'us', 'on', '+91', '98765', '43210', 'Labs', 'Society', 'India', '-', '394210', 'LABS', '|', 'Payment', 'Record', '003', 'Paid', 'Amount', 'Invoice', 'Date', 'FEB', '2020', 'FEB', '2020', 'yor', '%', '%', '=', '%', '%', '=', 'Total', 'Taxable', 'Amount', '3240', '0', '=', 'Total', 'Due', 'Bank', '&', 'Payment', 'Details', 'Account', 'Holder', 'Name', 'Labs', 'Account', 'Number', '45366287987', '-', 'Scan', 'to', 'Pay', 'Account', 'Type', 'Savings', 'Bank', 'State', 'Bank', 'of', 'india']\n",
            "['Invoice', '|', 'Biiiea', 'to', 'Studio', 'Den', '305,', '3rd', 'Floor', 'Orion', 'mall,', 'Bengaluru,', 'Karnataka,', 'India', '-', '560055', 'GST', '29VGCED1234k226', 'PAN', 'VGCED1234K', 'POE', 'Ce', 'sl', 'Basic', 'Web', 'Development', 'Logo', 'Design', 'Web', 'Design', 'Full', 'Stack', 'Web', 'development', 'Country', 'of', 'supply', 'india', 'Place', 'of', 'supply', 'Gujarat', 'Invoice', 'total', 'in', 'words', 'Forty', 'Two', 'thousand', 'Four', 'Hundred', 'and', 'Eighty', 'Payments', 'May', '06,2020', 'netsanking', 'BZ', '<s.000', 'xo', 'Total', '%3,000', '%0', 'Terms', 'and', 'Conditions', '4.', 'Please', 'pay', 'within', '15', 'days', 'from', 'the', 'date', 'of', 'invoice,', 'overdue', 'interest', '@', '14%', 'will', 'be', 'charged', 'on', 'delayed', 'payments.', '2.', 'Please', 'quote', 'invoice', 'number', 'when', 'remitting', 'funds.', 'Additional', 'Notes', 'Itis', 'a', 'long', 'established', 'fact', 'that', 'a', 'reader', 'will', 'be', 'distracted', 'by', 'the', 'readable', 'content', 'of', 'a', 'page', 'when', 'looking', 'at', 'its', 'layout.', 'The', 'point', 'of', 'using', 'Lorem', 'Ipsum', 'is', 'that', 'it', 'has', 'a', 'more-or-less', 'normal', 'distribution', 'of', 'letters,', 'as', 'opposed', 'to', 'using', '‘Content', 'here,', 'content', 'here.', 'For', 'any', 'enquiries,', 'email', 'us', 'on', 'foobarlabs@gmail.com', 'or', 'call', 'us', 'on', '+91', '98765', '43210', 'Foobar', 'Labs', '46,', 'Raghuveer', 'Dham', 'Society', 'Surat,', 'Gujarat.', 'India', '-', '394210', 'FOOBAR', 'LABS', '|', 'tavoice', 'Detais', 'Payment', 'Record', 'Invoice#', '003', 'Paid', 'Amount', '<0', 'namo', '£36,000', 'Invoice', 'Date', 'FEB', '19,', '2020', 'DueDate', '—-', 'FEB', '19,', '2020', 'Beye', 'yor', 'tari', 'PT', '%', '10,000.00', '11,800.00', '%', '10,000.00', '=', '11,800.00', '%', '10,000.00', '%', '10,000.00', '=', '11,800.00', '‘Sub', 'Total', '%40,000', 'Discount(10%)', '%40,000', 'Taxable', 'Amount', '36,000', 'SGST', '3240', 'cCGST', '36,000', '0', '=', 'Total', 'Due', '%36,000', 'Bank', '&', 'Payment', 'Details', 'Account', 'Holder', 'Name', 'Foobar', 'Labs', 'Account', 'Number', '45366287987', 'UPI', '-', 'Scan', 'to', 'Pay', 'IFSC', 'SBINOO18159', 'Account', 'Type', 'Savings', 'Bank', 'State', 'Bank', 'of', 'india', 'UPI', 'foobarlabs@oksbi']\n",
            "/content/drive/MyDrive/images1/vgi/invoice-sample-copy._std.jpg\n",
            "121\n",
            "229\n",
            "['Tax', 'Invoice', 'Original', 'for', 'Recipient', 'Details', 'of', 'Software', 'Labs', 'Invoice', 'Invoice', 'July', '2017', 'State', '-', '20', 'Invoice', 'Reverse', 'charge', 'No', 'Details', 'of', 'Buyer', 'Details', 'of', '-', '757166', '-', '757166', 'State', '-', '08', 'State', '-', '08', '#', 'Description', 'Taxable', 'Value', 'Total', 'SAC', 'Unit', 'Rate', 'Rate', 'Amount', '1', '521222', '9.00', '2', 'BEANS', 'DRIED', '&', '071339', '7.00', 'UNT', '3', '&', 'GRAFTING', 'RESIN', 'NON', 'WALL', 'ETC', '321490', '7.00', '4', '|', 'FRESH', 'OR', 'CHILLED', '020735', '7.00', '5', 'COSMETIC', '&', 'NES', '28.00', '627.48', '33079090', '3.00', '747.00', 'Total', 'Amounts', 'Rounding', '0.32', 'Invoice', 'Total', 'Invoice', 'Total', 'amount', 'in', 'Forty', 'seven', 'nine', 'hundred', 'and', 'twenty', 'five', 'You', 'have', 'not', 'specified', 'any', 'notes', 'that', 'should', 'appear', 'in', 'the', 'Please', 'customize', 'this', 'information', 'in', 'the', 'following', 'page', 'https://my.gstzen.in/~demo/a/gstins/1/update/', 'Authorized', 'Signatory', 'Software', 'Labs']\n",
            "['oogstzen', 'Tax', 'Invoice', 'Original', 'for', 'Recipient', 'Supplier:', 'Details', 'of', 'Invoice:', 'CloudZen', 'Software', 'Labs', 'Pvt.', 'Ltd.', 'Invoice', 'Number:', '17-18/JH/97', 'State:', 'Jharkhand', 'Invoice', 'Date:', 'July', '26,', '2017', 'State', 'Code:', 'JH', '-', '20', 'Invoice', 'Amount:', 'INR', '47,925.00', 'GSTIN:', '20QXOCC9424D1Z5', 'Reverse', 'charge', 'applicable:', 'No', 'Details', 'of', 'Buyer', '(Bill', 'To):', 'Details', 'of', 'Consignee', '(Shipped', 'To):', 'Cipla', 'Ltd', 'Cipla', 'Ltd', 'State:', 'Rajasthan', '-', '757166', 'State:', 'Rajasthan', '-', '757166', 'State', 'Code:', 'RJ', '-', '08', 'State', 'Code:', 'RJ', '-', '08', 'GSTIN:', 'O8AKOCX6349P1ZL', 'GSTIN:', 'O8AKOCX6349P1ZL', '#', 'Description', 'Taxable', 'Value', 'IGST', 'Total', 'HSN/', 'SAC', 'Qty', 'Unit', 'Rate', 'Rate', 'Amount', '1', '|OTHR', 'BLCHD', 'WOVN', 'FBRCS', 'WGHNG', '>200', 'G/M2', '12,096.00}', '18.00}', '2,177.28', '14,273.28', '521222', '9.00', 'GMS', '1,344.00', '2', '|OTER', 'BEANS', 'DRIED', '&', 'SHLD', '7,742.00)', '18.00)', '1,393.56', '9,135.56', '071339', '7.00', 'UNT', '1,106.00', '3', '|GLAZIERS', '&', 'GRAFTING', 'PUTY,', 'RESIN', 'ELEMNTS', 'NON', '9,345.00}', '28.00)', '2,616.60', '11,961.60', 'RFRCTRY', 'SRFCNG', 'PRPN', 'FR', 'FLOORS,', 'WALL', 'ETC', '321490', '7.00', 'CCM', '1,335.00', '4', '|', 'OTHER,', 'FRESH', 'OR', 'CHILLED', '7,567.00)', '28.00)', '2,118.76', '9,685.76', '020735', '7.00', 'BTL', '1,081.00', '5', '|OTHER', 'COSMETIC', '&', 'TOILT', 'PRPN', 'NES', '2,241.00}', '28.00', '627.48', '2,868.48', '33079090', '3.00', 'MLT', '747.00', 'Total', 'Amounts', '(INR)', '38,991.00', '8,933.68', '47,924.68', 'Rounding', '0.32', 'Invoice', 'Total', '(in', 'figures):', 'INR', '47,925.00', 'Invoice', 'Total', 'amount', 'in', 'words:', 'Forty', 'seven', 'thousand,', 'nine', 'hundred', 'and', 'twenty', 'five', 'You', 'have', 'not', 'specified', 'any', 'notes', 'that', 'should', 'appear', 'in', 'the', 'Invoice.', 'Please', 'customize', 'this', 'information', 'in', 'the', 'following', 'page', 'https://my.gstzen.in/~demo/a/gstins/1/update/', 'www.cloudzen.in', 'CIN:', 'ABCD....', 'Authorized', 'Signatory', 'CloudZen', 'Software', 'Labs', 'Pvt.', 'Ltd.']\n",
            "/content/drive/MyDrive/images1/vgi/aishka_may_month_vendor_invoice-2_std.jpg\n",
            "232\n",
            "359\n",
            "['Original', 'Buyer', 'Copy', '81', 'INDIA', 'PRIVATE', 'LIMITED', 'La', '8', 'Block', 'IT', '02', 'Business', 'E', 'Mumbai', '400', 'india', 'MICRO', 'INDIA', 'PRIVATE', 'LIMITED', 'WAREHOUSING', '+91', '22', '3989', '-', 'ROAD', 'CHENNAI', '600', '066', '33', '/', 'TAMIL', 'declare', 'that', 'this', 'invoice', 'shows', 'the', 'actual', 'price', 'of', 'the', 'goods', 'described', 'and', 'that', 'all', 'particulars', 'are', 'true', 'and', 'SHIPPED', 'FROM', 'TECHNOLOGY', 'SOLUTIONS', 'TECHNOLOGY', 'SOLUTIONS', 'BLOCK', 'NAGAR', 'FLAT', 'OLD', '600126', 'ase', 'VENU', '-', '600126', '33', '/', 'TAMIL', '33', '/', 'TAMIL', 'CUSTOMER', 'PO', 'NUMBER', '|', 'INVOICE', 'NUMBER', '0811900277681', 'INVOICE', 'a', 'ai', 'ih', 'aka', 'neem', 'conan', 'ata', '6', 'CONSIGNMENT', 'NOTE', 'NO', '|', 'vet', '23220', '|', 'ORDER', 'NUMBER', '|', 'CUSTOMER', 'NUMBER', '|', 'DUE', 'DATE', '|', '7', '159.20', '9.008', 'TOTAL', 'TOTAL', 'TOTAL', 'OTHERS', 'GRAND', 'TOTAL', '14342.33', '14342.33', '28684.66', '188043.86', 'EIGHT', 'THOUSAND', 'FORTY', 'THREE', 'AND', 'EIGHTY', 'RUPEES', 'ONE', 'HUNDRED', 'Number', 'of', 'Boxes', 'Shipped', 'Number', 'of', 'Boxes', 'Received', 'Date', 'of', 'Receipt', \"Receiver's\", 'Signature', '&', 'Seal', 'For', 'Micro', 'India', 'Private', '\\\\', 'of', 'Goods', 'and', 'Services', 'under', 'this', 'invoice', 'or', 'making', 'part', 'or', 'full', 'payment', 'or', 'only', 'acknowledgment', 'of', 'this', 'invoice', 'is', 'treated', 'as', 'acceptance', 'of', 'Terms', '&', 'Conditions', 'printed', 'and', 'acceptance', 'of', 'Sales', 'Terms', '&', 'Conditions', 'of', 'Micro', 'available', 'at', 'Micro', 'India', 'Private', 'and', 'the', 'customer', 'in', 'case', 'of', 'any', 'dispute', 'arising', 'out', 'of', 'or', 'in', 'connection', 'with', 'this', 'transaction', 'shall', 'be', 'referred', 'to', 'a', 'sole', 'arbitrator', 'appointed', 'by', 'Micro', 'India', 'Private', 'and', 'his', 'decision', 'be', 'final', 'and', 'binding', 'on', 'both', 'the', 'ue', '&', 'Authorised', 'Signatory']\n",
            "['Original', 'Buyer', 'Copy', 'INRA', 'TAKINVOICE', 'IACI', '10-02', '81', 'INGRAM', 'MIC220', 'INDIA', 'PRIVATE', 'LIMITED', 'La', '8', 'Regd.', 'Office:', 'Sth', 'Floor,', 'Block', 'B,', 'Godrej', 'IT', 'Park,', '02', 'Godrej', 'Business', 'District,', 'E', 'Pirojshanagar,', 'LBS', 'Marg,', 'Vikhroli', '(W),', 'Mumbai', '—', '400', '079,', 'india', 'INGRAM', 'MICRO', 'INDIA', 'PRIVATE', 'LIMITED', 'R', 'R', 'WAREHOUSING', 'Contact#', '+91', '22', '3989', '4645,', 'Website:', 'www.ingrammicro.com', 'CIN:', 'U72900MH1996PTC136340,', 'PAN:', 'AABCT1296R', '4/177,', 'PUZHAL', '-', 'AMBATTUR', 'ROAD', 'SURAPATTU,', 'CHENNAI', '600', '066', 'GST', 'State:', '33', '/', 'TAMIL', 'NADU', 'GSTIN:', '33AABCT1296R1ZU', '  ', '\"We', 'declare', 'that', 'this', 'invoice', 'shows', 'the', 'actual', 'price', 'of', 'the', 'goods', 'described', 'and', 'that', 'all', 'particulars', 'are', 'true', 'and', 'correct”', 'SHIPPED', 'FROM', 'AISHKA', 'TECHNOLOGY', 'SOLUTIONS', 'PVT', 'LTD', 'AISHKA', 'TECHNOLOGY', 'SOLUTIONS', 'PVT.L', '$72', 'V', 'BLOCK', 'SAKTHI', 'AYYANAR', 'NAGAR', 'FLAT', '#6,A', 'BLOCK,SECOND', 'FLOOR,', 'THIRUVANCHERY', 'OLD', '#9,NEW', '#18,INDIRA', 'ARCADE,', 'KANCHIPURAM', '600126', 'ase', 'VENU', 'STREET,GUINDY,CHENNAI-600032', '-', '600126', 'GST', 'State:', '33', '/', 'TAMIL', 'NADU', 'GST', 'State:', '33', '/', 'TAMIL', 'NADU', 'GSTIN:', '33AARCA6470E1ZM', 'GSTIN:', '33AARCA6470E1ZM', 'CUSTOMER', 'PO', 'NUMBER', '|', '1920007/ATSPL/CHN', 'INVOICE', 'NUMBER', '—_|', '0811900277681', 'INVOICE', 'DATE/TIME', 'a', 'cenecscesinmpe', 'cs', 'eepeedbical', 'ai', 'neta', 'ih', 'occas', 'adnasiendinen', 'aka', 'neem', 'conan', 'atin', 'ata', 'aie', '6', 'ibteitiemadiepembingiaibedisnmemaens', 'CONSIGNMENT', 'NOTE', 'NO', '|', 'vet', '23220', 'CARRIER/MODE', ' |DOORDELIVERED', '|', 'E-WAY', 'BILL.NO', '——', '“<\\\\ES', 'ORDER', 'NUMBER', '|', '10-61734-11', 'CUSTOMER', 'NUMBER', '|/0-AITESP-000-200', '|', 'TERMS/', 'DUE', 'DATE', '|', '30DAYS', 'PDC', '7', '159,200.00', 'FR', '159.20', '159,359.20', 'CGST', '9.00%', '188,043.86', '14,342.33', '9.008', '14,342.33', '  ', 'SUB-', 'TOTAL', 'CGST', 'TOTAL', 'SGST', 'TOTAL', 'IGST', 'SUB-TOTAL', '(2)', 'OTHERS', 'GRAND', 'TOTAL', '14342.33', '14342.33', '28684.66', '188043.86', 'HTY', 'EIGHT', 'THOUSAND', 'FORTY', 'THREE', 'AND', 'EIGHTY', 'RUPEES', 'ONE', 'HUNDRED', 'Number', 'of', 'Boxes', 'Shipped', 'Number', 'of', 'Boxes', 'Received', 'Date', 'of', 'Receipt', \"Receiver's\", 'Signature', '&', 'Seal', 'For', 'Ingram', 'Micro', 'India', 'Private', 'Ltd.|', '\\\\', '\"Acceptance', 'of', 'Goods', 'and', 'Services', 'under', 'this', 'invoice', 'or', 'making', 'part', 'or', 'full', 'payment', 'or', 'only', 'acknowledgment', 'of', 'this', 'invoice', 'is', 'treated', 'as', 'acceptance', 'of', 'Terms', '&', 'Conditions', 'printed', 'overleaf', 'and', 'acceptance', 'of', 'Sales', 'Terms', '&', 'Conditions', 'of', 'Ingram', 'Micro', 'available', 'at', 'www.imonline.co.in\"', '“Ingram', 'Micro', 'India', 'Private', 'Ltd.', 'and', 'the', 'customer', 'agree,', 'in', 'case', 'of', 'any', 'dispute', 'arising', 'out', 'of', 'or', 'in', 'connection', 'with', 'this', 'transaction', 'shall', 'be', 'referred', 'to', 'a', 'sole', 'arbitrator', 'appointed', 'by', 'Ingram', 'Micro', 'India', 'Private', 'Ltd.', 'and', 'his', 'decision', 'shal!', 'be', 'final', 'and', 'binding', 'on', 'both', 'the', 'parties”', 'ue', '°', '&', 'ui', 'Authorised', 'Signatory']\n",
            "/content/drive/MyDrive/images1/vgi/FuelPump_Bill._std.jpg\n",
            "162\n",
            "253\n",
            "['World', 'Class', 'Automobiles', 'Road', 'Near', 'New', '110015', 'Phone', ':', '07380354119', 'Fax', ':', '07380354119', ':', 'PAN', '2', 'Copy', '~', 'Retail', 'Invoice', 'Repair', 'Order', 'Invoice', 'Repair', 'Order', 'Date', 'Invoice', 'Date', 'Customer', 'Name', 'GROUP', 'SALES', 'INDIA', 'Customer', 'A', 'division', 'of', 'VIN', 'Silver', 'Fir', 'Model', 'Polo', 'Cardinal', 'Gracious', 'In', '400099', 'Out', 'India', 'Demanded', 'Repair', '|', '1', '|', 'VEHICLE', 'DO', 'NOT', 'START', 'VEHICLE', 'TOWING', 'BY', 'PRIVATE', 'CRANE', ')', 'a', '=', 'Se', 'oe', 'Labor', 'Details', '=', '=', 'Sa', 'a', 'Description', 'Labor', 'Code', '|', 'gory', '|', 'Rate', 'Amount', '|', 'Amount', 'Tax', '1.', 'fuel', 'pump', '20661900', '70', '217.70', '26.90', '|', 'fuel', 'pump', 'replaced', '20665550', 'ant', '40', '31.10', '3.84', '34.94', '|', 'i', 'make', 'E', '248.80', '3074', '279.54', '|', 'Parts', 'Details', '=', 'ee', '3', 'ak', 'Seep', 'ep', 'ee', 'VAT', 'Description', 'Part', 'gory', '|', '|', 'Unit', 'Price', 'Amount', '|', '|', 'Amount', 'Amount', 'Tax', 'FUEL', 'DELIVERY', 'UNIT', 'AND', '+', '100.00', '|', '1250', '635.56', '|', '635.56', '7', 'Total', 'Parts', 'And', 'Labor', '|', 'Rupees', ':', 'THOUSAND', 'RUPEES', 'AND', 'ZERO', 'PAISA', 'ONLY', '-', '-', ':', '7', 'ye']\n",
            "['World', 'Class', 'Automobiles', 'P', 'Ltd.', '68/3,', 'Najafagarh', 'Road', 'Near', 'Moti', 'Nagar,', 'New', 'Delhi,', '110015', 'v4', 'Phone', 'No.', '011-45340000-30', 'VATR.C', 'No.', ':', '07380354119', 'W.E-F.', 'Fax', 'No.', '011-45340030', 'C.S.T.R.C', 'No.', ':', '07380354119', 'W.EF.', 'E-Mail', 'service@ww-worldclassauto.co.in', 'Ser.', 'Tax.No', ':', 'AAACW8382JSTOO1', 'PAN', '2', 'AAACWE382J', 'Copy', '~', 'Retail', 'Invoice', 'Repair', 'Order', 'No.', 'Invoice', 'No.', 'Repair', 'Order', 'Date', '15-Sep-13', 'Invoice', 'Date', '16-Sep-13', 'Customer', 'Name', '‘VOLKSWAGEN', 'GROUP', 'SALES', 'INDIA', 'Regn.', 'No.', 'Customer', 'Add.', 'A', 'division', 'of', 'VWGSIPL', 'VIN', 'WVWA', 'Silver', 'Utopia,', '3&4th', 'Fir', 'Model', 'Polo', 'Comfortline', '1.2L', 'CR', 'MT', 'Cardinal', 'Gracious', 'Rd,Chakala', 'Kms', 'In', '39,748', 'Andheri,', '400099', 'Kms', 'Out', '39,757', 'India', 'Demanded', 'Repair', '(Customer', 'Voice)', '|', '1', '|', 'VEHICLE', 'DO', 'NOT', 'START', 'CHK', 'UP.(', 'VEHICLE', 'TOWING', 'BY', 'PRIVATE', 'CRANE', ')', 'a', '=', 'Se', 'oe', 'Labor', 'Details', 'r', 'SS', '=', '=', 'aaa', 'eae', 'Sa', 'a', 's.', 'Cate-', 'SerTax', 'WCT@', 'No,', 'Description', 'Labor', 'Code', '|', 'gory', '|', 'Rate', 'ty.', 'Amount', '_|', '(12.36%)', '(12.50%', '|', 'Amount', 'incl.', 'Tax', '1.', '[Electric', 'fuel', 'pump', 'removedsreinstalled', '20661900', '3a', '70', '217.70', '26.90', '244,60', '|', '[Electric', 'fuel', 'pump', 'replaced', '20665550', 'ant', '40', '31.10', '3.84', '34.94', '|', 'i', 'make', 'E', 'c', '™', '248.80', '3074', '279.54', '|', 'Parts', 'Details', 'r', '=', 'ee', '3', 'ak', 'Seep', 'ep', 'ee', 's.', 'Cate-', '{customer', 'VAT', 'No.', 'Description', 'Part', 'No.', 'gory', '|', 'Qty.', '|', 'Unit', 'Price', 'share(%)', 'Amount', '|', 'VAT%', '|', 'Amount', '_|', 'Amount', 'incl.', 'Tax', '11_', 'FUEL', 'DELIVERY', 'UNIT', 'AND', '|6R091905048', '+', '[5,084.44', '100.00', '5,084.44', '|', '1250', '635.56', '5,720.00', '|', '5,084.44', '635.56', '5,720.00', '7', 'Total', 'Parts', 'And', 'Labor', '6,090.00', '|', 'Rupees', ':', '‘SIX', 'THOUSAND', 'RUPEES', 'AND', 'ZERO', 'PAISA', 'ONLY', '-', '-', ':', '7', 'ye']\n",
            "/content/drive/MyDrive/images1/vgi/invis1._std.jpg\n",
            "172\n",
            "268\n",
            "['Original', 'for', 'Recipient', '_', 'INVOICE', 'Date', 'February', '2018', 'Due', 'Date', 'March', '2018', 'Number', '02', 'Date', 'January', '2018', 'TEST', '123', 'Bill', 'Long', 'Building', 'Ab', 'Company', '234', 'Tamil', '-', 'India', 'Hope', 'Street', 'Building', '998756334', '-', 'Delivery', '05', ';', 'ayes', 'India', 'Vehicle', '230', '@', 'truck', '9873421098', ':', 'i', '123456711111111', '&', 'Smith', '|', 'Place', 'of', 'NO', 'PRODUCT', '/', 'SERVICE', 'NAME', 'TION', 'UNIT', 'PRICE', 'CESS', 'AMOUNT', '1', 'solvent', '345', '23.00', '200.00', '524.40', '218.50', 'white', 'cleaner', 'industrial', 'be', '00456', '2', 'detergent', '1296', '3.00', '0.00', 'only', 'carpets', 'ee', '3', 'poly', 'cloth', '3455', '100.00', '150.00', '0.00', '2', 'anti', 'blue', 'Os', 'Shipping', '&', 'Packaging', '100.00', '12.00', '112.00', '17870.00', '2144.40', '20014.40', '6000.00', '1080.00', '7080.00', 'TOTAL', '23970.00', '3224.40', '218.50', '27094.40', '*', 'Twenty', 'Seven', 'Thousand', 'Four', 'Hundred', 'Twenty', 'Five', 'Only', 'TOTAL', 'BEFORE', 'TAX', 'Pay', 'Now', 'with', 'DISCOUNT', 'TOTAL', 'TAX', 'AMOUNT', 'AUTHORIZED', 'SIGNATORY', 'ROUNDED', 'OFF', 'TOTAL', 'AMOUNT', 'AMOUNT', 'DUE', 'Please', 'note', 'that', 'all', 'products', 'are', 'fragile', 'and', 'need', 'to', 'be', 'transported', 'with', 'If', 'invoice', 'has', 'not', 'been', 'paid', 'in', '5', 'days', 'after', 'due', 'a', 'tax', 'of', 'of', 'total', 'value', 'is', 'applied', 'to', 'each', 'day', 'of']\n",
            "['Original', 'for', 'Recipient', '_', 'INVOICE', 'X33', 'SS', 'S', 'LEc<', 'Bl', 'LL', 'Date', 'February', '21,', '2018', 'Due', 'Date', 'March', '03,', '2018', 'P.O.', 'Number', '02', 'P.O.', 'Date', 'January', '24,', '2018', 'Sorina', 'TEST', '123', 'Bill', 'to:', '2}', 'Long', 'Baharam,', '34-38,', 'B', 'Building', 'Ab', 'Company', 'Waybill', 'No:', '234', 'Madurai,', 'Tamil', 'Nadu', '(TN', '-', '33),', 'India', '<<}', 'Hope', 'Street', 'no.', '26,', 'Building', 'B', 'LR', 'No:', 'B256', '®', '998756334', 'Mumbai,', 'Maharashtra', '(MH', '-', '27),', 'Delivery', 'Note:', '05', ';', 'ayes', 'India', 'Vehicle', 'No:', 'B', '230', 'BLR', '@', 'sorina@sleekbill.in', 'ndi', 'Shioping', 'method:', 'truck', '®', 'sleekbill.in', '@®', '9873421098', 'pping', ':', 'i', 'GSTIN:', '123456711111111', '&', 'Maron', 'Smith', '|', 'Place', 'of', 'Supply:', 'MH', '(27)', 'GSTIN:', 'O9AAMFCO376K1Z4', 'PREPARA', 'NO', 'PRODUCT', '/', 'SERVICE', 'NAME', 'HSN/SAC', 'TION', 'UNIT', 'PRICE', 'IGST', 'CESS', 'AMOUNT', '1', 'solvent', '345', '23.00', '200.00', '524.40', '218.50', '4,894.40', 'white', 'cleaner', 'industrial', 'subsctance', 'ISD', 'BOS', 'cOUnLS', '12:00%', 'be', '00456', '2', 'detergent', '1296', '3.00', '2,000.00', '1,080.00', '0.00', '7,080.00', 'only', 'carpets', '100%', 'KER23', 'JEO0e', 'ee', '3', 'poly', 'cloth', '3455', '100.00', '150.00', '1,620.00', '0.00', '15,120.00', '2', 'layer,', 'dust,', 'anti', 'static,', 'blue', '“Discount', '10%', '12.00%', 'Os', 'Shipping', '&', 'Packaging', '100.00', '12.00', '112.00', '@12.00%', '@12%', '17870.00', '2144.40', '20014.40', '@18%', '6000.00', '1080.00', '7080.00', 'TOTAL', '23970.00', '3224.40', '218.50', '27094.40', 'Total:', '*', 'Twenty', 'Seven', 'Thousand', 'Four', 'Hundred', 'Twenty', 'Five', 'Only', 'TOTAL', 'BEFORE', 'TAX', '25,700.00', 'Pay', 'Now', 'with', 'PayPal', 'DISCOUNT', '(-)', '1,730.00', 'TOTAL', 'TAX', 'AMOUNT', '3,454.90', 'AUTHORIZED', 'SIGNATORY', 'ROUNDED', 'OFF', 'a6', 'TOTAL', 'AMOUNT', '€', '27,425', 'AMOUNT', 'DUE', '€', '27,425', 'NOTE:', 'Please', 'note', 'that', 'all', 'products', 'are', 'fragile', 'and', 'need', 'to', 'be', 'transported', 'with', 'caution.', 'If', 'invoice', 'has', 'not', 'been', 'paid', 'in', '5', 'days', 'after', 'due', 'date,', 'a', 'tax', 'of', '10%', 'of', 'total', 'value', 'is', 'applied', 'to', 'each', 'day', 'of', 'delay.']\n",
            "/content/drive/MyDrive/images1/vgi/Awesome-Template-of-GST-Invoice-Format-in-Excel-Download-xlsx-file_std.jpg\n",
            "87\n",
            "123\n",
            "['INVOICE', 'DIGITAL', 'Invoice', '6464615', 'Invoice', 'Date', 'TO', 'ee', 'A', 'a', 'eM', 'coy', 'Daa', 'Don', 'Os', 'SUA', 'eee', ':', '6969696969696969', 'Pa', 'ITEM', 'NAME', '1.', '125.00', 'ITEM', 'NAME', '2', '235.52', 'NAME', '3', '658.00', 'ITEM', 'NAME', '4', '485.00', 'ITEM', 'NAME', '5.', '215.00', 'TOTAL', 'DISCOUNT', '@', '5', '.', '@', 'Lee', 'Le', 'REE', 'eA', '1', 'Total', 'payment', 'due', 'in', '7', '2', 'Please', 'Include', 'the', 'Invoice', 'number', 'in', 'your', 'payment', '3', 'To', 'must', 'be', 'paid', 'full', 'amount', 'on', 'due', 'date', 'Authorized', 'If', 'you', 'have', 'any', 'queries', 'for', 'this', 'Invoice', 'please', 'contact', '=', 'SATE']\n",
            "['INVOICE', 'SK', 'DIGITAL', 'Invoice', 'No.', '6464615', 'lOrderid', '—DiGi464614', 'Invoice', 'Date', '09-03-2021', '|DueDate', '16-03-2021', '[SHIP', 'TO', 'Boones', 'Beenetitar', 'ee', 'A', 'a', 'elo', 'eM', 'eae', 'coy', 'Daa', 'Don', 'scene)', 'Os', 'scesescid', 'SUA', 'eee', 'GSTIN', ':', '6969696969696969', 'Pa', 'ITEM', 'NAME', '1.', 'Rs.', '125.00', 'ITEM', 'NAME', '2', 'Rs.', '235.52', '(TEM', 'NAME', '3', 'Rs.', '658.00', 'ITEM', 'NAME', '4', 'Rs.', '485.00', 'ITEM', 'NAME', '5.', 'Rs.', '215.00', 'TOTAL', 'DISCOUNT', '@', '1.7%', '5', '.', 'SGST@', '9%', 'CGST', '@', '9%', 'Raed', 'Stee', 'eeeaets', 'Lee', 'Le', 'REE', 'eA', 'T.&C', '1', 'Total', 'payment', 'due', 'in', '7', 'days.', '2', 'Please', 'inclue', 'Include', 'the', 'Invoice', 'number', 'in', 'your', 'payment', 'notes.', '3', 'To', 'must', 'be', 'paid', 'full', 'amount', 'on', 'due', 'date', 'Authorized', 'Sign.', 'If', 'you', 'have', 'any', 'queries', 'for', 'this', 'Invoice', 'please', 'contact', '[+91XXXXXXXXXX],', 'example@m:', '=', 'SATE']\n",
            "/content/drive/MyDrive/images1/vgi/Book3._std.jpg\n",
            "41\n",
            "74\n",
            "['Duplicate', 'Shop', 'Market', 'Punjab', '-', '141001', 'TAX', 'INVOICE', '|', '2', '|', 'INDUSTRIES', '|', 'Tech', 'Computer', 'Education', 'Shop', 'Market', '0161', '00000000', 'Email', 'Type', 'Interstate', '|', 'co', '|', 'ano', 'Rupees', 'Thousand', 'Seven', 'Hundred', 'Eighty', 'Only', 'Bank', 'Name', 'a', 'KUMAR', 'Bank', '12345678911', 'Terms', '&']\n",
            "['Duplicate', 'Shop', 'No-10', 'Kochar', 'Market', 'Ludhiana', 'Punjab', '-', '141001', 'O3ABRPK6485FGN1Z', 'TAX', 'INVOICE', '|__DocumentNo', '|', '2', 'StateCode', '|', '03,', '|Date=]', '24-12-2020', 'M/S', 'FOOJI', 'INDUSTRIES', '|', '‘C', 'Tech', 'Computer', 'Education', 'Shop', 'No-10,', 'Kochar', 'Market', 'Ludhiana', 'Punjab-140001', 'Contect', 'Number-', '0161', '00000000', 'Email', 'Id-', 'Customercare.ctech@gmail.com', 'Sele', 'Type', 'Interstate', 'fa]', '|', 'hax|', 'co', '|', '|!', 'ano', '21,000', 'cesT', 'Rupees', 'TwentyFour', 'Thousand', 'Seven', 'Hundred', 'Eighty', 'Only', 'Bank', 'Name', ':-', 'a', ' __', 'saaceaaaee', 'KUMAR', 'Bank', 'A/C:', '12345678911', 'SBiN00001234', 'Terms', '&', 'Conditions:-']\n",
            "/content/drive/MyDrive/images1/vgi/GST-Invoice-1._std.jpg\n",
            "62\n",
            "116\n",
            "['Invoice', 'Template', 'Street', 'Phone', 'Fax', 'Email', 'Raj', 'Enterprise', 'es', 'DEF', 'HU', 'Street', 'Chennai', 'DEF', 'HU', 'Street', '&', 'Es', 'a', 'ies', 'See', 'se', 'Se', 'at', 'ions', 'cotton', 'Dress', 'Material', '62114210', '60', '250', '1500', 'WE', '621050', '40', '550', '2200', 'za', 'A', 'Total', '37000', '|', 'ones', 'Ea', 'Total', 'Taxable', 'Total', '2790', '|', '2394', '|', 'Ce', 'Le', 'eS', 'a', 'Thank', 'you', 'for', 'your', 'Business', 'Grand', '|']\n",
            "['GST', 'Invoice', 'Template', 'Street', 'Address,', 'Phone', '1234567800,', 'Fax', '1234567800,', 'Email', 'abc@abe.com', 'Raj', 'Enterprise', 'es', 'ABC,', 'DEF', 'building,', 'HU', 'Street', 'Chennai', '2017/GST/01', 'ABC,', 'DEF', 'building,', 'HU', 'Street', '22-ANAAAOOOOA-V-6', '6/21/2017', '&', 'Es', 'a', 'BERS', 'ies', 'See', 'se', 'Se', 'Creede', 'at', 'ions', 'HE.', 'cotton', 'Dress', 'Material', '62114210', '60', 'Pcs.', '250', 'MNBUNN)', '1500', 'MIBETT)', '6.00%', 'NET)', '6.00%', '[NEST', '0.00%', 'I)', 'WE', 'Georgette', 'Kurtis', '621050', '40', 'Pcs', '550', 'MNEINT)', '2200', 'METI', '10.00%', 'MEET)', '8.00%', 'METZ)', '0.00%', 'IIT)', 'z=', 'qn', 'za', 'x', 'GCE)', 'MED)', 'ETD', 'EE)', 'A', 'A)', 'ER)', '[Amount]', 'Total', 'ivore', 'Value]', '37000', '|', 'ones', 'Ea', 'Total', 'Taxable', 'Value|', 'Total', 'cast]', '2790', '|', 'ST', 'Totalsesr]', '2394', '|', 'DC', 'Ce', 'Le', 'eS', 'a', 'Thank', 'you', 'for', 'your', 'Business', 'Grand', 'Total]', '3eaaa', '|']\n",
            "/content/drive/MyDrive/images1/vgi/service_tax_invoice_format._std.jpg\n",
            "90\n",
            "193\n",
            "['Tax', 'Invoice', 'Format', 'vim', 'Seller', 'Services', 'Private', 'Limited', 'Invoice', '#', 'Brigade', 'Invoice', 'IN', 'PAN', 'Tax', 'Registration', 'Bill', 'to', 'Kumar', 'Near', 'IN', 'of', 'Service', '_', 'of', 'Tax', 'Support', 'Closing', 'Fee', 'Tax', '_', 'ee', 'Cess', '_', 'Business', 'Support', 'Fee', '156.00', 'Tax', 'Cess', '|', '_', '190.90', 'Please', 'note', 'that', 'this', 'invoice', 'is', 'not', 'a', 'demand', 'for', 'payment', 'To', 'view', 'your', 'account', 'at', 'any', 'access', 'Account', 'Summary', 'Amazon', 'Seller', 'Services', 'Private', 'Limited', 'Brigade', 'World', 'Trade', 'Center', 'Raj', 'Kumar', 'Bangalore', '560', 'India', 'Service', 'Tax', 'Registration', 'Pan', '+91', '89', '33420300', '+91', '80', '30625685', 'in', 'Accounting', 'Education']\n",
            "['amazonin', 'Tax', 'Invoice', '—', 'Format', 'SELES', 'vim', '‘Amazon', 'Seller', 'Services', 'Private', 'Limited', 'Invoice', 'Date:', '30/06/2016', '#', '26/1,', 'Brigade', 'Gateway,', '8th', 'Floor.,', 'Dr', 'Invoice', 'Number:', 'VIA-IN-451009', 'Rajkumar', 'Road,', 'Malleshwaram', 'West,', 'Banglore,', 'Kamataka,', '560055,', 'IN', 'Website:', 'www.amazon.in', 'PAN', 'No:', 'AAICA3918J', '‘Service', 'Tax', 'Registration', 'No:', 'AAICA3918JSD001', 'CIN', 'No:', 'U51900KA2010PTC053234', 'Bill', 'to', '‘Name:', 'Vinod', 'Kumar', 'Address:', 'H.No.', '1324,', 'Near', 'N.T.C.', 'School,', 'Rajpura', 'Town,', 'Punjab,', '140401,', 'IN', '|SLNo|Category', 'of', 'Service', '_', '|Description', 'of', 'Service|', 'Tax', 'Rate|Amount', '[t.', '[Business', 'Support', 'Services|Fixed', 'Closing', 'Fee', 'INR', '10.00]', '‘Service', 'Tax', '74.00%)', '_', 'INR', '1.40]', '[Swachh', 'Bharat', 'Cess_|', '0.50%)', 'INR', '0.05]', 'ee', '_[krishi', 'Kalyan', 'Cess', '10.50%]', '_', 'INR', '0.05)', 'Business', 'Support', 'Services|Listing', 'Fee', 'INR', '156.00', '‘Service', 'Tax', '44.00%)', 'INR', '21.84]', '[Swachh', 'Bharat', 'Cess', '|', '0.50%)', '_', 'INR', '0.78]', '0.50%]', 'INR', 'O78)', 'Total:', 'INR', '190.90', 'Please', 'note', 'that', 'this', 'invoice', 'is', 'not', 'a', 'demand', 'for', 'payment', 'To', 'view', 'your', 'account', 'at', 'any', 'time,', 'access', 'Account', 'Summary', 'Regd', 'Office:', 'Amazon', 'Seller', 'Services', 'Private', 'Limited', '8th', 'Floor,', 'Brigade', 'World', 'Trade', 'Center', 'Dr', 'Raj', 'Kumar', 'Road,', 'Malleshwaram', '(West)', 'Bangalore', '560', '055,', 'India', 'Service', 'Tax', 'Registration', 'No:', 'AAICA3918JSD001', 'Pan', 'No:', 'AAICA3918J', 'CIN', 'No:', 'U51900KA2010PTC053234', 'Telephone:', '+91', '89', '33420300', 'Fax:', '+91', '80', '30625685', 'Email:', 'customer-service@amazon', 'in', 'Accounting', 'Education', '(www.svtuition.org)']\n",
            "/content/drive/MyDrive/images1/vgi/gst-tax-invoice._std.jpg\n",
            "6\n",
            "13\n",
            "['Mumbai', '-', '400028', 'Industries', 'TAX', 'INVOICE']\n",
            "['‘Ambbetaae', 'Road,', 'Worl,', 'Murichar', 'Chambers,', 'Mumbai', '-', '400028', 'G', 'Gl', 'Industries', 'TAX', 'INVOICE']\n",
            "/content/drive/MyDrive/images1/vgi/GST-invoice-sample._std.jpg\n",
            "115\n",
            "198\n",
            "['Tax', 'Invoice', 'ABC', 'No', 'Building', ':', 'Buyer', 'NATIONAL', 'ELECTRONICS', 'MOUNT', 'FLOOR', 'Dated', 'fi', 'Delivery', 'Note', 'of', 'Payment', 'Suppliers', 'Ret', '04565', 'Other', 'Buyers', 'Order', 'Dated', 'Despatch', 'Delivery', 'Note', 'Date', 'NO', '690001', '32', 'Despatched', 'through', 'Destination', 'GAT', 'Place', 'of', 'Supply', '-', 'Bill', 'Vehicle', 'Terms', 'of', 'Delivery', 'Description', 'of', 'Goods', 'Quantity', '|', 'Rate', 'Amount', 'Na', 'Rate', '2521', '10', '=', 'E', 'Forty', 'One', 'Thousand', 'Three', 'Hundred', 'Only', 'Taxable', 'Central', 'Tax', 'State', 'Tax', 'Total', '|', 'Rate', '[', 'Amount', 'Tax', 'Amount', 'Total', 'Tax', 'Amount', ':', 'Six', 'Thousand', 'Three', 'Hundred', 'Only', 'Declaration', 'that', 'this', 'invoice', 'shows', 'the', 'actual', 'price', 'of', 'the', 'goods', 'described', 'and', 'that', 'all', 'particulars', 'are', 'true', 'and', 'Tor', 'ABC', 'Authorised', 'SUBJECT', 'TO', 'JURISDICTION', 'This', 'is', 'a', 'Computer', 'Generated', 'Invoice']\n",
            "['Tax', 'Invoice', 'ABC', 'LTD', 'No', '34,', 'GS', 'Building', 'Calicut', 'GSTINIUIN:', '32AAEFO1405F1ZY', 'E-Mail', ':', 'acc@abe.com', 'Buyer', 'NATIONAL', 'ELECTRONICS', 'MOUNT', 'ROAD,', 'CALICUT,', 'RABY', 'TOWER,', 'FLOOR', 'Tnvoice', 'No.', 'Dated', 'fi', '41-Feb-2018', 'Delivery', 'Note', 'Mode/Terms', 'of', 'Payment', 'Suppliers', 'Ret', '04565', 'Other', 'Reference(s)', 'Buyers', 'Order', 'No.', 'Dated', 'Despatch', 'DocumentNo|', 'Delivery', 'Note', 'Date', 'NO', '3,', '690001', '4855,', 'Sanne', 'Kesar', 'eoas', '32', 'Despatched', 'through', 'Destination', 'GSTINIUIN', '32AAAGMO289C1ZS', 'GAT', '{CALICUT', 'Place', 'of', 'Supply', '-', 'Kerala', 'Bill', 'ofLadingLR-RRNo.', '[Motor', 'Vehicle', 'No.', '[87545', 'dt.', '1-Feb-2018', '_|KL60.D-4587', 'Terms', 'of', 'Delivery', 'Sj', 'Description', 'of', 'Goods', 'HSNISAC]', 'GST]', 'Quantity', '|', 'Rate', 'per]', 'Amount', 'Na', 'Rate', '1|pvo', '2521', '18%]', '10PCs|', '3.500.00]Pcs|', '35,000.00]', 'cesT]', '3,150.00]', 'SGsT|', '3,150.00]', 'Total]', '10', 'PCS', '=', '41,300.01', '/Amount', 'Chargeabe', '(in', 'words)', 'E', '&0E|', 'INR', 'Forty', 'One', 'Thousand', 'Three', 'Hundred', 'Only', 'HSNISAG', 'Taxable', 'Central', 'Tax', 'State', 'Tax', 'Total', 'value__|', '\"Rate', '|', 'Amount_[', 'Rate', '[', 'Amount', '_|', 'Tax', 'Amount', 'B52', '35,00000[', '9%]', '3,150.00]', '9%]', '3,150.00]', '__', '6,300.00', 'Total', '35,000.00', '3,150.00]', '3,150.00]', '6,300.00', 'Tax', 'Amount', '(in', 'words)', ':', 'INR', 'Six', 'Thousand', 'Three', 'Hundred', 'Only', 'Declaration', '{We', 'dectare', 'that', 'this', 'invoice', 'shows', 'the', 'actual', 'price', 'of', 'the', 'goods', 'described', 'and', 'that', 'all', 'particulars', 'are', 'true', 'and', 'correct.', 'Tor', 'ABC', 'TD', 'Authorised', 'Signatory|', 'SUBJECT', 'TO', 'KANNUR', 'JURISDICTION', 'This', 'is', 'a', 'Computer', 'Generated', 'Invoice']\n",
            "/content/drive/MyDrive/images1/vgi/tax-invoice-formatjpeg._std.jpg\n",
            "89\n",
            "149\n",
            "['Your', 'Business', 'Name', 'logo', 'Suet', 'State', 'Country', 'com', 'Tax', 'Number', 'your', 'lax', 'no', 'Sold', 'To', 'To', 'TAX', 'INVOICE', 'Name', 'Ship', 'To', 'Name', 'Invoice', 'Not', '10001', 'Street', 'Address', 'Ship', 'To', 'Street', 'Address', 'Date', 'code', 'code', 'Your', 'Country', 'Country', 'Our', 'Attention', 'To', ':', 'Contact', 'Person', 'Attention', 'To', ':', 'Contact', 'Person', 'Cash', 'Unit', '2314254', 'A', 'Comments', 'Terms', '&', 'Conditions', 'All', 'goods', 'remain', 'the', 'property', 'of', 'Business', 'until', 'full', 'payment', 'has', 'been', '=', 'Please', 'make', 'payments', 'payable', 'to', 'BUSINESS', 'NAME', '=', 'Payments', 'may', 'aso', 'be', 'made', 'by', 'wire', 'the', 'account', 'Name', 'No', '#']\n",
            "['Your', 'Business', 'Name', '[insert', 'logo', 'here]', 'Suet', 'Asdress', 'Cy.', 'State', 'Postoove,', 'Country', 'Tel.', '(455)', '3156-1254,', 'Fax.', '(256)', '3156-1295,', 'Emad', 'youname@youtste', 'com', '‘Website', 'www', 'yoursite', 'com,', 'Tax', 'Regisiraton', 'Number', 'your', 'lax', 'feg', 'no', '  ', '  ', '  ', '  ', 'Sold', 'To', '‘Ship', 'To', 'TAX', 'INVOICE', '‘Customer', 'Name', 'Ship', 'To', 'Name', 'Invoice', 'Not', '10001', 'Street', 'Address', 'Ship', 'To', 'Street', 'Address', 'Date', '10/08/2013', 'City.', 'State/Province,', 'Zip/Post', 'code', 'City.', 'StateiProvince,', 'Zip/Post', 'code', 'Your', 'Rettt', 'Country', 'Country', 'Our', 'Ret!', 'Attention', 'To', ':', 'Contact', 'Person', 'Attention', 'To', ':', 'Contact', 'Person', 'Creda', 'Terms.', 'Cash', 'ProductiD', '[Description', '‘Quanttyfum,', 'Unit', 'Price]', '2314254', '[Product', 'A', '2]sets', '$1,200.00}', '$2,400.00]', 'sfpcs', '$400.00}', '$1,200.00]', '153,600.00}', 'Comments', 'Terms', '&', 'Conditions', '+=', 'All', 'goods', 'remain', 'the', 'property', 'of', '\"Your', 'Business', 'Namo”', 'until', 'full', 'payment', 'has', 'been', 'recewved', '=', 'Please', 'make', 'check!', 'choque', 'payments', 'payable', 'to', '\"YOUR', 'BUSINESS', 'NAME', '=', 'Payments', 'may', 'aso', 'be', 'made', 'by', 'wire', 'transter', '1o', 'the', 'folowing', 'account', '‘Account', 'Name', '‘Account', 'No', '#']\n",
            "/content/drive/MyDrive/images1/vgi/1cf8f4113cd67d2f7e75b9985c1970d5._std.jpg\n",
            "83\n",
            "150\n",
            "['INVOICE', 'Education', 'Lid', 'rice', '756001', 'Ne', 'AST', 'ae', 'Roy', '&', 'Sons', '|', 'Daa', 'Dear', 'SE', 'Dea', 'a', 'ie', 'nat', 'his', 'stows', 'the', 'actual', '|', 'pods', 'deserted', 'a', 'sy', 'Description', 'of', 'Goad', 'TENSES', '|', 'RSE', '+', 'Software', '|', 'Output', '75.00', 'Te', '8.85000', 'cant', 'Pe', 'BUR', 'Eight', 'Thousand', 'Eight', 'Hundred', 'Fifty', 'Only', 'Tate', 'Tae', 'SETH', 'see', 'Tamer', 'Re', 'Tare', 'eve', 'mo', 'eel', '75001', '375.0', '275.0', 'One', 'Thousand', 'Three', 'Hundred', 'Fifty', 'ate', 'Bank', 'Desi', '&', 'Code', '|', 'Bank', 'ra', 'Sate', 'Tor', 'Lid', 'arsed', 'Sand', 'Thi', 'Ger']\n",
            "['INVOICE', 'Seayam', 'Education', 'PML', 'Lid', 'rice', 'Daed', 'Balasore', '756001', 'se00nt7-18', 'layueoor7,', 'losehe', 'Bsiery', 'Ne', '[este', 'AST', 'PSEA', 'COE', 'ISRETERE', 'CRS', 'SRE', 'ae', 'Rajib', 'Roy', '&', 'Sons', '[SeinunanstrsoTeanz', '|', 'Daa', 'Dear', '[Danae', 'SE', 'TTR', 'Dea', 'lCompanysPaN', 'ASTPSOTE2A', 'a', 'ie', 'dasare', 'nat', 'his', 'nwice', 'stows', 'the', 'actual', 'pce', 'ofte', '|', 'SaneName', 'pods', 'deserted', 'a', 'sy', 'Description', 'of', 'Goad', 'TENSES', '[EST', 'RSE]', 'Giantly', '|', 'RSE', '[pe]', '—_Anoant', '+', '[antivirus', 'Software', 'CD', '18%', '|', 'epes|', '120000/P=|', '7.50000]', 'utput', 'casr|', 'sr5.0]', 'Output', 'SeS7|', '75.00', 'Te', 'BPE', '8.85000', 'cant', 'Cra', 'Pe', 'EEO', 'BUR', 'Eight', 'Thousand', 'Eight', 'Hundred', 'Fifty', 'Only', 'FENSAC', 'Tate', 'Tae', 'SETH', 'see', 'Tamer', 'Re', 'Tare', 'feooma|', 'S|]', 'eve', 'mo', 'eel', 'erea0|', 'Tatal|', '75001', '375.0', '275.0', '[recAmaur(nvers)', 'INR', 'One', 'Thousand', 'Three', 'Hundred', 'Fifty', 'Oniy', 'Bone.', 'iparcubrs', 'ate', '‘Ganpan/s', 'Bank', 'Desi', 'Srench', '&', 'FS', 'Code', '|', 'UTBAAARAAY', '‘hx', 'Bank', 'Zao', 'eosorers', 'ST', 'ra', 'Sate', 'Tor', 'SeajarnECucaton', 'PL', 'Lid', 'arsed', 'Sand', 'SUBIECT', 'TOBALASORE', 'WREDICTION', 'Thi', 'omputr', 'Ger']\n",
            "/content/drive/MyDrive/images1/vgi/003-Sales-Order-2-Deposit-SST_1._std.jpg\n",
            "68\n",
            "152\n",
            "['Testing', 'Gym', 'Manufacturer', 'Petaling', '0217', '0117', 'Sales', 'Order', 'Bing', 'HERO', 'FITNESS', 'CLUB', '31900', 'Jonathan', 'Delivery', '31900', 'At', 'Jonathan', 'Tel', '0578', 'Tel', '0578', 'te', 'tem', 'Cos', 'Dice', '1', 'Barbell', 'Rack', '10.00', 'SET', '638.00', '2', 'Stack', '20.00', 'UNIT', '3', 'Treadmill', '5.00', 'UNIT', '4', 'Set', 'Up', 'Bench', '10.00', 'UNIT', 'MALAYSIA', ':', 'EIGHTY', 'SEVEN', 'ONE', 'HUNDRED', 'NINETY', 'ONE', 'AND', 'CENTS', 'FIFTY', 'ONLY', 'Total', 'Tax', 'Tax', 'Total', 'Tax', 'Less', 'Deposit', '60', 'Days', 'Gym']\n",
            "['Testing', 'Gym', 'Manufacturer', 'Sdn', 'Bhd', 'asic', 'No.', '57,', 'Jalan', 'S$', '17/1C,', '47500,', 'Petaling', 'Jaya,', 'Selangor,', 'Malaysia,', 'Phone:', '03-5637', '0217', 'Fax:', '03-5637', '0117', '(SST', 'No:', '000612345678)', 'Sales', 'Order', 'Bing', 'Adress', 'HERO', 'FITNESS', 'CLUB', '2368,', 'Jalan', 'Hala', 'Timah', '2,', 'Taman', 'Kole]', 'Perdana,', '31900', 'Kampar,', 'Perak', 'atin', 'Mr,', 'Jonathan', 'Liew', 'Delivery', 'Adress', '2368,', 'Jalan', 'Hala', 'Timah', '2,', 'Taman', 'Kole]', 'Perdana,', '31900', 'Kampar,', 'Perak', 'At', 'Mr,', 'Jonathan', 'Liew', 'Tel', '05-466', '0578', 'Tel', '05-466', '0578', 'te', 'tem', 'Cos', 'Decion', 'ww', 'esc', 'eons,', 'Teta', 'Dice', '1', 'RACK-419', 'Barbell', 'Rack', 'DM-419', '10.00', 'SET', '638.00', '7,018.00', '2', 'STACK-O75', 'Junge', 'Stack', 'DM-075', '20.00', 'UNIT', '2,150.00', '47,300.00', '3', 'TREADMILL-424', 'Treadmill', 'DM-424', '5.00', 'UNIT', '3,279.00', '18,034.50', '4', 'BENCH-020', 'Set', 'Up', 'Bench', 'DM-020', '10.00', 'UNIT', '1,349.00', '14,839.00', 'RINGGIT', 'MALAYSIA', ':', 'EIGHTY', 'SEVEN', 'THOLISAND', 'ONE', 'HUNDRED', 'NINETY', 'ONE', 'AND', 'CENTS', 'FIFTY', 'ONLY', 'Total', 'Excl.', 'Tax', '79,265.00', 'Tax', 'Amt,', '7,926.50', 'Total', 'Ind.', 'Tax', '87,191.50', 'Less', 'Deposit', '(50,000.00)', '60', 'Days', '37,191.50', '“Teng', 'Gym', 'Mende', 'Sn', 'Bd', 'SEH)']\n",
            "/content/drive/MyDrive/images1/vgi/fomat-of-gst-tax-invoice._std.jpg\n",
            "112\n",
            "163\n",
            "['Revised', 'Invoice', 'TALLY', 'PRACTICE', 'PRIVATE', 'LIMITED', '|', 'Credit', 'Note', 'Dated', '1', 'RAMESH', 'NAGAR', 'of', 'Payment', ':', \"Buyer's\", 'Other', 'Party', ':', \"Buyer's\", 'Order', 'Dated', 'Store', 'New', 'New', 'Despatch', 'Document', 'State', 'Name', ':', 'Code', ':', '07', ':', 'Despatched', 'through', 'Destination', 'Terms', 'of', 'Delivery', 'Description', 'of', 'Goods', 'Quantity', 'Rate', 'per', 'Amount', 'No', '1', '|', 'Spices', '09042211', '2', 'Output', '216.00', 'Output', '216.00', 'Total', '=', 'Amount', 'Chargeable', 'Two', 'Thousand', 'Eight', 'Hundred', 'Thirty', 'Two', 'Only', 'Taxable', 'Central', 'Tax', 'State', 'Tax', 'Total', 'Value', 'Rate', 'Amount', 'Rate', 'Amount', '|', 'Tax', 'Amount', '09042211', '216.00', '216.00', '432.00', 'Total', '216.00', '216.00', '432.00', 'Tax', 'Amount', ':', 'Four', 'Hundred', 'Thirty', 'Two', 'Only', 'for', 'TALLY', 'PRACTICE', 'PRIVATE', 'LIMITED', 'Authorised', 'Signatory', 'This', 'is', 'a', 'Computer', 'Generated', 'Document']\n",
            "['Revised', 'Invoice', 'JYOTI', 'GST', 'TALLY', 'PRACTICE', 'PRIVATE', 'LIMITED', '|', 'Credit', 'Note', 'No.', 'Dated', 'B-240', '1', '1-Jul-2017', 'RAMESH', 'NAGAR', 'Mode/Terms', 'of', 'Payment', 'GSTIN/UIN:', 'O7APACG8976H1Z8', 'E-Mail', ':', 'accounts@gstp.com', \"Buyer's\", 'Ref.', 'Other', 'Reference(s)', 'GTI-01', 'dt.', '1-Jul-2017', 'Party', ':', \"Buyer's\", 'Order', 'No.', 'Dated', 'Ghai', 'Store', 'R-786', 'New', 'Rajinder', 'Nagar,', 'New', 'Delhi-110060', 'Despatch', 'Document', 'No.', 'State', 'Name', ':', 'Delhi,', 'Code', ':', '07', 'GSTIN/UIN', ':', 'O7BBUPK8789J1Z8', 'Despatched', 'through', 'Destination', 'Terms', 'of', 'Delivery', 'Sl', 'Description', 'of', 'Goods', 'HSN/SAC)', 'Quantity', 'Rate', 'per', 'Amount', 'No', '1', '|', 'Spices', '09042211', '2', 'Kg}', '1,200.00}', 'Kg', '2,400.00', 'Output', 'CGST@9%', '91%', '216.00', 'Output', 'SGST@9%', '91%', '216.00', 'Total', '2Kg', '=', '2,832.00', 'Amount', 'Chargeable', '(in', 'words)', '£606', 'INR', 'Two', 'Thousand', 'Eight', 'Hundred', 'Thirty', 'Two', 'Only', 'HSN/SAC', 'Taxable', 'Central', 'Tax', 'State', 'Tax', 'Total', 'Value', 'Rate', 'Amount', 'Rate', 'Amount', '|', 'Tax', 'Amount', '09042211', '2,400.00', '9%', '216.00', '9%', '216.00', '432.00', 'Total', '2,400.00', '216.00', '216.00', '432.00', 'Tax', 'Amount', '(in', 'words)', ':', 'INR', 'Four', 'Hundred', 'Thirty', 'Two', 'Only', 'for', 'JYOTI', 'GST', 'TALLY', 'PRACTICE', 'PRIVATE', 'LIMITED', 'Authorised', 'Signatory', 'This', 'is', 'a', 'Computer', 'Generated', 'Document']\n",
            "/content/drive/MyDrive/images1/vgi/tax-invoice-format-2-tallyprime._std.jpg\n",
            "111\n",
            "160\n",
            "['Tax', 'Invoice', 'Ali', '&', 'Co', 'West', ':', 'Buyer', 'Max', 'Centre', 'Point', 'New', \"Supplier's\", \"Buyer's\", 'Order', 'Despatch', 'Document', 'Invoice', 'Dated', '1', 'Delivery', 'Note', 'of', 'Payment', 'Other', 'Dated', 'Delivery', 'Note', 'Date', 'Country', ':', 'of', ':', 'Place', 'of', 'supply', ':', 'of', 'poo', 'Terms', 'of', 'Delivery', 'Description', 'of', 'Goods', 'Quantity', 'Rate', '|', 'per', '|', 'VAT', 'Amount', '%', '1', '10', '5', '%', 'Amount', 'Chargeable', 'Taxable', 'Value', 'Three', 'Thousand', 'Six', 'Hundred', 'Seventy', '175.000', 'Five', 'Only', 'Invoice', 'Total', 'VAT', 'Amount', 'One', 'Hundred', 'Seventy', 'Five', 'Only', 'Declaration', 'for', 'Ali', '&', 'Co', 'We', 'declare', 'that', 'this', 'invoice', 'shows', 'the', 'actual', 'price', 'of', 'the', 'goods', 'described', 'and', 'that', 'all', 'particulars', 'are', 'true', 'and', 'Authorised', 'Signatory', 'This', 'is', 'a', 'Computer', 'Generated', 'Invoice']\n",
            "['Tax', 'Invoice', 'Ali', '&', 'Co', 'West', 'Gate,High', 'Street,', 'Muscat', 'VATIN', ':', 'AA1234567890', 'Buyer', 'Max', 'Enterpieses', 'Centre', 'Point', 'Mall,', 'New', 'Street,', 'Muscat', \"Supplier's\", 'Ref.', \"Buyer's\", 'Order', 'No.', 'Despatch', 'Document', 'No.', 'Invoice', 'No.', 'Dated', '1', '11-Nov-21', 'Delivery', 'Note', 'Mode/Terms', 'of', 'Payment', 'Other', 'Reference(s)', 'Dated', 'Delivery', 'Note', 'Date', 'Country', ':', 'Sultanate', 'of', 'Oman', \"'Despetehedimeugh/Toeetaatl\", 'VATIN', ':', 'AS0987654321', 'lespatched', 'Inroug)', 'estnavon:', 'Place', 'of', 'supply', ':', 'Sultanate', 'of', 'Oman', 'poo', 'Terms', 'of', 'Delivery', 'Sl', 'Description', 'of', 'Goods', 'Quantity', 'Rate', '|', 'per', '|', 'VAT', 'Amount', 'No.', '%', '1', '|Product', '10', 'Nos}', '350.000/Nos|', '5', '%', '3,500.000', 'Amount', 'Chargeable', '(in', 'words)', 'Taxable', 'Value', '3,500.000', 'Omani', 'Rial', 'Three', 'Thousand', 'Six', 'Hundred', 'Seventy', '|ValueAddedTax5%', '175.000', 'Five', 'Only', '(OMR', '3,675.000)', 'Invoice', 'Total', '3,675.000', 'VAT', 'Amount', '(in', 'words)', 'E.&0O£E|', 'Omani', 'Rial', 'One', 'Hundred', 'Seventy', 'Five', 'Only', '(OMR', '175.000)', 'Declaration', 'for', 'Ali', '&', 'Co', 'We', 'declare', 'that', 'this', 'invoice', 'shows', 'the', 'actual', 'price', 'of', 'the', 'goods', 'described', 'and', 'that', 'all', 'particulars', 'are', 'true', 'and', 'correct.', 'Authorised', 'Signatory', 'This', 'is', 'a', 'Computer', 'Generated', 'Invoice']\n",
            "/content/drive/MyDrive/images1/vgi/simplified-tax-invoice-2._std.jpg\n",
            "99\n",
            "145\n",
            "['Invoice', '1', 'Dated', 'Co', 'West', ':', 'Simplified', 'Tax', 'Invoice', 'Party', ':', 'Max', 'Centre', 'Point', 'New', 'Street', 'Country', ':', 'of', ':', 'Place', ':', 'of', 'Description', 'of', 'Goods', 'Quantity', 'Rate', 'per', 'Amount', 'VAT', '%', '1', '|', 'Product', '10', 'Nos', '175.000', 'Amount', 'Chargeable', 'Three', 'Thousand', 'Six', 'Hundred', 'Seventy', 'Five', 'Only', 'VAT', 'Amount', 'One', 'Hundred', 'Seventy', 'Five', 'Only', 'VAT', '%', 'Value', 'Tax', 'Amount', '3', '000', '175.000', 'Total', '3', '000', '175.000', 'Declaration', 'for', 'Ali', '&', 'Co', 'We', 'declare', 'that', 'this', 'invoice', 'shows', 'the', 'actual', 'price', 'of', 'the', 'goods', 'described', 'and', 'that', 'all', 'particulars', 'are', 'true', 'and', 'Authorised', 'Signatory', 'This', 'is', 'a', 'Computer', 'Generated', 'Invoice']\n",
            "['Invoice', 'No.', '1', 'Dated', '11-Nov-21', 'Ref.', 'No.', 'Ali&', 'Co', 'West', 'Gate,High', 'Street,', 'Muscat', 'VATIN', ':', 'AA1234567890', 'Simplified', 'Tax', 'Invoice', 'Party', ':', 'Max', 'Enterpieses', 'Centre', 'Point', 'Mall,', 'New', 'Street', 'Muscat', 'Country', ':', 'Sultanate', 'of', 'Oman', 'VATIN', ':', 'AS0987654321', 'Place', 'ofsupply', ':', 'Sultanate', 'of', 'Oman', 'SINo', 'Description', 'of', 'Goods', 'Quantity', 'Rate', 'per', 'Amount', 'VAT', '%', '1', '|', 'Product', '10', 'Nos|', '350.000!', 'Nos', '3,500.000|', '5%', 'VAT)', '175.000', 'Total]', '10Nos', 'OMR', '3,675.000', 'Amount', 'Chargeable', '(in', 'words)', 'E&OE', 'Omani', 'Rial', 'Three', 'Thousand', 'Six', 'Hundred', 'Seventy', 'Five', 'Only', '(OMR', '3,675.000)', 'VAT', 'Amount', '(in', 'words)', 'Omani', 'Rial', 'One', 'Hundred', 'Seventy', 'Five', 'Only', '(OMR', '175.000)', 'VAT', '%', '_Assesable', 'Value', 'Tax', 'Amount', '5%', '3', '000', '175.000', 'Total', '3', '000', '175.000', 'Declaration', 'for', 'Ali', '&', 'Co', 'We', 'declare', 'that', 'this', 'invoice', 'shows', 'the', 'actual', 'price', 'of', 'the', 'goods', 'described', 'and', 'that', 'all', 'particulars', 'are', 'true', 'and', 'correct.', 'Authorised', 'Signatory', 'This', 'is', 'a', 'Computer', 'Generated', 'Invoice']\n",
            "/content/drive/MyDrive/images1/vgi/4921_001-6_std.jpg\n",
            "140\n",
            "277\n",
            "['MOULDING', 'SOLUTIONS', 'Tax', 'Invoice', 'INDUSTRIAL', 'ORIGINAL', 'Invoice', '~', 'Transport', 'Mode', ':', 'BY', 'ROAD', 'Invoice', 'Date', ':', 'Vehicle', 'Reverse', 'Charge', 'NO', '.', 'Po', 'Number', ':', '5500018190', 'Po', 'Date', ':', 'Bill', 'To', 'Ship', 'To', 'Name', ':', 'Name', ':', 'PLOT', 'GROWTH', 'PLOT', 'GROWTH', 'EXPANSION', 'EXPANSION', ':', ':', 'STATE', ':', 'TAMIL', 'Code', 'TAMIL', 'Code', '-', 'i', 'Product', 'Description', 'Rate', 'Basic', 'Amit', 'ee', 'ae', 'Total', 'Tax', 'No', 'code', 'ae', '7', 'ae', 'im', 'value', '1', 'HOUSING', '87089900', 'NOS', '7142', '19.81', '.', ',', '|', '5006526770', 'MOULDING', 'SOLUTION', ':', '205966', 'vendor', '4', '351', 'Invoice', 'Bin', 'i', 'TOTAL', 'i', 'Total', 'Invoice', 'amount', 'in', 'words', 'Total', 'Amount', 'before', 'Tax', 'Eighteen', 'Thousand', 'One', 'Hundred', 'Four', 'And', 'Total', 'Amount', 'after', 'Bank', 'Details', 'Bank', 'Bank', 'Chennai', '600056.', 'NOTES', 'Make', 'all', 'cheques', 'payable', 'to', 'Moulding', 'If', 'you', 'have', 'any', 'questions', 'concerning', 'this', 'Mail', 'Printed', 'on', 'am', 'Report', 'Generated', 'by', 'TARA', 'Page', '4', 'of', '5']\n",
            "['G', 'MOULDING', 'SOLUTIONS', 'Tax', 'Invoice', 'D.P:23B/1,', 'SIDCO', 'INDUSTRIAL', 'ESTATE,', 'THIRUMAZHISAI,', 'ORIGINAL', '    ', '     ', '     ', '     ', '  ', '  ', '  ', '    ', '  ', '  ', '      ', '      ', '  ', 'CHENNAI-600124', 'GSTIN:', '33BNWPG8190D1ZP', 'Invoice', 'No:', 'GMS/20-21/02818', '~', 'Transport', 'Mode', ':', 'BY', 'ROAD', 'Invoice', 'Date', ':', '20-10-2020', 'Vehicle', 'Number:', 'C.HV', 'Reverse', 'Charge', '(Y/N):', 'NO', '.', 'Po', 'Number', ':', '5500018190', 'Po', 'Date', ':', '18-06-2020', 'Bill', 'To', 'Ship', 'To', 'Name', ':', 'MINDARIKA', 'PVT.', 'LTD', 'Name', ':', 'MINDARIKA', 'PVT.', 'LTD', '  ', 'Address:', 'PLOT', 'NO.', 'RNS-22,', 'SIPCOT', 'INDL', 'GROWTH', 'CENTRE,', 'Address:', 'PLOT', 'NO.', 'RNS-22,', 'SIPCOT', 'INDL', 'GROWTH', 'CENTRE,', 'ORAGADAM', 'EXPANSION', 'SCHEME,', 'VADAKKUPATTU,', 'ORAGADAM', 'EXPANSION', 'SCHEME,', 'VADAKKUPATTU,', 'SRIPERUMBUDURKANCHIPURAM-603204', 'SRIPERUMBUDUR,', 'KANCHIPURAM-603204', 'GSTIN', ':', '33AAACM8583F1ZF', 'GSTIN', ':', 'AAACM8583F1ZF', 'STATE', ':', 'TAMIL', 'NADU', 'Code', 'TN', 'STATE:', 'TAMIL', 'NADU', 'Code', 'TN', '-', 'i', 'CGST', 'Ss', 'St', 'Productcode', 'Product', 'Description', 'HSN/SAC', 'UOM', 'Qty', 'Rate', 'Basic', 'Value!', 'Rete', 'Amit', 'ee', 'ae', 't', 'Total', 'Tax', 'No', 'code', 'ae', '7', 'ae', 'im', 'value', '1', '$11414-', 'NISSON', 'HOUSING', '87089900', 'NOS', '7142', '19.81', '.', '14,144.34', '/14.00', '1,980.21', '14,0(', '1,980.21', '3,960.42', 'Oo1Aoy', ',', '|', '  ', '  ', '     ', '    ', 'Date:20.10.2020', 'GRN', 'No.', '5006526770', 'G', 'MOULDING', 'SOLUTION', '     ', '  ', '    ', '    ', '  ', ':', '205966', 'vendor', 'GMS/20-21/02818', '4', '351', 'Invoice', 'No.', 'Bin', 'Details:', '—', '17bin', 'i', 'TOTAL', '714,00', '14,144.34.', '1,980.21', '1,980.21', '3,960.42', 'i', 'Total', 'Invoice', 'amount', 'in', 'words', 'Total', 'Amount', 'before', 'Tax', '14,144.34', 'INR', 'Eighteen', 'Thousand', 'One', 'Hundred', 'Four', 'And', 'Seventy-Five', 'Add:', 'CGST', '    ', 'Add:', 'SGST', 'Total', 'Amount', 'after', 'Tax:', '1,980.21', '18,104.75', 'Bank', 'Details', 'Bank', 'A/C:', '204700150950026,', 'C/A.', 'Bank', 'IFSC:', 'TMBLO000204', 'POONAMALLEE', 'BRANCH,', 'Chennai', '600056.', 'NOTES', 'Make', 'all', 'cheques', 'payable', 'to', '\"M/s.', 'G', 'Moulding', 'Solutions”,', 'If', 'you', 'have', 'any', 'questions', 'concerning', 'this', 'Invoice,', 'contact,', 'Mr.Gopinathan,', '+91-9840442344/', 'Mail', 'ID:', 'v.gopinathan@gmoulding.com', 'Printed', 'on', '20/10/20', '1:07', 'am', 'Report', 'Generated', 'by', 'TARA', 'ERP', 'Page', '4', 'of', '5']\n",
            "/content/drive/MyDrive/images1/vgi/Tax-Invoice-GST._std.jpg\n",
            "74\n",
            "130\n",
            "['Original', 'Duplicate{Transporter)/Triplicate(Supplier):', 'Goods', 'Original', 'Services', 'ear', 'ee', 'ee', 'eee', 'ee', 'PRIVATE', 'Road', 'of', 'invoice', '5', 'comets', 'ane', '6', 'or', 'numerator', 'specie', 'hyphen', 'or', 'dah', 'ond', 'and', 'respect', 'and', 'any', 'combination', 'of', 'invoice', 'Details', 'of', 'Receiver', 'Name', 'sate', 'state', 'Code', 'Details', 'of', 'sad', 'of', 'caine', 'scion', 'fate', 'is', 'ond', 'where', 'the', 'value', 'ole', 'rate', 'Code', 'ri', 'or', 'more', 'Packing', 'and', 'Forwarding', 'Tora', 'i', 'Value', 'Fi', 'Total', 'Value', 'Til', 'Amount', 'subject', 'to', 'Reverse', 'Cha', 'Private', 'aides']\n",
            "['Original', '(Buyer}/', 'Duplicate{Transporter)/Triplicate(Supplier):', 'Goods', '[Rule', '3(1)]', 'Original', '(Receipent|/Duplicate(Supplir):', 'Services', '[ule', '3(2)]', 'ST', 'ear', 'ee', 'ee', 'eee', 'ee', 'eee)', 'howz', 'PRIVATE', 'UMMITED', 'orice', 'No,', 'Road', 'no._,', 'Area___', 'District__Cty,', 'State_Pincode', 'seria!', 'No.', 'of', 'invoice', '5', 'comets', 'rer', 'ane', '6', 'MOREE', 'OMS', '[iehoter', 'or', 'numerator', 'specie', 'chr', 'hyphen', 'or', 'dah', 'ond', 'symbotzed', 'and', 'respect', 'and', 'any', 'combination', '[GSTIN:_AAAATITIAGSTINGOOO.', '[Bate', 'of', 'invoice', 'Details', 'of', 'Receiver', '(Billed', 'to}', 'Name', '[aaarese', 'sate', 'state', 'Code', '[GSTiIN/Unique', 'Details', 'of', 'Consignee', '(Shipped', 'to)', 'ress', 'sad', 'x', '“aera', 'of', 'caine', 'orper', 'scion', '22)', 'fate', 'rach', 'recpet', 'is', 'urregiared', 'ond', 'where', 'the', 'value', 'ole', 'rate', 'Code', 'ri', 'fiythovzand', 'pes', 'or', 'more', '[esTin7Unigue', 'TD', 'Freighal', 'Trsurance|', 'Packing', 'and', 'Forwarding', 'Charge]', 'Tora', '“Tota', 'i', 'Value', 'Gn', 'Fi', 'Total', 'Bil', 'Value', '(in', 'Words]', 'Til', 'Amount', 'subject', 'to', 'Reverse', 'Cha', 'ForXv2', 'Private', 'imited', 'aiikedh', 'aides']\n",
            "/content/drive/MyDrive/images1/vgi/Sales_Invoice__19-20-001_std.jpg\n",
            "194\n",
            "317\n",
            "['an', 'I', 'te', 'A', 'Tax', 'I', 'voice', 'a', 'Original', 'for', 'Scientific', '.', ':', '134', 'INDIA', '7', '+', '91', '261', '2769212', 'Mail', 'PAN', ':', 'Invoice', 'No', 'Invoice', 'date', 'Reverse', 'Charge', 'Site', 'Private', 'Limited', 'Vehicle', 'Date', 'of', 'Supply', '.', 'Module', '407', '&', 'Bio', 'Park', '407', '&', 'Bio', 'Park', 'Fe', 'ode', '53', 'tate', 'Purchase', 'Order', 'pier', '|', '|', 'Product', 'Description', 'Unit', 'Code', ';', 'on', '|', 'value', 'Backing', 'Laminate', '300', '|', '39204900', ';', '9750', 'Micron', 'Card', '-', '64', '306', 'Code', ':', '|', '18', '|', '19314', 'on', 'Reverse', 'Charge', 'Seventy', 'Nine', 'and', 'Paisa', 'only', 'Bank', 'Details', 'Bank', 'Bank', 'Bank', '50200031506397', '*', 'Payment', 'Terms', ':', 'PAYMENT', 'DUE', '30', 'days', 'from', 'Invoice', 'Date', '*', 'Terms', '&', 'conditions', '5', '1.', 'Goods', 'once', 'sold', 'cannot', 'be', '2.', 'Subject', 'to', '3.', 'No', 'claims', 'are', 'entertained', 'unless', 'brought', 'to', 'our', 'notice', 'in', 'writing', 'within', '7', 'days', 'of', 'receipts', 'of', '4.', 'Interest', 'will', 'be', 'charged', 'if', 'the', 'invoice', 'is', 'not', 'paid', 'on', 'due', 'date', 'Declaration', ':', 'For', 'Scientific', 'Certified', 'that', 'the', 'particulars', 'given', 'above', 'are', 'true', 'and', 'correct', 'and', 'the', 'amount', 'indicated', 'represent', 'the', 'price', 'actually', 'charge', 'and', 'that', 'there', 'is', 'no', 'flow', 'of', 'additional', 'consideration', 'directly', 'or', 'indirectly', 'from', 'buyer', '/', 'Authorised', 'signatory', 'Scanned', 'by']\n",
            "['    ', '  ', '  ', 'an', 'I', 'te', 'A', 'ORLA', 'NITOEN', 'Tax', 'I', 'n', 'voice', 'a', 'sensi', 'Original', 'for', 'Keelplent', 'Qualisure', 'Scientific', 'LLP', '.', ':', '134', 'Kasturba', 'Mahila', 'Society,', 'B/L', 'Vckrawala', 'School,', 'Palanpur', 'Patia,', 'Rander,', 'Surat-395009,', 'Gujarat,', 'INDIA', '7', 'Tel:', '+', '91', '261', '2769212', 'Mail', 'ID;', 'qualisurescientificpmail,com', 'GST;', 'ZAAAAVQTIS6MIZS,', 'PAN', ':', 'AAAFQ7186M', '  ', 'Invoice', 'No', 'Invoice', 'date', 'Reverse', 'Charge', '(Y/N)', 'Site', 'Laat', '[ote', 'Athenese-Dx', 'Private', 'Limited', 'Vehicle', 'nuinber', 'Date', 'of', 'Supply', '  ', '  ', '  ', '  ', '     ', '  ', '    ', '  ', '.', 'Module', 'No.', '407', '&', '408,', '4th', 'Floor,', 'Ticel', 'Bio', 'Park', 'II,', 'No.', '5,', 'CSIR.', '[Address', '|Module', 'No.', '407', '&', '408,', '4th', 'Floor,', 'Ticel', 'Bio', 'Park', 'IJ,', 'No.', '5,', 'CSIR', 'Road,', 'Taramani,', 'Road,', 'Taramani,', 'Chennai-600113,', 'Chennai-600113,', '[State', '[Chennai', 'Fe', 'ode', '53', 'tate', '[Chea', 'Purchase', 'Order', 'No.', 'pier', '[PoDaelammmmm|', '|', 'SL', '|', 'O8AADCA0II7GIZ9', 'GSTIN', '|33AAKCA4573B1ZZ', 'Product', 'Description', 'HSN/SAC', 'Unit', 'Code', ';', 'on', '|', '(%)', 'value', 'PVC', 'Backing', 'Laminate', '300', '|', '39204900', ';', '9750', 'Micron', 'Card', '-', '64', 'mm', 'x', '306', 'mm', '(Dividing', 'Line:', '23-20-21)', 'Mat.', 'Code', ':', 'QPVCBL-300-C-', '    ', '  ', '  ', '    ', '  ', '    ', '    ', '  ', '  ', '  ', '  ', 'Ausstostem', '|', '18', '|', '19314', 'GST', 'on', 'Reverse', 'Charge', 'Nine‘Hundred', 'Seventy', 'Nine', 'and', 'Fouty', 'Paisa', 'only', 'Bank', 'Details', 'Bank', 'A/C', 'No.', 'Bank', 'IFSC', '    ', '  ', '  ', '  ', '  ', 'HDFG', 'Bank', '50200031506397', 'HDFC0000388', '*', 'Payment', 'Terms', ':', 'PAYMENT', 'DUE', 'ON:', '30', 'days', 'from', 'tke', 'Invoice', 'Date', '*', 'Terms', '&', 'conditions', '5', '1.', 'Goods', 'once', 'sold', 'cannot', 'be', 'returned.', '2.', 'Subject', 'to', 'Surat', 'jurisdiction.', '3.', 'No', 'claims', 'are', 'entertained', 'unless', 'brought', 'to', 'our', 'notice', 'in', 'writing', 'within', '7', 'days', 'of', 'receipts', 'of', 'goods.', '4.', 'Interest', '(24%', 'will', 'be', 'charged', 'if', 'the', 'invoice', 'is', 'not', 'paid', 'on', 'due', 'date', 'Declaration', ':', 'For', 'Qualisure', 'Scientific', 'LLP', 'Certified', 'that', 'the', 'particulars', 'given', 'above', 'are', 'true', 'and', 'correct', 'and', 'the', 'amount', 'indicated', 'represent', 'the', 'price', 'actually', 'charge', 'and', 'that', 'there', 'is', 'no', 'flow', 'of', 'additional', 'consideration', 'directly', 'or', 'indirectly', 'from', 'buyer', '/', 'recipient.', 'Authorised', 'signatory', 'Scanned', 'by', 'CamScanner']\n",
            "/content/drive/MyDrive/images1/vgi/New_Bill._std.jpg\n",
            "163\n",
            "223\n",
            "['Tax', 'Invoice', 'ORIGINAL', 'FOR', 'RECIPIENT', 'Enterprises', 'Type', 'of', 'Your', 'Business', 'here', 'Cross', 'New', '+91', 'STATE', ':', 'Delhi', 'CODE', ':', '07', 'Buyer', ':', 'Invoice', 'Date', '#', 'Complex', 'New', 'Delhi', \"Buyer's\", 'Order', ':', \"Supplier's\", ':', ':', 'State', 'New', 'Delhi', 'Code', '07', 'Payment', 'Mode', ':', 'Credit', ':', 'Delivery', 'Date', ':', 'Ship', 'Transport', 'Details', ':', 'Terms', 'Of', 'a', 'Description', '|', 'Unit', 'Rate', '|', 'Taxable', 'Net', 'Amount', '1', '12584', '2', 'Nos', '|', '200.00', '|', '|', '392.00', '411.60', '2', '45789', 'a', 'Nos', '99.00', '98.01', '109.77', '3', '45712', '2', 'Nos', '55.00', '108.90', '128.50', 'Total', '5', '598.91', '649.87', 'Our', 'Bank', 'Details', 'SUMMERY', 'AMOUNT', 'Bank', ':', 'STATE', 'BANK', 'OF', 'INDIA', 'Shipping', '&', 'Packaging', ':', 'Delhi', ':', '25.48', ':', '25.48', 'Round', 'off', 'Amount', '0.13', 'Total', 'Amount', '650.00', 'Amount', 'in', 'Words', ':', 'Rupees', 'Six', 'Hundred', 'Fifty', 'Only', 'Special', 'Instructions', 'For', 'Enterprises', '1.', 'Goods', 'once', 'sold', 'will', 'not', 'be', 'accepted', '2.', 'Described', 'And', 'That', 'Alll', 'Particulars', 'And', 'Correct', '3.', 'Our', 'responsibility', 'ceases', 'as', 'the', 'goods', 'leave', 'our', 'premises', 'Authorised', 'Signatory', 'This', 'A', 'Computer', 'Generated', 'Invoice']\n",
            "['Tax', 'Invoice', 'ORIGINAL', 'FOR', 'RECIPIENT', 'AKG', 'Enterprises', 'Deails:', 'Type', 'of', 'Your', 'Business', 'here', '#S-23,', '3rd', 'Cross', 'MTC', 'Building,', 'I.T.', 'Estate,', 'New', 'Delhi-145897', 'Ph:', '+91', '9035045XXX,', 'Email:', 'yourmail@gmail.com', 'GSTIN:', 'O7BGUPD3647XXXX', 'STATE', ':', 'Delhi', 'CODE', ':', '07', 'Buyer', ':', 'Ankita', 'Gupta', 'Invoice', 'No.', 'Date', '#', '103,', 'Nr', 'MT', 'Complex', 'New', 'Delhi', 'SL/112', '2-Aug-20', \"Buyer's\", 'Order', 'No.', ':', \"Supplier's\", 'Ref.', ':', 'Ph', ':', '65278553XX', 'BO/12589', 'SR/14589', 'State', 'New', 'Delhi', 'Code', '07', 'Payment', 'Mode', ':', 'Credit', 'GSTIN', ':', 'O7ASDO25SDF', 'Delivery', 'Date', ':', '2-Aug-20', 'Ship', 'To:', 'Transport', 'Details', ':', 'Terms', 'Of', 'Delivery:', 'a', 'Description', 'HSN', 'Qty.', '|', 'Unit', 'Rate', 'Dis%', '|', 'Taxable', 'GST%', 'Net', 'Amount', '1', 'Product-1', '12584', '2', 'Nos', '|', '200.00', '|', '2%', '|', '392.00', '5%', '411.60', '2', 'Product-2', '45789', 'a', 'Nos', '99.00', '1%', '98.01', '12%', '109.77', '3', 'Product-3', '45712', '2', 'Nos', '55.00', '1%', '108.90', '18%', '128.50', 'Total', '5', '598.91', '649.87', 'Our', 'Bank', 'Details', 'SUMMERY', 'AMOUNT', 'Bank', ':', 'STATE', 'BANK', 'OF', 'INDIA', 'Shipping', '&', 'Packaging', 'Barnch', ':', 'Delhi', 'A/cNo.', ':', '20412XXXX03', 'CGST', '25.48', 'IFSC', 'No.', ':', 'SBINOO3XXXX', 'SGST', '25.48', 'Round', 'off', 'Amount', '0.13', 'Total', 'Amount', '650.00', 'Amount', 'in', 'Words', ':', 'Rupees', 'Six', 'Hundred', 'Fifty', 'Only', 'Special', 'Instructions', 'For', 'AKG', 'Enterprises', '1.', 'Goods', 'once', 'sold', 'will', 'not', 'be', 'accepted', 'back.', '2.', 'Described', 'And', 'That', 'Alll', 'Particulars', 'AreTrue', 'And', 'Correct', '3.', 'Our', 'responsibility', 'ceases', 'as', 'the', 'goods', 'leave', 'our', 'premises', 'E.&O.E', 'Authorised', 'Signatory', 'This', 'ls', 'A', 'Computer', 'Generated', 'Invoice']\n",
            "/content/drive/MyDrive/images1/vgi/Perfect-Design-of-GST-Invoice-Format-in-Excel-Download-xlsx-file_std.jpg\n",
            "85\n",
            "160\n",
            "['INVOICE', 'Ref', 'Invoice', 'Order', 'Invoice', 'Date', 'Order', 'Date', 'Due', 'Date', 'ER', 'Phone', ':', '8888888888', 'Phone', ';', '8888888888', ':', '6969696969696969', ':', '6969696969696969', 'DESCRIPTION', 'RATE', 'TOTAL', 'Pa', '|', '|', '15', '|', 'rena', 'asa', 'Re', 'as', 'a', 'os', 'DISCOUNT', 'TAXABLE', 'AMOUNT', 'SERVICE', 'CHARGE', 'TAX', 'ROUND', 'es', '1.', 'Please', 'send', 'payment', 'within', '7', 'days', 'of', 'receiving', 'this', 'There', 'will', 'be', 'a', 'interest', 'charge', 'per', 'month', 'on', 'late', '2.', 'Please', 'Include', 'the', 'Invoice', 'number', 'in', 'your', 'payment', 'Authorized', 'If', 'you', 'have', 'any', 'queries', 'for', 'this', 'Invoice', 'please', 'contact', 'CUM', 'eee']\n",
            "['INVOICE', 'Ref', 'IDELEELLY)', 'Invoice', 'No.', 'Pat)', 'Order', '1D', 'EE27ET', 'Invoice', 'Date', '13-03-2021', 'Order', 'Date', 'FERUEBAIaS', 'Due', 'Date', 'ER', 'Emyes', 'BILLTO', 'Saale)', '‘TechGuruPlus', 'TechGuruPlus', 'Sector-200,', 'Noida,', 'U.P.', '‘Sector-200,', 'Noida,', 'U.P.', 'Uttar', 'Pradesh', 'Uttar', 'Pradesh,', 'Phone', ':', '8888888888', 'Phone', ';', '8888888888', '|GSTIN', ':', '6969696969696969', 'GSTIN', ':', '6969696969696969', 'SLNO.', 'DESCRIPTION', 'HSNNO.', 'QTY.', 'RATE', 'TOTAL', 'Pa', 'emnawen', '|', 'asus', '|', '15', '|', 'hs.225.00)', 'Rs.', '3,875.00', '[2', 'rena', 'asa', '[2s', '[23550]', 'fs', '6123.5]', '[a', '[rem', 'naea', '[206', '[58', '[_', '485.00]', 'Re', '28,130.00', 'sre', 'nares', 'as', '[2s', '[20]', 'fs', '375.0)', 'a', 'rh', 'rr', 'SS', '$=', 'PS', '——————————', 'os', 'CoE', 'DISCOUNT', '1.4%', 'Rs.', '1,078.50)', 'TAXABLE', 'AMOUNT', 'SERVICE', 'CHARGE', '2.0%', 'GST', 'TAX', '18.0%', 'ROUND', 'NZEe', 'es', 'CoeFerERey', '1.', 'Please', 'send', 'payment', 'within', '7', 'days', 'of', 'receiving', 'this', 'invoice.', 'There', 'will', 'be', 'a', '2.5%', 'interest', 'charge', 'per', 'month', 'on', 'late', 'invoices.', '2.', 'Please', 'inclue', 'Include', 'the', 'Invoice', 'number', 'in', 'your', 'payment', 'notes.', 'Authorized', 'Sign.', 'If', 'you', 'have', 'any', 'queries', 'for', 'this', 'Invoice', 'please', 'contact', '[+91XXXXXXXXXX],', 'example@mail.com', 'CUM', 'aa', 'eee']\n",
            "/content/drive/MyDrive/images1/vgi/tax-invoice._std.jpg\n",
            "41\n",
            "77\n",
            "['Tax', 'Invoice', 'Home', 'Appliances', '-', 'of', 'Supply', 'Tami', 'Electronics', 'TRIES', 'Ne', 'ac', 'ings', '1', 'oT', '|', 'Rate', 'Amount', '|', '|', '|', 'Transportation', 'ac', '5', 'Six', 'Lakh', 'Twenty', 'Two', 'Thousand', 'Two', 'Hundred', 'Only', 'Amount', '|', 'One', 'Lakh', 'Twelve', 'ind', 'Two', 'Hundred', 'Only']\n",
            "['Tax', 'Invoice', 'Praveen', 'Home', 'Appliances', \"R'233\", '“Anna', 'Nagar,', 'Chenner', 'esti,', '-', 'Sanxoeiveaater', 'Piace', 'of', 'Supply', '©', 'Tami', 'Nadu', '[Rohan', 'Electronics', 'TRIES', 'Ne', 'Daiee', 'ac', 'Sines', 'ings', '1', '21-Sep-2017', 'Daseipten', 'oT', 'Sooas', 'TENSAC]', 'Gat]', 'Guana', '|', 'Rate', '[par]', 'Amount', 'lesx8', '|', '28%|', '|', '\"Snos|', 's0,c00.00{nes]', '300,000.09', '|', '—5.00,000-09|', 'Transportation', 'Charges|', '40,000.00]', 'ac', '5', 'n8|', \"'6,22,200.00|\", '[hi', 'Six', 'Lakh', 'Twenty', 'Two', 'Thousand', 'Two', 'Hundred', 'Only', '[Tax', 'Amount', '(n', 'words)', '|', 'INR', 'One', 'Lakh', 'Twelve', 'Thow', 'ind', 'Two', 'Hundred', 'Only']\n",
            "/content/drive/MyDrive/images1/vgi/specimen-of-a-B2B-invoice-with-QR-code-908x1024._std.jpg\n",
            "70\n",
            "149\n",
            "['112010004620119', '1', '1', '113', 'Supplier', 'Ground', 'Wing', 'Purchaser', 'Test', 'Recipient', 'MOUNT', 'HIGH', 'Outer', 'Ring', 'Bangalore', 'Chennai', 'TAMIL', '4.', 'Details', '-', 'Item', 'Details', 'Taxable', '|', '|', 'Total', 'item', 'Description', 'Quantity', '|', 'Unit', 'Unit', 'Price', 'Value', '|', 'Value', 'and', '1', '1.000', '404000', '404000.', '476720.00', '2020', 'Total', 'of', 'all', '-', 'Total', 'Value', 'Details', 'Total', 'State', 'Ces', 'Total', 'Taxable', 'Total', 'Total', 'Total', 'Total', 'CESS', '|', 'Final', 'invoice', 'Value', 'cost', '|', 'value', '0.', '5.', 'Details']\n",
            "['  ', '_diris', 'YY', '|Ack.', 'No:', '112010004620119', '|Ack.', 'Date:', '17-08-2020', '1', 'IIRN:', '13a72d01b569e43cbdd73226', '1', '1ff2af99S2006c0807', '113', '15e08d', '10deBae32134', '|GSTIN:', '29AAACIS260R000', '[Test', 'Supplier', '|LS', 'Building,', 'Ground', 'Floor,', 'MLCP,', 'OTA', 'Uni-,', 'Wing', 'B,,', 'Manyata', 'Embassy)', 'Purchaser', '|GSTIN:', 'S3AAACIS260R002', 'Test', 'Recipient', 'INXT', 'CHENNAI,', '4,', 'CRR', 'BUILDING,,', 'MOUNT', 'POONAMALLE', 'HIGH', 'RD,', '[Business', 'Park,', 'Outer', 'Ring', 'Road,', 'Nagawara', 'Hobll', '|Manapakkam,', '[Bangalore', 'Bangalore', 'india,', 'Chennai', '[560045', 'KARNATAKA', '[600089', 'TAMIL', 'NADU', '4.', 'Goods/Services', 'Details', '-', 'Item', 'Details', 'Taxable', '|', 'TaxRate', '|', 'Total', 'item', 'Sr.No', '|Product|', 'Description', 'HSN', 'Quantity', '|', 'Unit', 'Unit', 'Price', 'Value', '(Rs)}', '(GST)%', '|', 'Value', '(Rs)', '|Operations', 'and', '1', 'ISuprt', 'fs', '1.000', '|OTH', '404000', '000}', '404000.', '18.00]', '476720.00', 'DaM-Juty', '2020', 'ec-', 'Total', 'of', 'all', 'tems', '-', 'Total', 'Value', 'Details', '(Rs)', 'Total', 'State', 'Ces', 'Total', 'Taxable', 'Total', 'Total', 'Total', 'Total', 'CESS', '(Advol', '‘Non', '|', 'Final', 'invoice', 'Value', 'cost', 'scsT', 'icst', '+Non', 'advon', '|', '“', 'value', 'Avo)', '404000.00}', '0.09]', '0.', '72720.00|', '0.09]', '0.09}', '476720.00}', '5.', 'E-WayBill', 'Details']\n"
          ]
        }
      ]
    },
    {
      "cell_type": "code",
      "source": [
        "gis=[]\n",
        "bis=[]\n",
        "vgis=[]\n",
        "vbis=[]\n",
        "\n",
        "\n",
        "path = \"/content/drive/MyDrive/images1/bi/*.*\"\n",
        "for file in glob.glob(path):\n",
        "   print(file)\n",
        "   imag = cv2.imread(file)\n",
        "   d = pytesseract.image_to_data(imag, output_type=Output.DICT)\n",
        "   nl = [x for x in d['text']if (x != '') and (x != ' ') and (x != '   ')]\n",
        "   n2 = [y for y in nl if y == spell.correction(y)]\n",
        "   print(len(n2))\n",
        "   print(len(nl))\n",
        "\n",
        "   ratio = 0 \n",
        "   if len(nl)>0:\n",
        "     ratio = (len(n2)/len(nl)) * 100\n",
        "\n",
        "   if len(n2) == 0:\n",
        "     vbis.append('bi')\n",
        "   elif ratio > 0 or ratio <= 15:\n",
        "     vbis.append('bi')\n",
        "   elif ratio > 15 or ratio <= 35:\n",
        "     bis.append('bi')\n",
        "   elif ratio > 35 or ratio <= 55:\n",
        "     gis.append('bi')\n",
        "   elif ratio > 55 or ratio <= 100:\n",
        "     vgis.append('bi')\n",
        "   else:\n",
        "     print(\"invalid\")\n",
        "\n",
        "# print(\"\\n-----------------------------------------------------------------------------------\\n\")\n",
        "path = \"/content/drive/MyDrive/images1/vgi/*.*\"\n",
        "for file in glob.glob(path):\n",
        "   print(file)\n",
        "   imag = cv2.imread(file)\n",
        "   d = pytesseract.image_to_data(imag, output_type=Output.DICT)\n",
        "   nl = [x for x in d['text']if (x != '') and (x != ' ') and (x != '   ')]\n",
        "   n2 = [y for y in nl if y == spell.correction(y)]\n",
        "   print(len(n2))\n",
        "   print(len(nl))\n",
        "\n",
        "   ratio = 0 \n",
        "   if len(nl)>0:\n",
        "     ratio = (len(n2)/len(nl)) * 100\n",
        "\n",
        "  \n",
        "   if len(n2) == 0:\n",
        "     vbis.append('vgi')\n",
        "   elif ratio > 0 or ratio <= 15:\n",
        "     vbis.append('vgi')\n",
        "   elif ratio > 15 or ratio <= 35:\n",
        "     bis.append('vgi')\n",
        "   elif ratio > 35 or ratio <= 55:\n",
        "     gis.append('vgi')\n",
        "   elif ratio > 55 or ratio <= 100:\n",
        "     vgis.append('vgi')\n",
        "   else:\n",
        "     print(\"invalid\")\n",
        "\n",
        "# print(\"\\n-----------------------------------------------------------------------------------\\n\")\n",
        "path = \"/content/drive/MyDrive/images1/gi/*.*\"\n",
        "for file in glob.glob(path):\n",
        "   print(file)\n",
        "   imag = cv2.imread(file)\n",
        "   d = pytesseract.image_to_data(imag, output_type=Output.DICT)\n",
        "   nl = [x for x in d['text']if (x != '') and (x != ' ') and (x != '   ')]\n",
        "   n2 = [y for y in nl if y == spell.correction(y)]\n",
        "   print(len(n2))\n",
        "   print(len(nl))\n",
        "\n",
        "   ratio = 0 \n",
        "   if len(nl)>0:\n",
        "     ratio = (len(n2)/len(nl)) * 100\n",
        "\n",
        "   if len(n2) == 0:\n",
        "     vbis.append('gi')\n",
        "   elif ratio > 0 or ratio <= 15:\n",
        "     vbis.append('gi')\n",
        "   elif ratio > 15 or ratio <= 35:\n",
        "     bis.append('gi')\n",
        "   elif ratio > 35 or ratio <= 55:\n",
        "     gis.append('gi')\n",
        "   elif ratio > 55 or ratio <= 100:\n",
        "     vgis.append('gi')\n",
        "   else:\n",
        "     print(\"invalid\")\n",
        "\n",
        "# print(\"\\n-----------------------------------------------------------------------------------\\n\")\n"
      ],
      "metadata": {
        "colab": {
          "base_uri": "https://localhost:8080/"
        },
        "id": "-_hFuB1Zw3F2",
        "outputId": "0b4a486c-2f18-4d1d-bced-4b182b4812d9"
      },
      "execution_count": null,
      "outputs": [
        {
          "output_type": "stream",
          "name": "stdout",
          "text": [
            "/content/drive/MyDrive/images1/bi/TTP-19-1012_gP2AGft_std.jpg\n",
            "29\n",
            "46\n",
            "/content/drive/MyDrive/images1/bi/PMI-472353-2_05Y3HcR_std.jpg\n",
            "32\n",
            "57\n",
            "/content/drive/MyDrive/images1/bi/PMI-472081-1_std.jpg\n",
            "0\n",
            "0\n",
            "/content/drive/MyDrive/images1/bi/PMI-472031-7_dot__std.jpg\n",
            "112\n",
            "220\n",
            "/content/drive/MyDrive/images1/bi/PMI-472634-1_std.jpg\n",
            "0\n",
            "4\n",
            "/content/drive/MyDrive/images1/bi/PMI-472353-1_std.jpg\n",
            "47\n",
            "76\n",
            "/content/drive/MyDrive/images1/bi/PMI-472000-2_std.jpg\n",
            "0\n",
            "0\n",
            "/content/drive/MyDrive/images1/bi/PMI-472031-2_std.jpg\n",
            "169\n",
            "324\n",
            "/content/drive/MyDrive/images1/bi/PMI-472394-1_4N1dKuu_std.jpg\n",
            "72\n",
            "138\n",
            "/content/drive/MyDrive/images1/bi/Testoil_Invoice_P17036_dot__std_std.jpg\n",
            "57\n",
            "117\n",
            "/content/drive/MyDrive/images1/vgi/55_Sogo_std.jpg\n",
            "274\n",
            "445\n",
            "/content/drive/MyDrive/images1/vgi/letterhead_invoice_template_ddca335294._std.jpg\n",
            "183\n",
            "256\n",
            "/content/drive/MyDrive/images1/vgi/invoice-sample-copy._std.jpg\n",
            "121\n",
            "229\n",
            "/content/drive/MyDrive/images1/vgi/aishka_may_month_vendor_invoice-2_std.jpg\n",
            "232\n",
            "359\n",
            "/content/drive/MyDrive/images1/vgi/FuelPump_Bill._std.jpg\n",
            "162\n",
            "253\n",
            "/content/drive/MyDrive/images1/vgi/invis1._std.jpg\n",
            "172\n",
            "268\n",
            "/content/drive/MyDrive/images1/vgi/Awesome-Template-of-GST-Invoice-Format-in-Excel-Download-xlsx-file_std.jpg\n",
            "87\n",
            "123\n",
            "/content/drive/MyDrive/images1/vgi/Book3._std.jpg\n",
            "41\n",
            "74\n",
            "/content/drive/MyDrive/images1/vgi/GST-Invoice-1._std.jpg\n",
            "62\n",
            "116\n",
            "/content/drive/MyDrive/images1/vgi/service_tax_invoice_format._std.jpg\n",
            "90\n",
            "193\n",
            "/content/drive/MyDrive/images1/vgi/gst-tax-invoice._std.jpg\n",
            "6\n",
            "13\n",
            "/content/drive/MyDrive/images1/vgi/GST-invoice-sample._std.jpg\n",
            "115\n",
            "198\n",
            "/content/drive/MyDrive/images1/vgi/tax-invoice-formatjpeg._std.jpg\n",
            "89\n",
            "149\n",
            "/content/drive/MyDrive/images1/vgi/1cf8f4113cd67d2f7e75b9985c1970d5._std.jpg\n",
            "83\n",
            "150\n",
            "/content/drive/MyDrive/images1/vgi/003-Sales-Order-2-Deposit-SST_1._std.jpg\n",
            "68\n",
            "152\n",
            "/content/drive/MyDrive/images1/vgi/fomat-of-gst-tax-invoice._std.jpg\n",
            "112\n",
            "163\n",
            "/content/drive/MyDrive/images1/vgi/tax-invoice-format-2-tallyprime._std.jpg\n",
            "111\n",
            "160\n",
            "/content/drive/MyDrive/images1/vgi/simplified-tax-invoice-2._std.jpg\n",
            "99\n",
            "145\n",
            "/content/drive/MyDrive/images1/vgi/4921_001-6_std.jpg\n",
            "140\n",
            "277\n",
            "/content/drive/MyDrive/images1/vgi/Tax-Invoice-GST._std.jpg\n",
            "74\n",
            "130\n",
            "/content/drive/MyDrive/images1/vgi/Sales_Invoice__19-20-001_std.jpg\n",
            "194\n",
            "317\n",
            "/content/drive/MyDrive/images1/vgi/New_Bill._std.jpg\n",
            "163\n",
            "223\n",
            "/content/drive/MyDrive/images1/vgi/Perfect-Design-of-GST-Invoice-Format-in-Excel-Download-xlsx-file_std.jpg\n",
            "85\n",
            "160\n",
            "/content/drive/MyDrive/images1/vgi/tax-invoice._std.jpg\n",
            "41\n",
            "77\n",
            "/content/drive/MyDrive/images1/vgi/specimen-of-a-B2B-invoice-with-QR-code-908x1024._std.jpg\n",
            "70\n",
            "149\n",
            "/content/drive/MyDrive/images1/gi/PMI-475376-1_std.jpg\n",
            "10\n",
            "20\n",
            "/content/drive/MyDrive/images1/gi/2084024865_std.jpg\n",
            "31\n",
            "60\n",
            "/content/drive/MyDrive/images1/gi/PMI-472131-1_std.jpg\n",
            "2\n",
            "4\n",
            "/content/drive/MyDrive/images1/gi/0000137486_std.jpg\n",
            "47\n",
            "92\n",
            "/content/drive/MyDrive/images1/gi/PMI-474722-1_std.jpg\n",
            "183\n",
            "298\n",
            "/content/drive/MyDrive/images1/gi/PMI-473789-1_dot__std.jpg\n",
            "0\n",
            "0\n",
            "/content/drive/MyDrive/images1/gi/PMI-471827-1_std.jpg\n",
            "127\n",
            "242\n",
            "/content/drive/MyDrive/images1/gi/maxresdefault._std.jpg\n",
            "80\n",
            "151\n",
            "/content/drive/MyDrive/images1/gi/PMI-476346-1_std.jpg\n",
            "72\n",
            "167\n",
            "/content/drive/MyDrive/images1/gi/image._std.jpg\n",
            "30\n",
            "59\n",
            "/content/drive/MyDrive/images1/gi/PMI-472031-3_std.jpg\n",
            "165\n",
            "250\n",
            "/content/drive/MyDrive/images1/gi/PMI-475064-1_dot__std.jpg\n",
            "136\n",
            "266\n",
            "/content/drive/MyDrive/images1/gi/PMI-472353-2_std.jpg\n",
            "54\n",
            "95\n"
          ]
        }
      ]
    },
    {
      "cell_type": "code",
      "source": [
        "gis=[]\n",
        "bis=[]\n",
        "vgis=[]\n",
        "vbis=[]\n",
        "\n",
        "path = \"/content/drive/MyDrive/images1/vbi/*.*\"\n",
        "for file in glob.glob(path):\n",
        "   print(file)\n",
        "   imag = cv2.imread(file)\n",
        "   d = pytesseract.image_to_data(imag, output_type=Output.DICT)\n",
        "   nl = [x for x in d['text']if (x != '') and (x != ' ') and (x != '   ')]\n",
        "   n2 = [y for y in nl if y == spell.correction(y)]\n",
        "   print(len(n2))\n",
        "   print(len(nl))\n",
        " \n",
        "\n",
        "   ratio = 0 \n",
        "   if len(nl)>0:\n",
        "     ratio = (len(n2)/len(nl)) * 100\n",
        "\n",
        "   print(ratio)\n",
        "\n",
        "   if len(n2) == 0:\n",
        "     vbis.append('vbi')\n",
        "   elif ratio > 0 and ratio <= 15:\n",
        "     vbis.append('vbi')\n",
        "   elif ratio > 15 and ratio <= 35:\n",
        "     bis.append('vbi')\n",
        "   elif ratio > 35 and ratio <= 55:\n",
        "     gis.append('vbi')\n",
        "   elif ratio > 55 and ratio <= 100:\n",
        "     vgis.append('vbi')\n",
        "   else:\n",
        "     print(\"invalid\")"
      ],
      "metadata": {
        "colab": {
          "base_uri": "https://localhost:8080/"
        },
        "id": "dv-QajirL1H8",
        "outputId": "3d990c8f-8ae6-4923-ac1b-9fb23a2da054"
      },
      "execution_count": null,
      "outputs": [
        {
          "output_type": "stream",
          "name": "stdout",
          "text": [
            "/content/drive/MyDrive/images1/vbi/PMI-478190-2_dot__std.jpg\n",
            "0\n",
            "0\n",
            "0\n",
            "/content/drive/MyDrive/images1/vbi/Untitled_design_1_std.jpg\n",
            "70\n",
            "145\n",
            "48.275862068965516\n",
            "/content/drive/MyDrive/images1/vbi/PMI-477440-2_std.jpg\n",
            "101\n",
            "152\n",
            "66.44736842105263\n",
            "/content/drive/MyDrive/images1/vbi/invoice1._std.jpg\n",
            "21\n",
            "41\n",
            "51.21951219512195\n",
            "/content/drive/MyDrive/images1/vbi/PMI-473520-2_std.jpg\n",
            "0\n",
            "0\n",
            "0\n",
            "/content/drive/MyDrive/images1/vbi/PMI-472634-3_std.jpg\n",
            "10\n",
            "23\n",
            "43.47826086956522\n",
            "/content/drive/MyDrive/images1/vbi/PMI-478190-2_pxsJaet_dot__std.jpg\n",
            "12\n",
            "16\n",
            "75.0\n",
            "/content/drive/MyDrive/images1/vbi/PMI-473789-4_std.jpg\n",
            "0\n",
            "0\n",
            "0\n",
            "/content/drive/MyDrive/images1/vbi/PMI-472634-4_dot__std.jpg\n",
            "21\n",
            "36\n",
            "58.333333333333336\n",
            "/content/drive/MyDrive/images1/vbi/PMI-471989-2_std.jpg\n",
            "2\n",
            "3\n",
            "66.66666666666666\n",
            "/content/drive/MyDrive/images1/vbi/PMI-472132-1_std.jpg\n",
            "11\n",
            "12\n",
            "91.66666666666666\n",
            "/content/drive/MyDrive/images1/vbi/PMI-474454-1_dot__std.jpg\n",
            "10\n",
            "13\n",
            "76.92307692307693\n",
            "/content/drive/MyDrive/images1/vbi/PMI-472353-1_xaS7e1F_std.jpg\n",
            "26\n",
            "32\n",
            "81.25\n",
            "/content/drive/MyDrive/images1/vbi/PMI-472000-1_std.jpg\n",
            "0\n",
            "0\n",
            "0\n",
            "/content/drive/MyDrive/images1/vbi/PMI-472634-2_std.jpg\n",
            "29\n",
            "47\n",
            "61.702127659574465\n",
            "/content/drive/MyDrive/images1/vbi/photo24_std.jpg\n",
            "2\n",
            "3\n",
            "66.66666666666666\n",
            "/content/drive/MyDrive/images1/vbi/Delhi_to_Office_DL-20-STF-30025_-_By_Road_Y8zQP4K_std_std.jpg\n",
            "174\n",
            "348\n",
            "50.0\n",
            "/content/drive/MyDrive/images1/vbi/PMI-474011-1_dot__std.jpg\n",
            "135\n",
            "214\n",
            "63.084112149532714\n",
            "/content/drive/MyDrive/images1/vbi/TTP-19-1012_std_std.jpg\n",
            "9\n",
            "15\n",
            "60.0\n",
            "/content/drive/MyDrive/images1/vbi/Untitled_design_std.jpg\n",
            "0\n",
            "0\n",
            "0\n",
            "/content/drive/MyDrive/images1/vbi/images._std.jpg\n",
            "2\n",
            "2\n",
            "100.0\n",
            "/content/drive/MyDrive/images1/vbi/PMI-471989-1_std.jpg\n",
            "4\n",
            "9\n",
            "44.44444444444444\n"
          ]
        }
      ]
    },
    {
      "cell_type": "code",
      "source": [
        "print(\"very g:  \",vgis)\n",
        "print(\"very b:  \",vbis)\n",
        "print(\"g:  \",gis)\n",
        "print(\"b:  \",bis)"
      ],
      "metadata": {
        "colab": {
          "base_uri": "https://localhost:8080/"
        },
        "id": "0aWql6ZmFgW7",
        "outputId": "0f9f905e-e2d8-4bf9-e4ef-5c2b607c874f"
      },
      "execution_count": null,
      "outputs": [
        {
          "output_type": "stream",
          "name": "stdout",
          "text": [
            "very g:   ['vbi', 'vbi', 'vbi', 'vbi', 'vbi', 'vbi', 'vbi', 'vbi', 'vbi', 'vbi', 'vbi', 'vbi']\n",
            "very b:   ['vbi', 'vbi', 'vbi', 'vbi', 'vbi']\n",
            "g:   ['vbi', 'vbi', 'vbi', 'vbi', 'vbi']\n",
            "b:   []\n"
          ]
        }
      ]
    },
    {
      "cell_type": "code",
      "source": [
        "import numpy as np\n",
        "import matplotlib.pyplot as plt\n",
        "import os\n",
        "import cv2\n",
        "from tqdm import tqdm\n",
        "\n",
        "DATADIR = \"/content/drive/MyDrive/images1/\"\n",
        "\n",
        "CATEGORIES = [\"vbi\", \"bi\",\"gi\",\"vgi\"]\n",
        "\n",
        "for category in CATEGORIES:  # do dogs and cats\n",
        "    path = os.path.join(DATADIR,category)  # create path to dogs and cats\n",
        "    for img in os.listdir(path):  # iterate over each image per dogs and cats\n",
        "        img_array = cv2.imread(os.path.join(path,img) ,cv2.IMREAD_GRAYSCALE)  # convert to array\n",
        "        plt.imshow(img_array, cmap='gray')  # graph it\n",
        "        plt.show()  # display!\n",
        "\n",
        "        break  # we just want one for now so break\n",
        "    break  #...and one more!"
      ],
      "metadata": {
        "colab": {
          "base_uri": "https://localhost:8080/",
          "height": 269
        },
        "id": "icxDSjQWRzig",
        "outputId": "580c4959-dc1d-4a3f-840c-53d842f02dbd"
      },
      "execution_count": null,
      "outputs": [
        {
          "output_type": "display_data",
          "data": {
            "text/plain": [
              "<Figure size 432x288 with 1 Axes>"
            ],
            "image/png": "[encoded data removed]"
          },
          "metadata": {
            "needs_background": "light"
          }
        }
      ]
    },
    {
      "cell_type": "code",
      "source": [
        "print(img_array)"
      ],
      "metadata": {
        "colab": {
          "base_uri": "https://localhost:8080/"
        },
        "id": "P_L26Z_hSeIt",
        "outputId": "cacfa114-cd90-48ff-cd20-1d7d4ceff3cb"
      },
      "execution_count": null,
      "outputs": [
        {
          "output_type": "stream",
          "name": "stdout",
          "text": [
            "[[255 255 255 ... 255 255 255]\n",
            " [255 255 255 ... 255 255 255]\n",
            " [255 255 255 ... 255 255 255]\n",
            " ...\n",
            " [255 255 255 ... 255 255 255]\n",
            " [255 255 255 ... 255 255 255]\n",
            " [255 255 255 ... 255 255 255]]\n"
          ]
        }
      ]
    },
    {
      "cell_type": "code",
      "source": [
        "print(img_array.shape)"
      ],
      "metadata": {
        "colab": {
          "base_uri": "https://localhost:8080/"
        },
        "id": "IsxAwePjSjwI",
        "outputId": "d75dd133-3e82-4765-bffa-ae2d18576671"
      },
      "execution_count": null,
      "outputs": [
        {
          "output_type": "stream",
          "name": "stdout",
          "text": [
            "(2347, 1655)\n"
          ]
        }
      ]
    },
    {
      "cell_type": "code",
      "source": [
        "IMG_SIZE = 50\n",
        "\n",
        "new_array = cv2.resize(img_array, (IMG_SIZE, IMG_SIZE))\n",
        "plt.imshow(new_array, cmap='gray')\n",
        "plt.show()\n"
      ],
      "metadata": {
        "colab": {
          "base_uri": "https://localhost:8080/",
          "height": 267
        },
        "id": "i-1uM-CaSp3J",
        "outputId": "58a4e9f9-90b4-4cb8-86ad-755ccbe1f9fb"
      },
      "execution_count": null,
      "outputs": [
        {
          "output_type": "display_data",
          "data": {
            "text/plain": [
              "<Figure size 432x288 with 1 Axes>"
            ],
            "image/png": "[encoded data removed]"
          },
          "metadata": {
            "needs_background": "light"
          }
        }
      ]
    },
    {
      "cell_type": "code",
      "source": [
        "new_array = cv2.resize(img_array, (IMG_SIZE, IMG_SIZE))\n",
        "plt.imshow(new_array, cmap='gray')\n",
        "plt.show()"
      ],
      "metadata": {
        "colab": {
          "base_uri": "https://localhost:8080/",
          "height": 267
        },
        "id": "etF2BkCDSwEg",
        "outputId": "fbb91714-f0d0-4686-8502-7dcc5e263820"
      },
      "execution_count": null,
      "outputs": [
        {
          "output_type": "display_data",
          "data": {
            "text/plain": [
              "<Figure size 432x288 with 1 Axes>"
            ],
            "image/png": "[encoded data removed]"
          },
          "metadata": {
            "needs_background": "light"
          }
        }
      ]
    },
    {
      "cell_type": "code",
      "source": [
        "training_data = []\n",
        "\n",
        "def create_training_data():\n",
        "    for category in CATEGORIES:  # do dogs and cats\n",
        "\n",
        "        path = os.path.join(DATADIR,category)  # create path to dogs and cats\n",
        "        class_num = CATEGORIES.index(category)  # get the classification  (0 or a 1). 0=dog 1=cat\n",
        "\n",
        "        for img in tqdm(os.listdir(path)):  # iterate over each image per dogs and cats\n",
        "            try:\n",
        "                img_array = cv2.imread(os.path.join(path,img) ,cv2.IMREAD_GRAYSCALE)  # convert to array\n",
        "                new_array = cv2.resize(img_array, (IMG_SIZE, IMG_SIZE))  # resize to normalize data size\n",
        "                training_data.append([new_array, class_num])  # add this to our training_data\n",
        "            except Exception as e:  # in the interest in keeping the output clean...\n",
        "                pass\n",
        "            #except OSError as e:\n",
        "            #    print(\"OSErrroBad img most likely\", e, os.path.join(path,img))\n",
        "            #except Exception as e:\n",
        "            #    print(\"general exception\", e, os.path.join(path,img))\n",
        "\n",
        "create_training_data()\n",
        "\n",
        "print(len(training_data))"
      ],
      "metadata": {
        "colab": {
          "base_uri": "https://localhost:8080/"
        },
        "id": "dWXVGhL7S6Hx",
        "outputId": "74c1ac3b-a61a-4482-ac8d-16b5dcc7e965"
      },
      "execution_count": null,
      "outputs": [
        {
          "output_type": "stream",
          "name": "stderr",
          "text": [
            "100%|██████████| 22/22 [00:01<00:00, 20.94it/s]\n",
            "100%|██████████| 10/10 [00:00<00:00, 17.71it/s]\n",
            "100%|██████████| 13/13 [00:00<00:00, 22.27it/s]\n",
            "100%|██████████| 25/25 [00:00<00:00, 45.87it/s]"
          ]
        },
        {
          "output_type": "stream",
          "name": "stdout",
          "text": [
            "70\n"
          ]
        },
        {
          "output_type": "stream",
          "name": "stderr",
          "text": [
            "\n"
          ]
        }
      ]
    },
    {
      "cell_type": "code",
      "source": [
        "import random\n",
        "\n",
        "random.shuffle(training_data)"
      ],
      "metadata": {
        "id": "JPL704DHTQl3"
      },
      "execution_count": null,
      "outputs": []
    },
    {
      "cell_type": "code",
      "source": [
        "for sample in training_data[:10]:\n",
        "    print(sample[1])"
      ],
      "metadata": {
        "colab": {
          "base_uri": "https://localhost:8080/"
        },
        "id": "yjfbHh00TUwZ",
        "outputId": "d5ec255e-abb1-418d-eabd-65fe2a0fe750"
      },
      "execution_count": null,
      "outputs": [
        {
          "output_type": "stream",
          "name": "stdout",
          "text": [
            "3\n",
            "0\n",
            "0\n",
            "1\n",
            "3\n",
            "3\n",
            "3\n",
            "0\n",
            "3\n",
            "3\n"
          ]
        }
      ]
    },
    {
      "cell_type": "code",
      "source": [
        "X = []\n",
        "y = []\n",
        "\n",
        "for features,label in training_data:\n",
        "    X.append(features)\n",
        "    y.append(label)\n",
        "\n",
        "print(X[0].reshape(-1, IMG_SIZE, IMG_SIZE, 1))\n",
        "\n",
        "X = np.array(X).reshape(-1, IMG_SIZE, IMG_SIZE, 1)"
      ],
      "metadata": {
        "colab": {
          "base_uri": "https://localhost:8080/"
        },
        "id": "ESPd0r8mTggx",
        "outputId": "1706ca5d-27ab-49bf-e53f-e1d16cc9f246"
      },
      "execution_count": null,
      "outputs": [
        {
          "output_type": "stream",
          "name": "stdout",
          "text": [
            "[[[[255]\n",
            "   [255]\n",
            "   [255]\n",
            "   ...\n",
            "   [255]\n",
            "   [255]\n",
            "   [255]]\n",
            "\n",
            "  [[255]\n",
            "   [255]\n",
            "   [255]\n",
            "   ...\n",
            "   [255]\n",
            "   [255]\n",
            "   [255]]\n",
            "\n",
            "  [[255]\n",
            "   [255]\n",
            "   [254]\n",
            "   ...\n",
            "   [255]\n",
            "   [113]\n",
            "   [255]]\n",
            "\n",
            "  ...\n",
            "\n",
            "  [[255]\n",
            "   [255]\n",
            "   [253]\n",
            "   ...\n",
            "   [247]\n",
            "   [112]\n",
            "   [255]]\n",
            "\n",
            "  [[255]\n",
            "   [255]\n",
            "   [255]\n",
            "   ...\n",
            "   [255]\n",
            "   [255]\n",
            "   [255]]\n",
            "\n",
            "  [[255]\n",
            "   [255]\n",
            "   [255]\n",
            "   ...\n",
            "   [255]\n",
            "   [255]\n",
            "   [255]]]]\n"
          ]
        }
      ]
    },
    {
      "cell_type": "code",
      "source": [
        "import pickle\n",
        "\n",
        "pickle_out = open(\"X.pickle\",\"wb\")\n",
        "pickle.dump(X, pickle_out)\n",
        "pickle_out.close()\n",
        "\n",
        "pickle_out = open(\"y.pickle\",\"wb\")\n",
        "pickle.dump(y, pickle_out)\n",
        "pickle_out.close()\n",
        "\n",
        "\n"
      ],
      "metadata": {
        "id": "Iok4DHCDTpi0"
      },
      "execution_count": null,
      "outputs": []
    }
  ]
}